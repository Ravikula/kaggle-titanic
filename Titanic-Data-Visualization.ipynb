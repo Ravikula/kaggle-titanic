{
 "cells": [
  {
   "cell_type": "code",
   "execution_count": 1,
   "id": "c58aabae",
   "metadata": {
    "_cell_guid": "b1076dfc-b9ad-4769-8c92-a6c4dae69d19",
    "_uuid": "8f2839f25d086af736a60e9eeb907d3b93b6e0e5",
    "execution": {
     "iopub.execute_input": "2022-05-30T20:56:55.837423Z",
     "iopub.status.busy": "2022-05-30T20:56:55.836798Z",
     "iopub.status.idle": "2022-05-30T20:56:56.985546Z",
     "shell.execute_reply": "2022-05-30T20:56:56.984515Z"
    },
    "papermill": {
     "duration": 1.161183,
     "end_time": "2022-05-30T20:56:56.988305",
     "exception": false,
     "start_time": "2022-05-30T20:56:55.827122",
     "status": "completed"
    },
    "tags": []
   },
   "outputs": [
    {
     "name": "stdout",
     "output_type": "stream",
     "text": [
      "/kaggle/input/titanic/train.csv\n",
      "/kaggle/input/titanic/test.csv\n",
      "/kaggle/input/titanic/gender_submission.csv\n"
     ]
    }
   ],
   "source": [
    "from __future__ import absolute_import, division, print_function, unicode_literals\n",
    "\n",
    "import numpy as np \n",
    "import pandas as pd \n",
    "import matplotlib.pyplot as plt\n",
    "import seaborn as sns\n",
    "\n",
    "%matplotlib inline\n",
    "import os\n",
    "for dirname, _, filenames in os.walk('/kaggle/input'):\n",
    "    for filename in filenames:\n",
    "        print(os.path.join(dirname, filename))"
   ]
  },
  {
   "cell_type": "code",
   "execution_count": 2,
   "id": "f911f9ff",
   "metadata": {
    "execution": {
     "iopub.execute_input": "2022-05-30T20:56:57.000076Z",
     "iopub.status.busy": "2022-05-30T20:56:56.999399Z",
     "iopub.status.idle": "2022-05-30T20:56:57.003995Z",
     "shell.execute_reply": "2022-05-30T20:56:57.003115Z"
    },
    "papermill": {
     "duration": 0.012724,
     "end_time": "2022-05-30T20:56:57.006135",
     "exception": false,
     "start_time": "2022-05-30T20:56:56.993411",
     "status": "completed"
    },
    "tags": []
   },
   "outputs": [],
   "source": [
    "#VISUALISING AND UNDERSTANDING THE DATASET"
   ]
  },
  {
   "cell_type": "code",
   "execution_count": 3,
   "id": "69c40112",
   "metadata": {
    "execution": {
     "iopub.execute_input": "2022-05-30T20:56:57.017416Z",
     "iopub.status.busy": "2022-05-30T20:56:57.016902Z",
     "iopub.status.idle": "2022-05-30T20:56:57.069314Z",
     "shell.execute_reply": "2022-05-30T20:56:57.068340Z"
    },
    "papermill": {
     "duration": 0.060402,
     "end_time": "2022-05-30T20:56:57.071319",
     "exception": false,
     "start_time": "2022-05-30T20:56:57.010917",
     "status": "completed"
    },
    "tags": []
   },
   "outputs": [
    {
     "data": {
      "text/html": [
       "<div>\n",
       "<style scoped>\n",
       "    .dataframe tbody tr th:only-of-type {\n",
       "        vertical-align: middle;\n",
       "    }\n",
       "\n",
       "    .dataframe tbody tr th {\n",
       "        vertical-align: top;\n",
       "    }\n",
       "\n",
       "    .dataframe thead th {\n",
       "        text-align: right;\n",
       "    }\n",
       "</style>\n",
       "<table border=\"1\" class=\"dataframe\">\n",
       "  <thead>\n",
       "    <tr style=\"text-align: right;\">\n",
       "      <th></th>\n",
       "      <th>PassengerId</th>\n",
       "      <th>Survived</th>\n",
       "      <th>Pclass</th>\n",
       "      <th>Name</th>\n",
       "      <th>Sex</th>\n",
       "      <th>Age</th>\n",
       "      <th>SibSp</th>\n",
       "      <th>Parch</th>\n",
       "      <th>Ticket</th>\n",
       "      <th>Fare</th>\n",
       "      <th>Cabin</th>\n",
       "      <th>Embarked</th>\n",
       "    </tr>\n",
       "  </thead>\n",
       "  <tbody>\n",
       "    <tr>\n",
       "      <th>0</th>\n",
       "      <td>1</td>\n",
       "      <td>0</td>\n",
       "      <td>3</td>\n",
       "      <td>Braund, Mr. Owen Harris</td>\n",
       "      <td>male</td>\n",
       "      <td>22.0</td>\n",
       "      <td>1</td>\n",
       "      <td>0</td>\n",
       "      <td>A/5 21171</td>\n",
       "      <td>7.2500</td>\n",
       "      <td>NaN</td>\n",
       "      <td>S</td>\n",
       "    </tr>\n",
       "    <tr>\n",
       "      <th>1</th>\n",
       "      <td>2</td>\n",
       "      <td>1</td>\n",
       "      <td>1</td>\n",
       "      <td>Cumings, Mrs. John Bradley (Florence Briggs Th...</td>\n",
       "      <td>female</td>\n",
       "      <td>38.0</td>\n",
       "      <td>1</td>\n",
       "      <td>0</td>\n",
       "      <td>PC 17599</td>\n",
       "      <td>71.2833</td>\n",
       "      <td>C85</td>\n",
       "      <td>C</td>\n",
       "    </tr>\n",
       "    <tr>\n",
       "      <th>2</th>\n",
       "      <td>3</td>\n",
       "      <td>1</td>\n",
       "      <td>3</td>\n",
       "      <td>Heikkinen, Miss. Laina</td>\n",
       "      <td>female</td>\n",
       "      <td>26.0</td>\n",
       "      <td>0</td>\n",
       "      <td>0</td>\n",
       "      <td>STON/O2. 3101282</td>\n",
       "      <td>7.9250</td>\n",
       "      <td>NaN</td>\n",
       "      <td>S</td>\n",
       "    </tr>\n",
       "    <tr>\n",
       "      <th>3</th>\n",
       "      <td>4</td>\n",
       "      <td>1</td>\n",
       "      <td>1</td>\n",
       "      <td>Futrelle, Mrs. Jacques Heath (Lily May Peel)</td>\n",
       "      <td>female</td>\n",
       "      <td>35.0</td>\n",
       "      <td>1</td>\n",
       "      <td>0</td>\n",
       "      <td>113803</td>\n",
       "      <td>53.1000</td>\n",
       "      <td>C123</td>\n",
       "      <td>S</td>\n",
       "    </tr>\n",
       "    <tr>\n",
       "      <th>4</th>\n",
       "      <td>5</td>\n",
       "      <td>0</td>\n",
       "      <td>3</td>\n",
       "      <td>Allen, Mr. William Henry</td>\n",
       "      <td>male</td>\n",
       "      <td>35.0</td>\n",
       "      <td>0</td>\n",
       "      <td>0</td>\n",
       "      <td>373450</td>\n",
       "      <td>8.0500</td>\n",
       "      <td>NaN</td>\n",
       "      <td>S</td>\n",
       "    </tr>\n",
       "  </tbody>\n",
       "</table>\n",
       "</div>"
      ],
      "text/plain": [
       "   PassengerId  Survived  Pclass  \\\n",
       "0            1         0       3   \n",
       "1            2         1       1   \n",
       "2            3         1       3   \n",
       "3            4         1       1   \n",
       "4            5         0       3   \n",
       "\n",
       "                                                Name     Sex   Age  SibSp  \\\n",
       "0                            Braund, Mr. Owen Harris    male  22.0      1   \n",
       "1  Cumings, Mrs. John Bradley (Florence Briggs Th...  female  38.0      1   \n",
       "2                             Heikkinen, Miss. Laina  female  26.0      0   \n",
       "3       Futrelle, Mrs. Jacques Heath (Lily May Peel)  female  35.0      1   \n",
       "4                           Allen, Mr. William Henry    male  35.0      0   \n",
       "\n",
       "   Parch            Ticket     Fare Cabin Embarked  \n",
       "0      0         A/5 21171   7.2500   NaN        S  \n",
       "1      0          PC 17599  71.2833   C85        C  \n",
       "2      0  STON/O2. 3101282   7.9250   NaN        S  \n",
       "3      0            113803  53.1000  C123        S  \n",
       "4      0            373450   8.0500   NaN        S  "
      ]
     },
     "execution_count": 3,
     "metadata": {},
     "output_type": "execute_result"
    }
   ],
   "source": [
    "dftrain=pd.read_csv('/kaggle/input/titanic/train.csv')\n",
    "dfeval=pd.read_csv('/kaggle/input/titanic/test.csv')\n",
    "\n",
    "dftrain.head()"
   ]
  },
  {
   "cell_type": "code",
   "execution_count": 4,
   "id": "3dc05047",
   "metadata": {
    "execution": {
     "iopub.execute_input": "2022-05-30T20:56:57.083793Z",
     "iopub.status.busy": "2022-05-30T20:56:57.083359Z",
     "iopub.status.idle": "2022-05-30T20:56:57.126277Z",
     "shell.execute_reply": "2022-05-30T20:56:57.125305Z"
    },
    "papermill": {
     "duration": 0.051706,
     "end_time": "2022-05-30T20:56:57.128392",
     "exception": false,
     "start_time": "2022-05-30T20:56:57.076686",
     "status": "completed"
    },
    "tags": []
   },
   "outputs": [
    {
     "data": {
      "text/html": [
       "<div>\n",
       "<style scoped>\n",
       "    .dataframe tbody tr th:only-of-type {\n",
       "        vertical-align: middle;\n",
       "    }\n",
       "\n",
       "    .dataframe tbody tr th {\n",
       "        vertical-align: top;\n",
       "    }\n",
       "\n",
       "    .dataframe thead th {\n",
       "        text-align: right;\n",
       "    }\n",
       "</style>\n",
       "<table border=\"1\" class=\"dataframe\">\n",
       "  <thead>\n",
       "    <tr style=\"text-align: right;\">\n",
       "      <th></th>\n",
       "      <th>PassengerId</th>\n",
       "      <th>Survived</th>\n",
       "      <th>Pclass</th>\n",
       "      <th>Age</th>\n",
       "      <th>SibSp</th>\n",
       "      <th>Parch</th>\n",
       "      <th>Fare</th>\n",
       "    </tr>\n",
       "  </thead>\n",
       "  <tbody>\n",
       "    <tr>\n",
       "      <th>count</th>\n",
       "      <td>891.000000</td>\n",
       "      <td>891.000000</td>\n",
       "      <td>891.000000</td>\n",
       "      <td>714.000000</td>\n",
       "      <td>891.000000</td>\n",
       "      <td>891.000000</td>\n",
       "      <td>891.000000</td>\n",
       "    </tr>\n",
       "    <tr>\n",
       "      <th>mean</th>\n",
       "      <td>446.000000</td>\n",
       "      <td>0.383838</td>\n",
       "      <td>2.308642</td>\n",
       "      <td>29.699118</td>\n",
       "      <td>0.523008</td>\n",
       "      <td>0.381594</td>\n",
       "      <td>32.204208</td>\n",
       "    </tr>\n",
       "    <tr>\n",
       "      <th>std</th>\n",
       "      <td>257.353842</td>\n",
       "      <td>0.486592</td>\n",
       "      <td>0.836071</td>\n",
       "      <td>14.526497</td>\n",
       "      <td>1.102743</td>\n",
       "      <td>0.806057</td>\n",
       "      <td>49.693429</td>\n",
       "    </tr>\n",
       "    <tr>\n",
       "      <th>min</th>\n",
       "      <td>1.000000</td>\n",
       "      <td>0.000000</td>\n",
       "      <td>1.000000</td>\n",
       "      <td>0.420000</td>\n",
       "      <td>0.000000</td>\n",
       "      <td>0.000000</td>\n",
       "      <td>0.000000</td>\n",
       "    </tr>\n",
       "    <tr>\n",
       "      <th>25%</th>\n",
       "      <td>223.500000</td>\n",
       "      <td>0.000000</td>\n",
       "      <td>2.000000</td>\n",
       "      <td>20.125000</td>\n",
       "      <td>0.000000</td>\n",
       "      <td>0.000000</td>\n",
       "      <td>7.910400</td>\n",
       "    </tr>\n",
       "    <tr>\n",
       "      <th>50%</th>\n",
       "      <td>446.000000</td>\n",
       "      <td>0.000000</td>\n",
       "      <td>3.000000</td>\n",
       "      <td>28.000000</td>\n",
       "      <td>0.000000</td>\n",
       "      <td>0.000000</td>\n",
       "      <td>14.454200</td>\n",
       "    </tr>\n",
       "    <tr>\n",
       "      <th>75%</th>\n",
       "      <td>668.500000</td>\n",
       "      <td>1.000000</td>\n",
       "      <td>3.000000</td>\n",
       "      <td>38.000000</td>\n",
       "      <td>1.000000</td>\n",
       "      <td>0.000000</td>\n",
       "      <td>31.000000</td>\n",
       "    </tr>\n",
       "    <tr>\n",
       "      <th>max</th>\n",
       "      <td>891.000000</td>\n",
       "      <td>1.000000</td>\n",
       "      <td>3.000000</td>\n",
       "      <td>80.000000</td>\n",
       "      <td>8.000000</td>\n",
       "      <td>6.000000</td>\n",
       "      <td>512.329200</td>\n",
       "    </tr>\n",
       "  </tbody>\n",
       "</table>\n",
       "</div>"
      ],
      "text/plain": [
       "       PassengerId    Survived      Pclass         Age       SibSp  \\\n",
       "count   891.000000  891.000000  891.000000  714.000000  891.000000   \n",
       "mean    446.000000    0.383838    2.308642   29.699118    0.523008   \n",
       "std     257.353842    0.486592    0.836071   14.526497    1.102743   \n",
       "min       1.000000    0.000000    1.000000    0.420000    0.000000   \n",
       "25%     223.500000    0.000000    2.000000   20.125000    0.000000   \n",
       "50%     446.000000    0.000000    3.000000   28.000000    0.000000   \n",
       "75%     668.500000    1.000000    3.000000   38.000000    1.000000   \n",
       "max     891.000000    1.000000    3.000000   80.000000    8.000000   \n",
       "\n",
       "            Parch        Fare  \n",
       "count  891.000000  891.000000  \n",
       "mean     0.381594   32.204208  \n",
       "std      0.806057   49.693429  \n",
       "min      0.000000    0.000000  \n",
       "25%      0.000000    7.910400  \n",
       "50%      0.000000   14.454200  \n",
       "75%      0.000000   31.000000  \n",
       "max      6.000000  512.329200  "
      ]
     },
     "execution_count": 4,
     "metadata": {},
     "output_type": "execute_result"
    }
   ],
   "source": [
    "#observing the data set\n",
    "dftrain.describe()"
   ]
  },
  {
   "cell_type": "code",
   "execution_count": 5,
   "id": "ff1e7338",
   "metadata": {
    "execution": {
     "iopub.execute_input": "2022-05-30T20:56:57.140753Z",
     "iopub.status.busy": "2022-05-30T20:56:57.140186Z",
     "iopub.status.idle": "2022-05-30T20:56:57.157916Z",
     "shell.execute_reply": "2022-05-30T20:56:57.156856Z"
    },
    "papermill": {
     "duration": 0.026253,
     "end_time": "2022-05-30T20:56:57.159980",
     "exception": false,
     "start_time": "2022-05-30T20:56:57.133727",
     "status": "completed"
    },
    "tags": []
   },
   "outputs": [
    {
     "name": "stdout",
     "output_type": "stream",
     "text": [
      "<class 'pandas.core.frame.DataFrame'>\n",
      "RangeIndex: 891 entries, 0 to 890\n",
      "Data columns (total 12 columns):\n",
      " #   Column       Non-Null Count  Dtype  \n",
      "---  ------       --------------  -----  \n",
      " 0   PassengerId  891 non-null    int64  \n",
      " 1   Survived     891 non-null    int64  \n",
      " 2   Pclass       891 non-null    int64  \n",
      " 3   Name         891 non-null    object \n",
      " 4   Sex          891 non-null    object \n",
      " 5   Age          714 non-null    float64\n",
      " 6   SibSp        891 non-null    int64  \n",
      " 7   Parch        891 non-null    int64  \n",
      " 8   Ticket       891 non-null    object \n",
      " 9   Fare         891 non-null    float64\n",
      " 10  Cabin        204 non-null    object \n",
      " 11  Embarked     889 non-null    object \n",
      "dtypes: float64(2), int64(5), object(5)\n",
      "memory usage: 83.7+ KB\n"
     ]
    }
   ],
   "source": [
    "dftrain.info()"
   ]
  },
  {
   "cell_type": "code",
   "execution_count": 6,
   "id": "1cd14e18",
   "metadata": {
    "execution": {
     "iopub.execute_input": "2022-05-30T20:56:57.172602Z",
     "iopub.status.busy": "2022-05-30T20:56:57.171632Z",
     "iopub.status.idle": "2022-05-30T20:56:57.191647Z",
     "shell.execute_reply": "2022-05-30T20:56:57.190567Z"
    },
    "papermill": {
     "duration": 0.028529,
     "end_time": "2022-05-30T20:56:57.193871",
     "exception": false,
     "start_time": "2022-05-30T20:56:57.165342",
     "status": "completed"
    },
    "tags": []
   },
   "outputs": [
    {
     "name": "stdout",
     "output_type": "stream",
     "text": [
      "             Missing Data  Missing (%)\n",
      "Cabin                 687        77.10\n",
      "Age                   177        19.87\n",
      "Embarked                2         0.22\n",
      "PassengerId             0         0.00\n",
      "Survived                0         0.00\n",
      "Pclass                  0         0.00\n",
      "Name                    0         0.00\n",
      "Sex                     0         0.00\n",
      "SibSp                   0         0.00\n",
      "Parch                   0         0.00\n",
      "Ticket                  0         0.00\n",
      "Fare                    0         0.00\n"
     ]
    }
   ],
   "source": [
    "#missing data values\n",
    "total=dftrain.isnull().sum().sort_values(ascending=False)\n",
    "null_percentage=round(total*100/dftrain.isnull().count(),2)\n",
    "missing_data=pd.concat([total,null_percentage],axis=1,keys=['Missing Data','Missing (%)'])\n",
    "print(missing_data)"
   ]
  },
  {
   "cell_type": "code",
   "execution_count": 7,
   "id": "2ad092c0",
   "metadata": {
    "execution": {
     "iopub.execute_input": "2022-05-30T20:56:57.206862Z",
     "iopub.status.busy": "2022-05-30T20:56:57.205830Z",
     "iopub.status.idle": "2022-05-30T20:56:57.461711Z",
     "shell.execute_reply": "2022-05-30T20:56:57.460536Z"
    },
    "papermill": {
     "duration": 0.264645,
     "end_time": "2022-05-30T20:56:57.463856",
     "exception": false,
     "start_time": "2022-05-30T20:56:57.199211",
     "status": "completed"
    },
    "tags": []
   },
   "outputs": [
    {
     "data": {
      "text/plain": [
       "<AxesSubplot:xlabel='Sex', ylabel='Survived'>"
      ]
     },
     "execution_count": 7,
     "metadata": {},
     "output_type": "execute_result"
    },
    {
     "data": {
      "image/png": "[encoded data removed]",
      "text/plain": [
       "<Figure size 432x288 with 1 Axes>"
      ]
     },
     "metadata": {
      "needs_background": "light"
     },
     "output_type": "display_data"
    }
   ],
   "source": [
    "#survival distribution among sex\n",
    "sns.barplot(x='Sex',y='Survived', data=dftrain)"
   ]
  },
  {
   "cell_type": "code",
   "execution_count": 8,
   "id": "5f9efc95",
   "metadata": {
    "execution": {
     "iopub.execute_input": "2022-05-30T20:56:57.477861Z",
     "iopub.status.busy": "2022-05-30T20:56:57.476872Z",
     "iopub.status.idle": "2022-05-30T20:56:57.804257Z",
     "shell.execute_reply": "2022-05-30T20:56:57.803181Z"
    },
    "papermill": {
     "duration": 0.336656,
     "end_time": "2022-05-30T20:56:57.806371",
     "exception": false,
     "start_time": "2022-05-30T20:56:57.469715",
     "status": "completed"
    },
    "tags": []
   },
   "outputs": [
    {
     "data": {
      "text/plain": [
       "<AxesSubplot:xlabel='Pclass', ylabel='Survived'>"
      ]
     },
     "execution_count": 8,
     "metadata": {},
     "output_type": "execute_result"
    },
    {
     "data": {
      "image/png": "[encoded data removed]",
      "text/plain": [
       "<Figure size 432x288 with 1 Axes>"
      ]
     },
     "metadata": {
      "needs_background": "light"
     },
     "output_type": "display_data"
    }
   ],
   "source": [
    "#survival distribution based on passenger class\n",
    "sns.barplot(x='Pclass',y='Survived',hue='Sex', data=dftrain)"
   ]
  },
  {
   "cell_type": "code",
   "execution_count": 9,
   "id": "cc685243",
   "metadata": {
    "execution": {
     "iopub.execute_input": "2022-05-30T20:56:57.820427Z",
     "iopub.status.busy": "2022-05-30T20:56:57.820028Z",
     "iopub.status.idle": "2022-05-30T20:56:58.393042Z",
     "shell.execute_reply": "2022-05-30T20:56:58.392116Z"
    },
    "papermill": {
     "duration": 0.58401,
     "end_time": "2022-05-30T20:56:58.396397",
     "exception": false,
     "start_time": "2022-05-30T20:56:57.812387",
     "status": "completed"
    },
    "tags": []
   },
   "outputs": [
    {
     "data": {
      "image/png": "[encoded data removed]",
      "text/plain": [
       "<Figure size 720x432 with 1 Axes>"
      ]
     },
     "metadata": {
      "needs_background": "light"
     },
     "output_type": "display_data"
    }
   ],
   "source": [
    "#survival distribution based ages ranges\n",
    "def get_age_catagory(age):\n",
    "    catagory=''\n",
    "    if age<=-1: \n",
    "        catagory='none'\n",
    "    elif age<=5:\n",
    "        catagory='baby'\n",
    "    elif age<=10:\n",
    "        catagory='child'\n",
    "    elif age<=18:\n",
    "        catagory='teen'\n",
    "    elif age<=25:\n",
    "        catagory='student'\n",
    "    elif age<=35:\n",
    "        catagory='young adult'\n",
    "    elif age<=60:\n",
    "        catagory='adult'\n",
    "    else:\n",
    "        catagory='elder'\n",
    "    return catagory\n",
    "\n",
    "plt.figure(figsize=(10,6))\n",
    "groups=['none','baby','child','teen','student','young adult','adult','elder']\n",
    "dftrain['age catagory']=dftrain['Age'].apply(lambda x:get_age_catagory(x))\n",
    "sns.barplot(x='age catagory', y='Survived', hue='Sex', data=dftrain, order=groups)\n",
    "dftrain.drop('age catagory', axis=1, inplace=True)"
   ]
  },
  {
   "cell_type": "code",
   "execution_count": 10,
   "id": "52ae32f4",
   "metadata": {
    "execution": {
     "iopub.execute_input": "2022-05-30T20:56:58.411981Z",
     "iopub.status.busy": "2022-05-30T20:56:58.411514Z",
     "iopub.status.idle": "2022-05-30T20:56:58.421992Z",
     "shell.execute_reply": "2022-05-30T20:56:58.421195Z"
    },
    "papermill": {
     "duration": 0.020902,
     "end_time": "2022-05-30T20:56:58.424070",
     "exception": false,
     "start_time": "2022-05-30T20:56:58.403168",
     "status": "completed"
    },
    "tags": []
   },
   "outputs": [],
   "source": [
    "dftrain['train_test']=1\n",
    "dfeval['train_test']=0\n",
    "dfeval['Survived']=np.NaN\n",
    "all_data=pd.concat([dftrain,dfeval])"
   ]
  },
  {
   "cell_type": "code",
   "execution_count": 11,
   "id": "8478eb49",
   "metadata": {
    "execution": {
     "iopub.execute_input": "2022-05-30T20:56:58.438746Z",
     "iopub.status.busy": "2022-05-30T20:56:58.437843Z",
     "iopub.status.idle": "2022-05-30T20:56:59.188457Z",
     "shell.execute_reply": "2022-05-30T20:56:59.187429Z"
    },
    "papermill": {
     "duration": 0.760506,
     "end_time": "2022-05-30T20:56:59.190772",
     "exception": false,
     "start_time": "2022-05-30T20:56:58.430266",
     "status": "completed"
    },
    "tags": []
   },
   "outputs": [
    {
     "data": {
      "image/png": "[encoded data removed]",
      "text/plain": [
       "<Figure size 432x288 with 1 Axes>"
      ]
     },
     "metadata": {
      "needs_background": "light"
     },
     "output_type": "display_data"
    },
    {
     "data": {
      "image/png": "[encoded data removed]",
      "text/plain": [
       "<Figure size 432x288 with 1 Axes>"
      ]
     },
     "metadata": {
      "needs_background": "light"
     },
     "output_type": "display_data"
    },
    {
     "data": {
      "image/png": "[encoded data removed]",
      "text/plain": [
       "<Figure size 432x288 with 1 Axes>"
      ]
     },
     "metadata": {
      "needs_background": "light"
     },
     "output_type": "display_data"
    },
    {
     "data": {
      "image/png": "[encoded data removed]",
      "text/plain": [
       "<Figure size 432x288 with 1 Axes>"
      ]
     },
     "metadata": {
      "needs_background": "light"
     },
     "output_type": "display_data"
    }
   ],
   "source": [
    "#passenger distribution among different catagories\n",
    "df_num=dftrain[['Age','SibSp','Parch','Fare']]\n",
    "df_cat = dftrain[['Survived','Pclass','Sex','Ticket','Cabin','Embarked']]\n",
    "\n",
    "for i in df_num.columns:\n",
    "    plt.hist(dftrain[i])\n",
    "    plt.title(i)\n",
    "    plt.show()"
   ]
  },
  {
   "cell_type": "code",
   "execution_count": 12,
   "id": "1ca6468d",
   "metadata": {
    "execution": {
     "iopub.execute_input": "2022-05-30T20:56:59.206732Z",
     "iopub.status.busy": "2022-05-30T20:56:59.205988Z",
     "iopub.status.idle": "2022-05-30T20:56:59.383982Z",
     "shell.execute_reply": "2022-05-30T20:56:59.382112Z"
    },
    "papermill": {
     "duration": 0.18854,
     "end_time": "2022-05-30T20:56:59.386501",
     "exception": false,
     "start_time": "2022-05-30T20:56:59.197961",
     "status": "completed"
    },
    "tags": []
   },
   "outputs": [
    {
     "data": {
      "text/plain": [
       "<AxesSubplot:>"
      ]
     },
     "execution_count": 12,
     "metadata": {},
     "output_type": "execute_result"
    },
    {
     "data": {
      "image/png": "[encoded data removed]",
      "text/plain": [
       "<Figure size 432x288 with 2 Axes>"
      ]
     },
     "metadata": {
      "needs_background": "light"
     },
     "output_type": "display_data"
    }
   ],
   "source": [
    "#co-relation betweem different features.\n",
    "sns.heatmap(df_num.corr())"
   ]
  },
  {
   "cell_type": "code",
   "execution_count": 13,
   "id": "cc51ba24",
   "metadata": {
    "execution": {
     "iopub.execute_input": "2022-05-30T20:56:59.402441Z",
     "iopub.status.busy": "2022-05-30T20:56:59.402057Z",
     "iopub.status.idle": "2022-05-30T20:56:59.424424Z",
     "shell.execute_reply": "2022-05-30T20:56:59.423576Z"
    },
    "papermill": {
     "duration": 0.032633,
     "end_time": "2022-05-30T20:56:59.426324",
     "exception": false,
     "start_time": "2022-05-30T20:56:59.393691",
     "status": "completed"
    },
    "tags": []
   },
   "outputs": [
    {
     "data": {
      "text/html": [
       "<div>\n",
       "<style scoped>\n",
       "    .dataframe tbody tr th:only-of-type {\n",
       "        vertical-align: middle;\n",
       "    }\n",
       "\n",
       "    .dataframe tbody tr th {\n",
       "        vertical-align: top;\n",
       "    }\n",
       "\n",
       "    .dataframe thead th {\n",
       "        text-align: right;\n",
       "    }\n",
       "</style>\n",
       "<table border=\"1\" class=\"dataframe\">\n",
       "  <thead>\n",
       "    <tr style=\"text-align: right;\">\n",
       "      <th></th>\n",
       "      <th>Age</th>\n",
       "      <th>Fare</th>\n",
       "      <th>Parch</th>\n",
       "      <th>SibSp</th>\n",
       "    </tr>\n",
       "    <tr>\n",
       "      <th>Survived</th>\n",
       "      <th></th>\n",
       "      <th></th>\n",
       "      <th></th>\n",
       "      <th></th>\n",
       "    </tr>\n",
       "  </thead>\n",
       "  <tbody>\n",
       "    <tr>\n",
       "      <th>0</th>\n",
       "      <td>30.626179</td>\n",
       "      <td>22.117887</td>\n",
       "      <td>0.329690</td>\n",
       "      <td>0.553734</td>\n",
       "    </tr>\n",
       "    <tr>\n",
       "      <th>1</th>\n",
       "      <td>28.343690</td>\n",
       "      <td>48.395408</td>\n",
       "      <td>0.464912</td>\n",
       "      <td>0.473684</td>\n",
       "    </tr>\n",
       "  </tbody>\n",
       "</table>\n",
       "</div>"
      ],
      "text/plain": [
       "                Age       Fare     Parch     SibSp\n",
       "Survived                                          \n",
       "0         30.626179  22.117887  0.329690  0.553734\n",
       "1         28.343690  48.395408  0.464912  0.473684"
      ]
     },
     "execution_count": 13,
     "metadata": {},
     "output_type": "execute_result"
    }
   ],
   "source": [
    "#co-relation between survival rate and Age, No of Siblings, Parch and Fare\n",
    "pd.pivot_table(dftrain,index='Survived', values=['Age','SibSp','Parch','Fare'])"
   ]
  },
  {
   "cell_type": "code",
   "execution_count": 14,
   "id": "9f6e49f0",
   "metadata": {
    "execution": {
     "iopub.execute_input": "2022-05-30T20:56:59.442720Z",
     "iopub.status.busy": "2022-05-30T20:56:59.442165Z",
     "iopub.status.idle": "2022-05-30T20:56:59.459779Z",
     "shell.execute_reply": "2022-05-30T20:56:59.459054Z"
    },
    "papermill": {
     "duration": 0.027938,
     "end_time": "2022-05-30T20:56:59.461551",
     "exception": false,
     "start_time": "2022-05-30T20:56:59.433613",
     "status": "completed"
    },
    "tags": []
   },
   "outputs": [
    {
     "data": {
      "text/html": [
       "<div>\n",
       "<style scoped>\n",
       "    .dataframe tbody tr th:only-of-type {\n",
       "        vertical-align: middle;\n",
       "    }\n",
       "\n",
       "    .dataframe tbody tr th {\n",
       "        vertical-align: top;\n",
       "    }\n",
       "\n",
       "    .dataframe thead th {\n",
       "        text-align: right;\n",
       "    }\n",
       "</style>\n",
       "<table border=\"1\" class=\"dataframe\">\n",
       "  <thead>\n",
       "    <tr style=\"text-align: right;\">\n",
       "      <th>Pclass</th>\n",
       "      <th>1</th>\n",
       "      <th>2</th>\n",
       "      <th>3</th>\n",
       "    </tr>\n",
       "    <tr>\n",
       "      <th>Survived</th>\n",
       "      <th></th>\n",
       "      <th></th>\n",
       "      <th></th>\n",
       "    </tr>\n",
       "  </thead>\n",
       "  <tbody>\n",
       "    <tr>\n",
       "      <th>0</th>\n",
       "      <td>80</td>\n",
       "      <td>97</td>\n",
       "      <td>372</td>\n",
       "    </tr>\n",
       "    <tr>\n",
       "      <th>1</th>\n",
       "      <td>136</td>\n",
       "      <td>87</td>\n",
       "      <td>119</td>\n",
       "    </tr>\n",
       "  </tbody>\n",
       "</table>\n",
       "</div>"
      ],
      "text/plain": [
       "Pclass      1   2    3\n",
       "Survived              \n",
       "0          80  97  372\n",
       "1         136  87  119"
      ]
     },
     "execution_count": 14,
     "metadata": {},
     "output_type": "execute_result"
    }
   ],
   "source": [
    "#co-relation between survival and passenger classes\n",
    "pd.pivot_table(dftrain, index='Survived', columns='Pclass', values='Ticket', aggfunc='count')"
   ]
  },
  {
   "cell_type": "code",
   "execution_count": 15,
   "id": "b6e2191c",
   "metadata": {
    "execution": {
     "iopub.execute_input": "2022-05-30T20:56:59.478389Z",
     "iopub.status.busy": "2022-05-30T20:56:59.477755Z",
     "iopub.status.idle": "2022-05-30T20:56:59.493399Z",
     "shell.execute_reply": "2022-05-30T20:56:59.492694Z"
    },
    "papermill": {
     "duration": 0.026252,
     "end_time": "2022-05-30T20:56:59.495503",
     "exception": false,
     "start_time": "2022-05-30T20:56:59.469251",
     "status": "completed"
    },
    "tags": []
   },
   "outputs": [
    {
     "data": {
      "text/html": [
       "<div>\n",
       "<style scoped>\n",
       "    .dataframe tbody tr th:only-of-type {\n",
       "        vertical-align: middle;\n",
       "    }\n",
       "\n",
       "    .dataframe tbody tr th {\n",
       "        vertical-align: top;\n",
       "    }\n",
       "\n",
       "    .dataframe thead th {\n",
       "        text-align: right;\n",
       "    }\n",
       "</style>\n",
       "<table border=\"1\" class=\"dataframe\">\n",
       "  <thead>\n",
       "    <tr style=\"text-align: right;\">\n",
       "      <th>Sex</th>\n",
       "      <th>female</th>\n",
       "      <th>male</th>\n",
       "    </tr>\n",
       "    <tr>\n",
       "      <th>Survived</th>\n",
       "      <th></th>\n",
       "      <th></th>\n",
       "    </tr>\n",
       "  </thead>\n",
       "  <tbody>\n",
       "    <tr>\n",
       "      <th>0</th>\n",
       "      <td>81</td>\n",
       "      <td>468</td>\n",
       "    </tr>\n",
       "    <tr>\n",
       "      <th>1</th>\n",
       "      <td>233</td>\n",
       "      <td>109</td>\n",
       "    </tr>\n",
       "  </tbody>\n",
       "</table>\n",
       "</div>"
      ],
      "text/plain": [
       "Sex       female  male\n",
       "Survived              \n",
       "0             81   468\n",
       "1            233   109"
      ]
     },
     "execution_count": 15,
     "metadata": {},
     "output_type": "execute_result"
    }
   ],
   "source": [
    "#co-relation between survival and sex\n",
    "pd.pivot_table(dftrain, index='Survived', columns='Sex', values='Ticket', aggfunc='count')"
   ]
  },
  {
   "cell_type": "code",
   "execution_count": 16,
   "id": "c3c8172b",
   "metadata": {
    "execution": {
     "iopub.execute_input": "2022-05-30T20:56:59.512752Z",
     "iopub.status.busy": "2022-05-30T20:56:59.512144Z",
     "iopub.status.idle": "2022-05-30T20:56:59.515378Z",
     "shell.execute_reply": "2022-05-30T20:56:59.514792Z"
    },
    "papermill": {
     "duration": 0.01371,
     "end_time": "2022-05-30T20:56:59.517082",
     "exception": false,
     "start_time": "2022-05-30T20:56:59.503372",
     "status": "completed"
    },
    "tags": []
   },
   "outputs": [],
   "source": [
    "#FEATURE ENGINEERING"
   ]
  },
  {
   "cell_type": "code",
   "execution_count": 17,
   "id": "c04f5143",
   "metadata": {
    "execution": {
     "iopub.execute_input": "2022-05-30T20:56:59.534057Z",
     "iopub.status.busy": "2022-05-30T20:56:59.533642Z",
     "iopub.status.idle": "2022-05-30T20:56:59.544702Z",
     "shell.execute_reply": "2022-05-30T20:56:59.543688Z"
    },
    "papermill": {
     "duration": 0.02229,
     "end_time": "2022-05-30T20:56:59.546968",
     "exception": false,
     "start_time": "2022-05-30T20:56:59.524678",
     "status": "completed"
    },
    "tags": []
   },
   "outputs": [
    {
     "data": {
      "text/plain": [
       "0    687\n",
       "1    180\n",
       "2     16\n",
       "3      6\n",
       "4      2\n",
       "Name: no_of_cabins, dtype: int64"
      ]
     },
     "execution_count": 17,
     "metadata": {},
     "output_type": "execute_result"
    }
   ],
   "source": [
    "#checking whethe people had multiple cabins\n",
    "df_cat.Cabin\n",
    "dftrain['no_of_cabins']=dftrain.Cabin.apply(lambda x: 0 if pd.isna(x) else len(x.split(' ')))\n",
    "dftrain['no_of_cabins'].value_counts()"
   ]
  },
  {
   "cell_type": "code",
   "execution_count": 18,
   "id": "955a8e98",
   "metadata": {
    "execution": {
     "iopub.execute_input": "2022-05-30T20:56:59.564358Z",
     "iopub.status.busy": "2022-05-30T20:56:59.563937Z",
     "iopub.status.idle": "2022-05-30T20:56:59.583572Z",
     "shell.execute_reply": "2022-05-30T20:56:59.582630Z"
    },
    "papermill": {
     "duration": 0.030707,
     "end_time": "2022-05-30T20:56:59.585715",
     "exception": false,
     "start_time": "2022-05-30T20:56:59.555008",
     "status": "completed"
    },
    "tags": []
   },
   "outputs": [
    {
     "data": {
      "text/html": [
       "<div>\n",
       "<style scoped>\n",
       "    .dataframe tbody tr th:only-of-type {\n",
       "        vertical-align: middle;\n",
       "    }\n",
       "\n",
       "    .dataframe tbody tr th {\n",
       "        vertical-align: top;\n",
       "    }\n",
       "\n",
       "    .dataframe thead th {\n",
       "        text-align: right;\n",
       "    }\n",
       "</style>\n",
       "<table border=\"1\" class=\"dataframe\">\n",
       "  <thead>\n",
       "    <tr style=\"text-align: right;\">\n",
       "      <th>no_of_cabins</th>\n",
       "      <th>0</th>\n",
       "      <th>1</th>\n",
       "      <th>2</th>\n",
       "      <th>3</th>\n",
       "      <th>4</th>\n",
       "    </tr>\n",
       "    <tr>\n",
       "      <th>Survived</th>\n",
       "      <th></th>\n",
       "      <th></th>\n",
       "      <th></th>\n",
       "      <th></th>\n",
       "      <th></th>\n",
       "    </tr>\n",
       "  </thead>\n",
       "  <tbody>\n",
       "    <tr>\n",
       "      <th>0</th>\n",
       "      <td>481.0</td>\n",
       "      <td>58.0</td>\n",
       "      <td>7.0</td>\n",
       "      <td>3.0</td>\n",
       "      <td>NaN</td>\n",
       "    </tr>\n",
       "    <tr>\n",
       "      <th>1</th>\n",
       "      <td>206.0</td>\n",
       "      <td>122.0</td>\n",
       "      <td>9.0</td>\n",
       "      <td>3.0</td>\n",
       "      <td>2.0</td>\n",
       "    </tr>\n",
       "  </tbody>\n",
       "</table>\n",
       "</div>"
      ],
      "text/plain": [
       "no_of_cabins      0      1    2    3    4\n",
       "Survived                                 \n",
       "0             481.0   58.0  7.0  3.0  NaN\n",
       "1             206.0  122.0  9.0  3.0  2.0"
      ]
     },
     "execution_count": 18,
     "metadata": {},
     "output_type": "execute_result"
    }
   ],
   "source": [
    "pd.pivot_table(dftrain, index='Survived',columns=['no_of_cabins'],values='Name',aggfunc='count')"
   ]
  },
  {
   "cell_type": "code",
   "execution_count": 19,
   "id": "df14d60e",
   "metadata": {
    "execution": {
     "iopub.execute_input": "2022-05-30T20:56:59.603851Z",
     "iopub.status.busy": "2022-05-30T20:56:59.603250Z",
     "iopub.status.idle": "2022-05-30T20:56:59.631201Z",
     "shell.execute_reply": "2022-05-30T20:56:59.629706Z"
    },
    "papermill": {
     "duration": 0.040231,
     "end_time": "2022-05-30T20:56:59.633890",
     "exception": false,
     "start_time": "2022-05-30T20:56:59.593659",
     "status": "completed"
    },
    "tags": []
   },
   "outputs": [
    {
     "name": "stdout",
     "output_type": "stream",
     "text": [
      "n    687\n",
      "C     59\n",
      "B     47\n",
      "D     33\n",
      "E     32\n",
      "A     15\n",
      "F     13\n",
      "G      4\n",
      "T      1\n",
      "Name: cabin_type, dtype: int64\n"
     ]
    },
    {
     "data": {
      "text/html": [
       "<div>\n",
       "<style scoped>\n",
       "    .dataframe tbody tr th:only-of-type {\n",
       "        vertical-align: middle;\n",
       "    }\n",
       "\n",
       "    .dataframe tbody tr th {\n",
       "        vertical-align: top;\n",
       "    }\n",
       "\n",
       "    .dataframe thead th {\n",
       "        text-align: right;\n",
       "    }\n",
       "</style>\n",
       "<table border=\"1\" class=\"dataframe\">\n",
       "  <thead>\n",
       "    <tr style=\"text-align: right;\">\n",
       "      <th>cabin_type</th>\n",
       "      <th>A</th>\n",
       "      <th>B</th>\n",
       "      <th>C</th>\n",
       "      <th>D</th>\n",
       "      <th>E</th>\n",
       "      <th>F</th>\n",
       "      <th>G</th>\n",
       "      <th>T</th>\n",
       "      <th>n</th>\n",
       "    </tr>\n",
       "    <tr>\n",
       "      <th>Survived</th>\n",
       "      <th></th>\n",
       "      <th></th>\n",
       "      <th></th>\n",
       "      <th></th>\n",
       "      <th></th>\n",
       "      <th></th>\n",
       "      <th></th>\n",
       "      <th></th>\n",
       "      <th></th>\n",
       "    </tr>\n",
       "  </thead>\n",
       "  <tbody>\n",
       "    <tr>\n",
       "      <th>0</th>\n",
       "      <td>8.0</td>\n",
       "      <td>12.0</td>\n",
       "      <td>24.0</td>\n",
       "      <td>8.0</td>\n",
       "      <td>8.0</td>\n",
       "      <td>5.0</td>\n",
       "      <td>2.0</td>\n",
       "      <td>1.0</td>\n",
       "      <td>481.0</td>\n",
       "    </tr>\n",
       "    <tr>\n",
       "      <th>1</th>\n",
       "      <td>7.0</td>\n",
       "      <td>35.0</td>\n",
       "      <td>35.0</td>\n",
       "      <td>25.0</td>\n",
       "      <td>24.0</td>\n",
       "      <td>8.0</td>\n",
       "      <td>2.0</td>\n",
       "      <td>NaN</td>\n",
       "      <td>206.0</td>\n",
       "    </tr>\n",
       "  </tbody>\n",
       "</table>\n",
       "</div>"
      ],
      "text/plain": [
       "cabin_type    A     B     C     D     E    F    G    T      n\n",
       "Survived                                                     \n",
       "0           8.0  12.0  24.0   8.0   8.0  5.0  2.0  1.0  481.0\n",
       "1           7.0  35.0  35.0  25.0  24.0  8.0  2.0  NaN  206.0"
      ]
     },
     "execution_count": 19,
     "metadata": {},
     "output_type": "execute_result"
    }
   ],
   "source": [
    "#identifying patterns in cabin types\n",
    "dftrain['cabin_type']=dftrain.Cabin.apply(lambda x:str(x)[0])\n",
    "print(dftrain.cabin_type.value_counts())\n",
    "pd.pivot_table(dftrain, index='Survived', columns=['cabin_type'],values='Name',aggfunc='count')"
   ]
  },
  {
   "cell_type": "code",
   "execution_count": 20,
   "id": "08b8aa2e",
   "metadata": {
    "execution": {
     "iopub.execute_input": "2022-05-30T20:56:59.652195Z",
     "iopub.status.busy": "2022-05-30T20:56:59.651361Z",
     "iopub.status.idle": "2022-05-30T20:56:59.661295Z",
     "shell.execute_reply": "2022-05-30T20:56:59.660570Z"
    },
    "papermill": {
     "duration": 0.021358,
     "end_time": "2022-05-30T20:56:59.663352",
     "exception": false,
     "start_time": "2022-05-30T20:56:59.641994",
     "status": "completed"
    },
    "tags": []
   },
   "outputs": [],
   "source": [
    "dftrain['numeric_ticket']=dftrain.Ticket.apply(lambda x: 1 if x.isnumeric() else 0)\n",
    "dftrain['letter_ticket']=dftrain.Ticket.apply(lambda x: ''.join(x.split(' ')[-1]).replace('.','').replace('/','').lower()\n",
    "                                             if len(x.split(' ')[-1])>0 else 0)"
   ]
  },
  {
   "cell_type": "code",
   "execution_count": 21,
   "id": "2980f7e8",
   "metadata": {
    "execution": {
     "iopub.execute_input": "2022-05-30T20:56:59.681604Z",
     "iopub.status.busy": "2022-05-30T20:56:59.680896Z",
     "iopub.status.idle": "2022-05-30T20:56:59.692647Z",
     "shell.execute_reply": "2022-05-30T20:56:59.691638Z"
    },
    "papermill": {
     "duration": 0.023335,
     "end_time": "2022-05-30T20:56:59.694812",
     "exception": false,
     "start_time": "2022-05-30T20:56:59.671477",
     "status": "completed"
    },
    "tags": []
   },
   "outputs": [
    {
     "data": {
      "text/plain": [
       "Mr              517\n",
       "Miss            182\n",
       "Mrs             125\n",
       "Master           40\n",
       "Dr                7\n",
       "Rev               6\n",
       "Mlle              2\n",
       "Major             2\n",
       "Col               2\n",
       "the Countess      1\n",
       "Capt              1\n",
       "Ms                1\n",
       "Sir               1\n",
       "Lady              1\n",
       "Mme               1\n",
       "Don               1\n",
       "Jonkheer          1\n",
       "Name: title, dtype: int64"
      ]
     },
     "execution_count": 21,
     "metadata": {},
     "output_type": "execute_result"
    }
   ],
   "source": [
    "#analyse title of passengers\n",
    "dftrain.Name.head(50)\n",
    "dftrain['title']=dftrain.Name.apply(lambda x: x.split(',')[1].split('.')[0].strip())\n",
    "dftrain['title'].value_counts()"
   ]
  }
 ],
 "metadata": {
  "kernelspec": {
   "display_name": "Python 3",
   "language": "python",
   "name": "python3"
  },
  "language_info": {
   "codemirror_mode": {
    "name": "ipython",
    "version": 3
   },
   "file_extension": ".py",
   "mimetype": "text/x-python",
   "name": "python",
   "nbconvert_exporter": "python",
   "pygments_lexer": "ipython3",
   "version": "3.7.12"
  },
  "papermill": {
   "default_parameters": {},
   "duration": 14.051618,
   "end_time": "2022-05-30T20:57:00.425110",
   "environment_variables": {},
   "exception": null,
   "input_path": "__notebook__.ipynb",
   "output_path": "__notebook__.ipynb",
   "parameters": {},
   "start_time": "2022-05-30T20:56:46.373492",
   "version": "2.3.4"
  }
 },
 "nbformat": 4,
 "nbformat_minor": 5
}
