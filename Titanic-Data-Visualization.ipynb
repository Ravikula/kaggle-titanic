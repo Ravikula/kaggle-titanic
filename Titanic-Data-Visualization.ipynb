{
 "cells": [
  {
   "cell_type": "code",
   "execution_count": 1,
   "id": "92313b6e",
   "metadata": {
    "_cell_guid": "b1076dfc-b9ad-4769-8c92-a6c4dae69d19",
    "_uuid": "8f2839f25d086af736a60e9eeb907d3b93b6e0e5",
    "execution": {
     "iopub.execute_input": "2022-06-01T19:00:55.995521Z",
     "iopub.status.busy": "2022-06-01T19:00:55.994744Z",
     "iopub.status.idle": "2022-06-01T19:00:57.135512Z",
     "shell.execute_reply": "2022-06-01T19:00:57.134608Z"
    },
    "papermill": {
     "duration": 1.154654,
     "end_time": "2022-06-01T19:00:57.138369",
     "exception": false,
     "start_time": "2022-06-01T19:00:55.983715",
     "status": "completed"
    },
    "tags": []
   },
   "outputs": [
    {
     "name": "stdout",
     "output_type": "stream",
     "text": [
      "/kaggle/input/titanic/train.csv\n",
      "/kaggle/input/titanic/test.csv\n",
      "/kaggle/input/titanic/gender_submission.csv\n"
     ]
    }
   ],
   "source": [
    "from __future__ import absolute_import, division, print_function, unicode_literals\n",
    "\n",
    "import numpy as np \n",
    "import pandas as pd \n",
    "import matplotlib.pyplot as plt\n",
    "import seaborn as sns\n",
    "\n",
    "%matplotlib inline\n",
    "import os\n",
    "for dirname, _, filenames in os.walk('/kaggle/input'):\n",
    "    for filename in filenames:\n",
    "        print(os.path.join(dirname, filename))"
   ]
  },
  {
   "cell_type": "code",
   "execution_count": 2,
   "id": "4edd9d70",
   "metadata": {
    "execution": {
     "iopub.execute_input": "2022-06-01T19:00:57.156157Z",
     "iopub.status.busy": "2022-06-01T19:00:57.155794Z",
     "iopub.status.idle": "2022-06-01T19:00:57.159655Z",
     "shell.execute_reply": "2022-06-01T19:00:57.158733Z"
    },
    "papermill": {
     "duration": 0.014814,
     "end_time": "2022-06-01T19:00:57.161585",
     "exception": false,
     "start_time": "2022-06-01T19:00:57.146771",
     "status": "completed"
    },
    "tags": []
   },
   "outputs": [],
   "source": [
    "#VISUALISING AND UNDERSTANDING THE DATASET"
   ]
  },
  {
   "cell_type": "code",
   "execution_count": 3,
   "id": "94df8bb4",
   "metadata": {
    "execution": {
     "iopub.execute_input": "2022-06-01T19:00:57.179217Z",
     "iopub.status.busy": "2022-06-01T19:00:57.178525Z",
     "iopub.status.idle": "2022-06-01T19:00:57.223779Z",
     "shell.execute_reply": "2022-06-01T19:00:57.223048Z"
    },
    "papermill": {
     "duration": 0.056186,
     "end_time": "2022-06-01T19:00:57.225639",
     "exception": false,
     "start_time": "2022-06-01T19:00:57.169453",
     "status": "completed"
    },
    "tags": []
   },
   "outputs": [
    {
     "data": {
      "text/html": [
       "<div>\n",
       "<style scoped>\n",
       "    .dataframe tbody tr th:only-of-type {\n",
       "        vertical-align: middle;\n",
       "    }\n",
       "\n",
       "    .dataframe tbody tr th {\n",
       "        vertical-align: top;\n",
       "    }\n",
       "\n",
       "    .dataframe thead th {\n",
       "        text-align: right;\n",
       "    }\n",
       "</style>\n",
       "<table border=\"1\" class=\"dataframe\">\n",
       "  <thead>\n",
       "    <tr style=\"text-align: right;\">\n",
       "      <th></th>\n",
       "      <th>PassengerId</th>\n",
       "      <th>Survived</th>\n",
       "      <th>Pclass</th>\n",
       "      <th>Name</th>\n",
       "      <th>Sex</th>\n",
       "      <th>Age</th>\n",
       "      <th>SibSp</th>\n",
       "      <th>Parch</th>\n",
       "      <th>Ticket</th>\n",
       "      <th>Fare</th>\n",
       "      <th>Cabin</th>\n",
       "      <th>Embarked</th>\n",
       "    </tr>\n",
       "  </thead>\n",
       "  <tbody>\n",
       "    <tr>\n",
       "      <th>0</th>\n",
       "      <td>1</td>\n",
       "      <td>0</td>\n",
       "      <td>3</td>\n",
       "      <td>Braund, Mr. Owen Harris</td>\n",
       "      <td>male</td>\n",
       "      <td>22.0</td>\n",
       "      <td>1</td>\n",
       "      <td>0</td>\n",
       "      <td>A/5 21171</td>\n",
       "      <td>7.2500</td>\n",
       "      <td>NaN</td>\n",
       "      <td>S</td>\n",
       "    </tr>\n",
       "    <tr>\n",
       "      <th>1</th>\n",
       "      <td>2</td>\n",
       "      <td>1</td>\n",
       "      <td>1</td>\n",
       "      <td>Cumings, Mrs. John Bradley (Florence Briggs Th...</td>\n",
       "      <td>female</td>\n",
       "      <td>38.0</td>\n",
       "      <td>1</td>\n",
       "      <td>0</td>\n",
       "      <td>PC 17599</td>\n",
       "      <td>71.2833</td>\n",
       "      <td>C85</td>\n",
       "      <td>C</td>\n",
       "    </tr>\n",
       "    <tr>\n",
       "      <th>2</th>\n",
       "      <td>3</td>\n",
       "      <td>1</td>\n",
       "      <td>3</td>\n",
       "      <td>Heikkinen, Miss. Laina</td>\n",
       "      <td>female</td>\n",
       "      <td>26.0</td>\n",
       "      <td>0</td>\n",
       "      <td>0</td>\n",
       "      <td>STON/O2. 3101282</td>\n",
       "      <td>7.9250</td>\n",
       "      <td>NaN</td>\n",
       "      <td>S</td>\n",
       "    </tr>\n",
       "    <tr>\n",
       "      <th>3</th>\n",
       "      <td>4</td>\n",
       "      <td>1</td>\n",
       "      <td>1</td>\n",
       "      <td>Futrelle, Mrs. Jacques Heath (Lily May Peel)</td>\n",
       "      <td>female</td>\n",
       "      <td>35.0</td>\n",
       "      <td>1</td>\n",
       "      <td>0</td>\n",
       "      <td>113803</td>\n",
       "      <td>53.1000</td>\n",
       "      <td>C123</td>\n",
       "      <td>S</td>\n",
       "    </tr>\n",
       "    <tr>\n",
       "      <th>4</th>\n",
       "      <td>5</td>\n",
       "      <td>0</td>\n",
       "      <td>3</td>\n",
       "      <td>Allen, Mr. William Henry</td>\n",
       "      <td>male</td>\n",
       "      <td>35.0</td>\n",
       "      <td>0</td>\n",
       "      <td>0</td>\n",
       "      <td>373450</td>\n",
       "      <td>8.0500</td>\n",
       "      <td>NaN</td>\n",
       "      <td>S</td>\n",
       "    </tr>\n",
       "  </tbody>\n",
       "</table>\n",
       "</div>"
      ],
      "text/plain": [
       "   PassengerId  Survived  Pclass  \\\n",
       "0            1         0       3   \n",
       "1            2         1       1   \n",
       "2            3         1       3   \n",
       "3            4         1       1   \n",
       "4            5         0       3   \n",
       "\n",
       "                                                Name     Sex   Age  SibSp  \\\n",
       "0                            Braund, Mr. Owen Harris    male  22.0      1   \n",
       "1  Cumings, Mrs. John Bradley (Florence Briggs Th...  female  38.0      1   \n",
       "2                             Heikkinen, Miss. Laina  female  26.0      0   \n",
       "3       Futrelle, Mrs. Jacques Heath (Lily May Peel)  female  35.0      1   \n",
       "4                           Allen, Mr. William Henry    male  35.0      0   \n",
       "\n",
       "   Parch            Ticket     Fare Cabin Embarked  \n",
       "0      0         A/5 21171   7.2500   NaN        S  \n",
       "1      0          PC 17599  71.2833   C85        C  \n",
       "2      0  STON/O2. 3101282   7.9250   NaN        S  \n",
       "3      0            113803  53.1000  C123        S  \n",
       "4      0            373450   8.0500   NaN        S  "
      ]
     },
     "execution_count": 3,
     "metadata": {},
     "output_type": "execute_result"
    }
   ],
   "source": [
    "dftrain=pd.read_csv('/kaggle/input/titanic/train.csv')\n",
    "dfeval=pd.read_csv('/kaggle/input/titanic/test.csv')\n",
    "\n",
    "dftrain.head()"
   ]
  },
  {
   "cell_type": "code",
   "execution_count": 4,
   "id": "f1636f32",
   "metadata": {
    "execution": {
     "iopub.execute_input": "2022-06-01T19:00:57.244579Z",
     "iopub.status.busy": "2022-06-01T19:00:57.244047Z",
     "iopub.status.idle": "2022-06-01T19:00:57.281053Z",
     "shell.execute_reply": "2022-06-01T19:00:57.280408Z"
    },
    "papermill": {
     "duration": 0.048587,
     "end_time": "2022-06-01T19:00:57.282847",
     "exception": false,
     "start_time": "2022-06-01T19:00:57.234260",
     "status": "completed"
    },
    "tags": []
   },
   "outputs": [
    {
     "data": {
      "text/html": [
       "<div>\n",
       "<style scoped>\n",
       "    .dataframe tbody tr th:only-of-type {\n",
       "        vertical-align: middle;\n",
       "    }\n",
       "\n",
       "    .dataframe tbody tr th {\n",
       "        vertical-align: top;\n",
       "    }\n",
       "\n",
       "    .dataframe thead th {\n",
       "        text-align: right;\n",
       "    }\n",
       "</style>\n",
       "<table border=\"1\" class=\"dataframe\">\n",
       "  <thead>\n",
       "    <tr style=\"text-align: right;\">\n",
       "      <th></th>\n",
       "      <th>PassengerId</th>\n",
       "      <th>Survived</th>\n",
       "      <th>Pclass</th>\n",
       "      <th>Age</th>\n",
       "      <th>SibSp</th>\n",
       "      <th>Parch</th>\n",
       "      <th>Fare</th>\n",
       "    </tr>\n",
       "  </thead>\n",
       "  <tbody>\n",
       "    <tr>\n",
       "      <th>count</th>\n",
       "      <td>891.000000</td>\n",
       "      <td>891.000000</td>\n",
       "      <td>891.000000</td>\n",
       "      <td>714.000000</td>\n",
       "      <td>891.000000</td>\n",
       "      <td>891.000000</td>\n",
       "      <td>891.000000</td>\n",
       "    </tr>\n",
       "    <tr>\n",
       "      <th>mean</th>\n",
       "      <td>446.000000</td>\n",
       "      <td>0.383838</td>\n",
       "      <td>2.308642</td>\n",
       "      <td>29.699118</td>\n",
       "      <td>0.523008</td>\n",
       "      <td>0.381594</td>\n",
       "      <td>32.204208</td>\n",
       "    </tr>\n",
       "    <tr>\n",
       "      <th>std</th>\n",
       "      <td>257.353842</td>\n",
       "      <td>0.486592</td>\n",
       "      <td>0.836071</td>\n",
       "      <td>14.526497</td>\n",
       "      <td>1.102743</td>\n",
       "      <td>0.806057</td>\n",
       "      <td>49.693429</td>\n",
       "    </tr>\n",
       "    <tr>\n",
       "      <th>min</th>\n",
       "      <td>1.000000</td>\n",
       "      <td>0.000000</td>\n",
       "      <td>1.000000</td>\n",
       "      <td>0.420000</td>\n",
       "      <td>0.000000</td>\n",
       "      <td>0.000000</td>\n",
       "      <td>0.000000</td>\n",
       "    </tr>\n",
       "    <tr>\n",
       "      <th>25%</th>\n",
       "      <td>223.500000</td>\n",
       "      <td>0.000000</td>\n",
       "      <td>2.000000</td>\n",
       "      <td>20.125000</td>\n",
       "      <td>0.000000</td>\n",
       "      <td>0.000000</td>\n",
       "      <td>7.910400</td>\n",
       "    </tr>\n",
       "    <tr>\n",
       "      <th>50%</th>\n",
       "      <td>446.000000</td>\n",
       "      <td>0.000000</td>\n",
       "      <td>3.000000</td>\n",
       "      <td>28.000000</td>\n",
       "      <td>0.000000</td>\n",
       "      <td>0.000000</td>\n",
       "      <td>14.454200</td>\n",
       "    </tr>\n",
       "    <tr>\n",
       "      <th>75%</th>\n",
       "      <td>668.500000</td>\n",
       "      <td>1.000000</td>\n",
       "      <td>3.000000</td>\n",
       "      <td>38.000000</td>\n",
       "      <td>1.000000</td>\n",
       "      <td>0.000000</td>\n",
       "      <td>31.000000</td>\n",
       "    </tr>\n",
       "    <tr>\n",
       "      <th>max</th>\n",
       "      <td>891.000000</td>\n",
       "      <td>1.000000</td>\n",
       "      <td>3.000000</td>\n",
       "      <td>80.000000</td>\n",
       "      <td>8.000000</td>\n",
       "      <td>6.000000</td>\n",
       "      <td>512.329200</td>\n",
       "    </tr>\n",
       "  </tbody>\n",
       "</table>\n",
       "</div>"
      ],
      "text/plain": [
       "       PassengerId    Survived      Pclass         Age       SibSp  \\\n",
       "count   891.000000  891.000000  891.000000  714.000000  891.000000   \n",
       "mean    446.000000    0.383838    2.308642   29.699118    0.523008   \n",
       "std     257.353842    0.486592    0.836071   14.526497    1.102743   \n",
       "min       1.000000    0.000000    1.000000    0.420000    0.000000   \n",
       "25%     223.500000    0.000000    2.000000   20.125000    0.000000   \n",
       "50%     446.000000    0.000000    3.000000   28.000000    0.000000   \n",
       "75%     668.500000    1.000000    3.000000   38.000000    1.000000   \n",
       "max     891.000000    1.000000    3.000000   80.000000    8.000000   \n",
       "\n",
       "            Parch        Fare  \n",
       "count  891.000000  891.000000  \n",
       "mean     0.381594   32.204208  \n",
       "std      0.806057   49.693429  \n",
       "min      0.000000    0.000000  \n",
       "25%      0.000000    7.910400  \n",
       "50%      0.000000   14.454200  \n",
       "75%      0.000000   31.000000  \n",
       "max      6.000000  512.329200  "
      ]
     },
     "execution_count": 4,
     "metadata": {},
     "output_type": "execute_result"
    }
   ],
   "source": [
    "#observing the data set\n",
    "dftrain.describe()"
   ]
  },
  {
   "cell_type": "code",
   "execution_count": 5,
   "id": "c3a0943f",
   "metadata": {
    "execution": {
     "iopub.execute_input": "2022-06-01T19:00:57.301628Z",
     "iopub.status.busy": "2022-06-01T19:00:57.301118Z",
     "iopub.status.idle": "2022-06-01T19:00:57.315699Z",
     "shell.execute_reply": "2022-06-01T19:00:57.314397Z"
    },
    "papermill": {
     "duration": 0.026709,
     "end_time": "2022-06-01T19:00:57.318049",
     "exception": false,
     "start_time": "2022-06-01T19:00:57.291340",
     "status": "completed"
    },
    "tags": []
   },
   "outputs": [
    {
     "name": "stdout",
     "output_type": "stream",
     "text": [
      "<class 'pandas.core.frame.DataFrame'>\n",
      "RangeIndex: 891 entries, 0 to 890\n",
      "Data columns (total 12 columns):\n",
      " #   Column       Non-Null Count  Dtype  \n",
      "---  ------       --------------  -----  \n",
      " 0   PassengerId  891 non-null    int64  \n",
      " 1   Survived     891 non-null    int64  \n",
      " 2   Pclass       891 non-null    int64  \n",
      " 3   Name         891 non-null    object \n",
      " 4   Sex          891 non-null    object \n",
      " 5   Age          714 non-null    float64\n",
      " 6   SibSp        891 non-null    int64  \n",
      " 7   Parch        891 non-null    int64  \n",
      " 8   Ticket       891 non-null    object \n",
      " 9   Fare         891 non-null    float64\n",
      " 10  Cabin        204 non-null    object \n",
      " 11  Embarked     889 non-null    object \n",
      "dtypes: float64(2), int64(5), object(5)\n",
      "memory usage: 83.7+ KB\n"
     ]
    }
   ],
   "source": [
    "dftrain.info()"
   ]
  },
  {
   "cell_type": "code",
   "execution_count": 6,
   "id": "ec3077b6",
   "metadata": {
    "execution": {
     "iopub.execute_input": "2022-06-01T19:00:57.337571Z",
     "iopub.status.busy": "2022-06-01T19:00:57.337206Z",
     "iopub.status.idle": "2022-06-01T19:00:57.354968Z",
     "shell.execute_reply": "2022-06-01T19:00:57.354140Z"
    },
    "papermill": {
     "duration": 0.030633,
     "end_time": "2022-06-01T19:00:57.357438",
     "exception": false,
     "start_time": "2022-06-01T19:00:57.326805",
     "status": "completed"
    },
    "tags": []
   },
   "outputs": [
    {
     "name": "stdout",
     "output_type": "stream",
     "text": [
      "             Missing Data  Missing (%)\n",
      "Cabin                 687        77.10\n",
      "Age                   177        19.87\n",
      "Embarked                2         0.22\n",
      "PassengerId             0         0.00\n",
      "Survived                0         0.00\n",
      "Pclass                  0         0.00\n",
      "Name                    0         0.00\n",
      "Sex                     0         0.00\n",
      "SibSp                   0         0.00\n",
      "Parch                   0         0.00\n",
      "Ticket                  0         0.00\n",
      "Fare                    0         0.00\n"
     ]
    }
   ],
   "source": [
    "#missing data values\n",
    "total=dftrain.isnull().sum().sort_values(ascending=False)\n",
    "null_percentage=round(total*100/dftrain.isnull().count(),2)\n",
    "missing_data=pd.concat([total,null_percentage],axis=1,keys=['Missing Data','Missing (%)'])\n",
    "print(missing_data)"
   ]
  },
  {
   "cell_type": "code",
   "execution_count": 7,
   "id": "de354c3a",
   "metadata": {
    "execution": {
     "iopub.execute_input": "2022-06-01T19:00:57.377336Z",
     "iopub.status.busy": "2022-06-01T19:00:57.376821Z",
     "iopub.status.idle": "2022-06-01T19:00:57.381554Z",
     "shell.execute_reply": "2022-06-01T19:00:57.380915Z"
    },
    "papermill": {
     "duration": 0.016293,
     "end_time": "2022-06-01T19:00:57.383249",
     "exception": false,
     "start_time": "2022-06-01T19:00:57.366956",
     "status": "completed"
    },
    "tags": []
   },
   "outputs": [
    {
     "data": {
      "text/plain": [
       "array(['PassengerId', 'Survived', 'Pclass', 'Name', 'Sex', 'Age', 'SibSp',\n",
       "       'Parch', 'Ticket', 'Fare', 'Cabin', 'Embarked'], dtype=object)"
      ]
     },
     "execution_count": 7,
     "metadata": {},
     "output_type": "execute_result"
    }
   ],
   "source": [
    "dftrain.columns.values"
   ]
  },
  {
   "cell_type": "code",
   "execution_count": 8,
   "id": "508f9446",
   "metadata": {
    "execution": {
     "iopub.execute_input": "2022-06-01T19:00:57.402882Z",
     "iopub.status.busy": "2022-06-01T19:00:57.402461Z",
     "iopub.status.idle": "2022-06-01T19:00:57.615655Z",
     "shell.execute_reply": "2022-06-01T19:00:57.614901Z"
    },
    "papermill": {
     "duration": 0.22548,
     "end_time": "2022-06-01T19:00:57.617709",
     "exception": false,
     "start_time": "2022-06-01T19:00:57.392229",
     "status": "completed"
    },
    "tags": []
   },
   "outputs": [
    {
     "data": {
      "text/plain": [
       "<AxesSubplot:xlabel='Sex', ylabel='Survived'>"
      ]
     },
     "execution_count": 8,
     "metadata": {},
     "output_type": "execute_result"
    },
    {
     "data": {
      "image/png": "[encoded data removed]",
      "text/plain": [
       "<Figure size 432x288 with 1 Axes>"
      ]
     },
     "metadata": {
      "needs_background": "light"
     },
     "output_type": "display_data"
    }
   ],
   "source": [
    "#survival distribution among sex\n",
    "sns.barplot(x='Sex',y='Survived', data=dftrain)"
   ]
  },
  {
   "cell_type": "code",
   "execution_count": 9,
   "id": "df12ab52",
   "metadata": {
    "execution": {
     "iopub.execute_input": "2022-06-01T19:00:57.638110Z",
     "iopub.status.busy": "2022-06-01T19:00:57.637075Z",
     "iopub.status.idle": "2022-06-01T19:00:57.958248Z",
     "shell.execute_reply": "2022-06-01T19:00:57.957292Z"
    },
    "papermill": {
     "duration": 0.333599,
     "end_time": "2022-06-01T19:00:57.960260",
     "exception": false,
     "start_time": "2022-06-01T19:00:57.626661",
     "status": "completed"
    },
    "tags": []
   },
   "outputs": [
    {
     "data": {
      "text/plain": [
       "<AxesSubplot:xlabel='Pclass', ylabel='Survived'>"
      ]
     },
     "execution_count": 9,
     "metadata": {},
     "output_type": "execute_result"
    },
    {
     "data": {
      "image/png": "[encoded data removed]",
      "text/plain": [
       "<Figure size 432x288 with 1 Axes>"
      ]
     },
     "metadata": {
      "needs_background": "light"
     },
     "output_type": "display_data"
    }
   ],
   "source": [
    "#survival distribution based on passenger class\n",
    "sns.barplot(x='Pclass',y='Survived',hue='Sex', data=dftrain)"
   ]
  },
  {
   "cell_type": "code",
   "execution_count": 10,
   "id": "e49eeeed",
   "metadata": {
    "execution": {
     "iopub.execute_input": "2022-06-01T19:00:57.980525Z",
     "iopub.status.busy": "2022-06-01T19:00:57.980155Z",
     "iopub.status.idle": "2022-06-01T19:00:58.537984Z",
     "shell.execute_reply": "2022-06-01T19:00:58.537273Z"
    },
    "papermill": {
     "duration": 0.570351,
     "end_time": "2022-06-01T19:00:58.539821",
     "exception": false,
     "start_time": "2022-06-01T19:00:57.969470",
     "status": "completed"
    },
    "tags": []
   },
   "outputs": [
    {
     "data": {
      "image/png": "[encoded data removed]",
      "text/plain": [
       "<Figure size 720x432 with 1 Axes>"
      ]
     },
     "metadata": {
      "needs_background": "light"
     },
     "output_type": "display_data"
    }
   ],
   "source": [
    "#survival distribution based ages ranges\n",
    "def get_age_catagory(age):\n",
    "    catagory=''\n",
    "    if age<=-1: \n",
    "        catagory='none'\n",
    "    elif age<=5:\n",
    "        catagory='baby'\n",
    "    elif age<=10:\n",
    "        catagory='child'\n",
    "    elif age<=18:\n",
    "        catagory='teen'\n",
    "    elif age<=25:\n",
    "        catagory='student'\n",
    "    elif age<=35:\n",
    "        catagory='young adult'\n",
    "    elif age<=60:\n",
    "        catagory='adult'\n",
    "    else:\n",
    "        catagory='elder'\n",
    "    return catagory\n",
    "\n",
    "plt.figure(figsize=(10,6))\n",
    "groups=['none','baby','child','teen','student','young adult','adult','elder']\n",
    "dftrain['age catagory']=dftrain['Age'].apply(lambda x:get_age_catagory(x))\n",
    "sns.barplot(x='age catagory', y='Survived', hue='Sex', data=dftrain, order=groups)\n",
    "dftrain.drop('age catagory', axis=1, inplace=True)"
   ]
  },
  {
   "cell_type": "code",
   "execution_count": 11,
   "id": "edb59de0",
   "metadata": {
    "execution": {
     "iopub.execute_input": "2022-06-01T19:00:58.561794Z",
     "iopub.status.busy": "2022-06-01T19:00:58.560929Z",
     "iopub.status.idle": "2022-06-01T19:00:59.303073Z",
     "shell.execute_reply": "2022-06-01T19:00:59.302320Z"
    },
    "papermill": {
     "duration": 0.755502,
     "end_time": "2022-06-01T19:00:59.304874",
     "exception": false,
     "start_time": "2022-06-01T19:00:58.549372",
     "status": "completed"
    },
    "tags": []
   },
   "outputs": [
    {
     "data": {
      "image/png": "[encoded data removed]",
      "text/plain": [
       "<Figure size 432x288 with 1 Axes>"
      ]
     },
     "metadata": {
      "needs_background": "light"
     },
     "output_type": "display_data"
    },
    {
     "data": {
      "image/png": "[encoded data removed]",
      "text/plain": [
       "<Figure size 432x288 with 1 Axes>"
      ]
     },
     "metadata": {
      "needs_background": "light"
     },
     "output_type": "display_data"
    },
    {
     "data": {
      "image/png": "[encoded data removed]",
      "text/plain": [
       "<Figure size 432x288 with 1 Axes>"
      ]
     },
     "metadata": {
      "needs_background": "light"
     },
     "output_type": "display_data"
    },
    {
     "data": {
      "image/png": "[encoded data removed]",
      "text/plain": [
       "<Figure size 432x288 with 1 Axes>"
      ]
     },
     "metadata": {
      "needs_background": "light"
     },
     "output_type": "display_data"
    }
   ],
   "source": [
    "#passenger distribution among different catagories\n",
    "df_num=dftrain[['Age','SibSp','Parch','Fare']]\n",
    "df_cat = dftrain[['Survived','Pclass','Sex','Ticket','Cabin','Embarked']]\n",
    "\n",
    "for i in df_num.columns:\n",
    "    plt.hist(dftrain[i])\n",
    "    plt.title(i)\n",
    "    plt.show()"
   ]
  },
  {
   "cell_type": "code",
   "execution_count": 12,
   "id": "79c397a2",
   "metadata": {
    "execution": {
     "iopub.execute_input": "2022-06-01T19:00:59.328726Z",
     "iopub.status.busy": "2022-06-01T19:00:59.328168Z",
     "iopub.status.idle": "2022-06-01T19:00:59.544001Z",
     "shell.execute_reply": "2022-06-01T19:00:59.543033Z"
    },
    "papermill": {
     "duration": 0.230938,
     "end_time": "2022-06-01T19:00:59.546185",
     "exception": false,
     "start_time": "2022-06-01T19:00:59.315247",
     "status": "completed"
    },
    "tags": []
   },
   "outputs": [
    {
     "data": {
      "text/plain": [
       "<AxesSubplot:>"
      ]
     },
     "execution_count": 12,
     "metadata": {},
     "output_type": "execute_result"
    },
    {
     "data": {
      "image/png": "[encoded data removed]",
      "text/plain": [
       "<Figure size 432x288 with 2 Axes>"
      ]
     },
     "metadata": {
      "needs_background": "light"
     },
     "output_type": "display_data"
    }
   ],
   "source": [
    "#co-relation betweem different features.\n",
    "sns.heatmap(df_num.corr())"
   ]
  },
  {
   "cell_type": "code",
   "execution_count": 13,
   "id": "be71b5be",
   "metadata": {
    "execution": {
     "iopub.execute_input": "2022-06-01T19:00:59.568702Z",
     "iopub.status.busy": "2022-06-01T19:00:59.568346Z",
     "iopub.status.idle": "2022-06-01T19:00:59.588899Z",
     "shell.execute_reply": "2022-06-01T19:00:59.587953Z"
    },
    "papermill": {
     "duration": 0.034123,
     "end_time": "2022-06-01T19:00:59.590785",
     "exception": false,
     "start_time": "2022-06-01T19:00:59.556662",
     "status": "completed"
    },
    "tags": []
   },
   "outputs": [
    {
     "data": {
      "text/html": [
       "<div>\n",
       "<style scoped>\n",
       "    .dataframe tbody tr th:only-of-type {\n",
       "        vertical-align: middle;\n",
       "    }\n",
       "\n",
       "    .dataframe tbody tr th {\n",
       "        vertical-align: top;\n",
       "    }\n",
       "\n",
       "    .dataframe thead th {\n",
       "        text-align: right;\n",
       "    }\n",
       "</style>\n",
       "<table border=\"1\" class=\"dataframe\">\n",
       "  <thead>\n",
       "    <tr style=\"text-align: right;\">\n",
       "      <th></th>\n",
       "      <th>Age</th>\n",
       "      <th>Fare</th>\n",
       "      <th>Parch</th>\n",
       "      <th>SibSp</th>\n",
       "    </tr>\n",
       "    <tr>\n",
       "      <th>Survived</th>\n",
       "      <th></th>\n",
       "      <th></th>\n",
       "      <th></th>\n",
       "      <th></th>\n",
       "    </tr>\n",
       "  </thead>\n",
       "  <tbody>\n",
       "    <tr>\n",
       "      <th>0</th>\n",
       "      <td>30.626179</td>\n",
       "      <td>22.117887</td>\n",
       "      <td>0.329690</td>\n",
       "      <td>0.553734</td>\n",
       "    </tr>\n",
       "    <tr>\n",
       "      <th>1</th>\n",
       "      <td>28.343690</td>\n",
       "      <td>48.395408</td>\n",
       "      <td>0.464912</td>\n",
       "      <td>0.473684</td>\n",
       "    </tr>\n",
       "  </tbody>\n",
       "</table>\n",
       "</div>"
      ],
      "text/plain": [
       "                Age       Fare     Parch     SibSp\n",
       "Survived                                          \n",
       "0         30.626179  22.117887  0.329690  0.553734\n",
       "1         28.343690  48.395408  0.464912  0.473684"
      ]
     },
     "execution_count": 13,
     "metadata": {},
     "output_type": "execute_result"
    }
   ],
   "source": [
    "#co-relation between survival rate and Age, No of Siblings, Parch and Fare\n",
    "pd.pivot_table(dftrain,index='Survived', values=['Age','SibSp','Parch','Fare'])"
   ]
  },
  {
   "cell_type": "code",
   "execution_count": 14,
   "id": "062016ca",
   "metadata": {
    "execution": {
     "iopub.execute_input": "2022-06-01T19:00:59.613818Z",
     "iopub.status.busy": "2022-06-01T19:00:59.613255Z",
     "iopub.status.idle": "2022-06-01T19:00:59.633513Z",
     "shell.execute_reply": "2022-06-01T19:00:59.632443Z"
    },
    "papermill": {
     "duration": 0.034236,
     "end_time": "2022-06-01T19:00:59.635538",
     "exception": false,
     "start_time": "2022-06-01T19:00:59.601302",
     "status": "completed"
    },
    "tags": []
   },
   "outputs": [
    {
     "data": {
      "text/html": [
       "<div>\n",
       "<style scoped>\n",
       "    .dataframe tbody tr th:only-of-type {\n",
       "        vertical-align: middle;\n",
       "    }\n",
       "\n",
       "    .dataframe tbody tr th {\n",
       "        vertical-align: top;\n",
       "    }\n",
       "\n",
       "    .dataframe thead th {\n",
       "        text-align: right;\n",
       "    }\n",
       "</style>\n",
       "<table border=\"1\" class=\"dataframe\">\n",
       "  <thead>\n",
       "    <tr style=\"text-align: right;\">\n",
       "      <th>Pclass</th>\n",
       "      <th>1</th>\n",
       "      <th>2</th>\n",
       "      <th>3</th>\n",
       "    </tr>\n",
       "    <tr>\n",
       "      <th>Survived</th>\n",
       "      <th></th>\n",
       "      <th></th>\n",
       "      <th></th>\n",
       "    </tr>\n",
       "  </thead>\n",
       "  <tbody>\n",
       "    <tr>\n",
       "      <th>0</th>\n",
       "      <td>80</td>\n",
       "      <td>97</td>\n",
       "      <td>372</td>\n",
       "    </tr>\n",
       "    <tr>\n",
       "      <th>1</th>\n",
       "      <td>136</td>\n",
       "      <td>87</td>\n",
       "      <td>119</td>\n",
       "    </tr>\n",
       "  </tbody>\n",
       "</table>\n",
       "</div>"
      ],
      "text/plain": [
       "Pclass      1   2    3\n",
       "Survived              \n",
       "0          80  97  372\n",
       "1         136  87  119"
      ]
     },
     "execution_count": 14,
     "metadata": {},
     "output_type": "execute_result"
    }
   ],
   "source": [
    "#co-relation between survival and passenger classes\n",
    "pd.pivot_table(dftrain, index='Survived', columns='Pclass', values='Ticket', aggfunc='count')"
   ]
  },
  {
   "cell_type": "code",
   "execution_count": 15,
   "id": "37524dac",
   "metadata": {
    "execution": {
     "iopub.execute_input": "2022-06-01T19:00:59.658565Z",
     "iopub.status.busy": "2022-06-01T19:00:59.657924Z",
     "iopub.status.idle": "2022-06-01T19:00:59.674251Z",
     "shell.execute_reply": "2022-06-01T19:00:59.673340Z"
    },
    "papermill": {
     "duration": 0.030423,
     "end_time": "2022-06-01T19:00:59.676449",
     "exception": false,
     "start_time": "2022-06-01T19:00:59.646026",
     "status": "completed"
    },
    "tags": []
   },
   "outputs": [
    {
     "data": {
      "text/html": [
       "<div>\n",
       "<style scoped>\n",
       "    .dataframe tbody tr th:only-of-type {\n",
       "        vertical-align: middle;\n",
       "    }\n",
       "\n",
       "    .dataframe tbody tr th {\n",
       "        vertical-align: top;\n",
       "    }\n",
       "\n",
       "    .dataframe thead th {\n",
       "        text-align: right;\n",
       "    }\n",
       "</style>\n",
       "<table border=\"1\" class=\"dataframe\">\n",
       "  <thead>\n",
       "    <tr style=\"text-align: right;\">\n",
       "      <th>Sex</th>\n",
       "      <th>female</th>\n",
       "      <th>male</th>\n",
       "    </tr>\n",
       "    <tr>\n",
       "      <th>Survived</th>\n",
       "      <th></th>\n",
       "      <th></th>\n",
       "    </tr>\n",
       "  </thead>\n",
       "  <tbody>\n",
       "    <tr>\n",
       "      <th>0</th>\n",
       "      <td>81</td>\n",
       "      <td>468</td>\n",
       "    </tr>\n",
       "    <tr>\n",
       "      <th>1</th>\n",
       "      <td>233</td>\n",
       "      <td>109</td>\n",
       "    </tr>\n",
       "  </tbody>\n",
       "</table>\n",
       "</div>"
      ],
      "text/plain": [
       "Sex       female  male\n",
       "Survived              \n",
       "0             81   468\n",
       "1            233   109"
      ]
     },
     "execution_count": 15,
     "metadata": {},
     "output_type": "execute_result"
    }
   ],
   "source": [
    "#co-relation between survival and sex\n",
    "pd.pivot_table(dftrain, index='Survived', columns='Sex', values='Ticket', aggfunc='count')"
   ]
  },
  {
   "cell_type": "code",
   "execution_count": 16,
   "id": "69795cfd",
   "metadata": {
    "execution": {
     "iopub.execute_input": "2022-06-01T19:00:59.700225Z",
     "iopub.status.busy": "2022-06-01T19:00:59.699812Z",
     "iopub.status.idle": "2022-06-01T19:00:59.703773Z",
     "shell.execute_reply": "2022-06-01T19:00:59.702920Z"
    },
    "papermill": {
     "duration": 0.018264,
     "end_time": "2022-06-01T19:00:59.705633",
     "exception": false,
     "start_time": "2022-06-01T19:00:59.687369",
     "status": "completed"
    },
    "tags": []
   },
   "outputs": [],
   "source": [
    "#FEATURE ENGINEERING"
   ]
  },
  {
   "cell_type": "code",
   "execution_count": 17,
   "id": "e890d5b0",
   "metadata": {
    "execution": {
     "iopub.execute_input": "2022-06-01T19:00:59.729034Z",
     "iopub.status.busy": "2022-06-01T19:00:59.728432Z",
     "iopub.status.idle": "2022-06-01T19:00:59.740671Z",
     "shell.execute_reply": "2022-06-01T19:00:59.739941Z"
    },
    "papermill": {
     "duration": 0.025963,
     "end_time": "2022-06-01T19:00:59.742473",
     "exception": false,
     "start_time": "2022-06-01T19:00:59.716510",
     "status": "completed"
    },
    "tags": []
   },
   "outputs": [
    {
     "data": {
      "text/plain": [
       "0    326\n",
       "1     80\n",
       "2      8\n",
       "3      3\n",
       "4      1\n",
       "Name: no_of_cabins, dtype: int64"
      ]
     },
     "execution_count": 17,
     "metadata": {},
     "output_type": "execute_result"
    }
   ],
   "source": [
    "#checking whethe people had multiple cabins\n",
    "df_cat.Cabin\n",
    "dftrain['no_of_cabins']=dftrain.Cabin.apply(lambda x: 0 if pd.isna(x) else len(x.split(' ')))\n",
    "dftrain['no_of_cabins'].value_counts()\n",
    "\n",
    "dfeval['no_of_cabins']=dftrain.Cabin.apply(lambda x: 0 if pd.isna(x) else len(x.split(' ')))\n",
    "dfeval['no_of_cabins'].value_counts()"
   ]
  },
  {
   "cell_type": "code",
   "execution_count": 18,
   "id": "f6975d3b",
   "metadata": {
    "execution": {
     "iopub.execute_input": "2022-06-01T19:00:59.766683Z",
     "iopub.status.busy": "2022-06-01T19:00:59.765869Z",
     "iopub.status.idle": "2022-06-01T19:00:59.784432Z",
     "shell.execute_reply": "2022-06-01T19:00:59.783850Z"
    },
    "papermill": {
     "duration": 0.032684,
     "end_time": "2022-06-01T19:00:59.786300",
     "exception": false,
     "start_time": "2022-06-01T19:00:59.753616",
     "status": "completed"
    },
    "tags": []
   },
   "outputs": [
    {
     "data": {
      "text/html": [
       "<div>\n",
       "<style scoped>\n",
       "    .dataframe tbody tr th:only-of-type {\n",
       "        vertical-align: middle;\n",
       "    }\n",
       "\n",
       "    .dataframe tbody tr th {\n",
       "        vertical-align: top;\n",
       "    }\n",
       "\n",
       "    .dataframe thead th {\n",
       "        text-align: right;\n",
       "    }\n",
       "</style>\n",
       "<table border=\"1\" class=\"dataframe\">\n",
       "  <thead>\n",
       "    <tr style=\"text-align: right;\">\n",
       "      <th>no_of_cabins</th>\n",
       "      <th>0</th>\n",
       "      <th>1</th>\n",
       "      <th>2</th>\n",
       "      <th>3</th>\n",
       "      <th>4</th>\n",
       "    </tr>\n",
       "    <tr>\n",
       "      <th>Survived</th>\n",
       "      <th></th>\n",
       "      <th></th>\n",
       "      <th></th>\n",
       "      <th></th>\n",
       "      <th></th>\n",
       "    </tr>\n",
       "  </thead>\n",
       "  <tbody>\n",
       "    <tr>\n",
       "      <th>0</th>\n",
       "      <td>481.0</td>\n",
       "      <td>58.0</td>\n",
       "      <td>7.0</td>\n",
       "      <td>3.0</td>\n",
       "      <td>NaN</td>\n",
       "    </tr>\n",
       "    <tr>\n",
       "      <th>1</th>\n",
       "      <td>206.0</td>\n",
       "      <td>122.0</td>\n",
       "      <td>9.0</td>\n",
       "      <td>3.0</td>\n",
       "      <td>2.0</td>\n",
       "    </tr>\n",
       "  </tbody>\n",
       "</table>\n",
       "</div>"
      ],
      "text/plain": [
       "no_of_cabins      0      1    2    3    4\n",
       "Survived                                 \n",
       "0             481.0   58.0  7.0  3.0  NaN\n",
       "1             206.0  122.0  9.0  3.0  2.0"
      ]
     },
     "execution_count": 18,
     "metadata": {},
     "output_type": "execute_result"
    }
   ],
   "source": [
    "pd.pivot_table(dftrain, index='Survived',columns=['no_of_cabins'],values='Name',aggfunc='count')"
   ]
  },
  {
   "cell_type": "code",
   "execution_count": null,
   "id": "0134d2be",
   "metadata": {
    "papermill": {
     "duration": 0.01074,
     "end_time": "2022-06-01T19:00:59.808005",
     "exception": false,
     "start_time": "2022-06-01T19:00:59.797265",
     "status": "completed"
    },
    "tags": []
   },
   "outputs": [],
   "source": []
  },
  {
   "cell_type": "code",
   "execution_count": 19,
   "id": "49c0ed37",
   "metadata": {
    "execution": {
     "iopub.execute_input": "2022-06-01T19:00:59.832726Z",
     "iopub.status.busy": "2022-06-01T19:00:59.832040Z",
     "iopub.status.idle": "2022-06-01T19:00:59.838030Z",
     "shell.execute_reply": "2022-06-01T19:00:59.837351Z"
    },
    "papermill": {
     "duration": 0.020994,
     "end_time": "2022-06-01T19:00:59.839989",
     "exception": false,
     "start_time": "2022-06-01T19:00:59.818995",
     "status": "completed"
    },
    "tags": []
   },
   "outputs": [],
   "source": [
    "train_df=dftrain.drop(['PassengerId'], axis=1)\n",
    "test_df=dfeval.drop(['PassengerId'],axis=1)\n",
    "\n"
   ]
  },
  {
   "cell_type": "code",
   "execution_count": 20,
   "id": "e85be7cf",
   "metadata": {
    "execution": {
     "iopub.execute_input": "2022-06-01T19:00:59.864706Z",
     "iopub.status.busy": "2022-06-01T19:00:59.864155Z",
     "iopub.status.idle": "2022-06-01T19:00:59.878918Z",
     "shell.execute_reply": "2022-06-01T19:00:59.878091Z"
    },
    "papermill": {
     "duration": 0.030053,
     "end_time": "2022-06-01T19:00:59.881047",
     "exception": false,
     "start_time": "2022-06-01T19:00:59.850994",
     "status": "completed"
    },
    "tags": []
   },
   "outputs": [],
   "source": [
    "import re\n",
    "deck = {'A':1,'B':2,'C':3,'D':4,'E':5,'F':6,'G':7,'U':8}\n",
    "data=[train_df,test_df]\n",
    "\n",
    "for dataset in data:\n",
    "    dataset['Cabin']=dataset['Cabin'].fillna(\"U0\")\n",
    "    dataset['Deck'] = dataset['Cabin'].map(lambda x: re.compile(\"([a-zA-Z]+)\").search(x).group())\n",
    "    dataset['Deck']=dataset['Deck'].map(deck)\n",
    "    dataset['Deck']=dataset['Deck'].fillna(0)\n",
    "    dataset['Deck']=dataset['Deck'].astype(int)\n",
    "\n",
    "train_df=train_df.drop(['Cabin'],axis=1)\n",
    "test_df=dfeval.drop(['Cabin'],axis=1)"
   ]
  },
  {
   "cell_type": "code",
   "execution_count": 21,
   "id": "a6fcf761",
   "metadata": {
    "execution": {
     "iopub.execute_input": "2022-06-01T19:00:59.906203Z",
     "iopub.status.busy": "2022-06-01T19:00:59.905624Z",
     "iopub.status.idle": "2022-06-01T19:00:59.917812Z",
     "shell.execute_reply": "2022-06-01T19:00:59.917034Z"
    },
    "papermill": {
     "duration": 0.027873,
     "end_time": "2022-06-01T19:00:59.919953",
     "exception": false,
     "start_time": "2022-06-01T19:00:59.892080",
     "status": "completed"
    },
    "tags": []
   },
   "outputs": [],
   "source": [
    "data=[train_df,test_df]\n",
    "\n",
    "for dataset in data:\n",
    "    mean=dataset['Age'].mean()\n",
    "    std=dataset['Age'].std()\n",
    "    is_null=dataset['Age'].isnull().sum()\n",
    "    \n",
    "    age_val=np.random.randint(mean-std,mean+std,is_null)\n",
    "    \n",
    "    age_lst=dataset['Age'].copy()\n",
    "    age_lst[np.isnan(age_lst)]=age_val\n",
    "    \n",
    "    dataset['Age']=age_lst\n",
    "    dataset[\"Age\"]=train_df[\"Age\"].astype(int)"
   ]
  },
  {
   "cell_type": "code",
   "execution_count": 22,
   "id": "60f5543b",
   "metadata": {
    "execution": {
     "iopub.execute_input": "2022-06-01T19:00:59.944262Z",
     "iopub.status.busy": "2022-06-01T19:00:59.943384Z",
     "iopub.status.idle": "2022-06-01T19:00:59.949191Z",
     "shell.execute_reply": "2022-06-01T19:00:59.948548Z"
    },
    "papermill": {
     "duration": 0.019544,
     "end_time": "2022-06-01T19:00:59.950947",
     "exception": false,
     "start_time": "2022-06-01T19:00:59.931403",
     "status": "completed"
    },
    "tags": []
   },
   "outputs": [],
   "source": [
    "data=[train_df,test_df]\n",
    "\n",
    "for dataset in data:\n",
    "    dataset['Embarked']=dataset['Embarked'].fillna('S')"
   ]
  },
  {
   "cell_type": "code",
   "execution_count": 23,
   "id": "a43f6027",
   "metadata": {
    "execution": {
     "iopub.execute_input": "2022-06-01T19:00:59.975484Z",
     "iopub.status.busy": "2022-06-01T19:00:59.974524Z",
     "iopub.status.idle": "2022-06-01T19:00:59.981897Z",
     "shell.execute_reply": "2022-06-01T19:00:59.980935Z"
    },
    "papermill": {
     "duration": 0.021642,
     "end_time": "2022-06-01T19:00:59.983854",
     "exception": false,
     "start_time": "2022-06-01T19:00:59.962212",
     "status": "completed"
    },
    "tags": []
   },
   "outputs": [],
   "source": [
    "data=[train_df,test_df]\n",
    "\n",
    "for dataset in data:\n",
    "    dataset['Fare']=dataset['Fare'].fillna(0)\n",
    "    dataset['Fare']=dataset['Fare'].astype(int)"
   ]
  },
  {
   "cell_type": "code",
   "execution_count": 24,
   "id": "8da97e8c",
   "metadata": {
    "execution": {
     "iopub.execute_input": "2022-06-01T19:01:00.007918Z",
     "iopub.status.busy": "2022-06-01T19:01:00.007221Z",
     "iopub.status.idle": "2022-06-01T19:01:00.027598Z",
     "shell.execute_reply": "2022-06-01T19:01:00.026896Z"
    },
    "papermill": {
     "duration": 0.03485,
     "end_time": "2022-06-01T19:01:00.029704",
     "exception": false,
     "start_time": "2022-06-01T19:00:59.994854",
     "status": "completed"
    },
    "tags": []
   },
   "outputs": [],
   "source": [
    "data=[train_df,test_df]\n",
    "titles = {\"Mr\": 1, \"Miss\": 2, \"Mrs\": 3, \"Master\": 4, \"Rare\": 5}\n",
    "\n",
    "for dataset in data:\n",
    "    dataset['Title']=dataset.Name.str.extract(' ([A-Za-z]+)\\.', expand=False)\n",
    "    dataset['Title'] = dataset['Title'].replace(['Lady', 'Countess','Capt', 'Col','Don', 'Dr','Major', 'Rev', 'Sir', 'Jonkheer', 'Dona'], 'Rare')\n",
    "    dataset['Title'] = dataset['Title'].replace('Mlle', 'Miss')\n",
    "    dataset['Title'] = dataset['Title'].replace('Ms', 'Miss')\n",
    "    dataset['Title'] = dataset['Title'].replace('Mme', 'Mrs')\n",
    "    \n",
    "    dataset['Title']=dataset['Title'].map(titles)\n",
    "    dataset['Title']=dataset['Title'].fillna(0)\n",
    "    \n",
    "train_df=train_df.drop(['Name'],axis=1)\n",
    "test_df=test_df.drop(['Name'],axis=1)"
   ]
  },
  {
   "cell_type": "markdown",
   "id": "952a0bc1",
   "metadata": {
    "papermill": {
     "duration": 0.011102,
     "end_time": "2022-06-01T19:01:00.051796",
     "exception": false,
     "start_time": "2022-06-01T19:01:00.040694",
     "status": "completed"
    },
    "tags": []
   },
   "source": [
    "## "
   ]
  },
  {
   "cell_type": "code",
   "execution_count": 25,
   "id": "7cb58144",
   "metadata": {
    "execution": {
     "iopub.execute_input": "2022-06-01T19:01:00.076359Z",
     "iopub.status.busy": "2022-06-01T19:01:00.075715Z",
     "iopub.status.idle": "2022-06-01T19:01:00.082802Z",
     "shell.execute_reply": "2022-06-01T19:01:00.081913Z"
    },
    "papermill": {
     "duration": 0.021394,
     "end_time": "2022-06-01T19:01:00.084758",
     "exception": false,
     "start_time": "2022-06-01T19:01:00.063364",
     "status": "completed"
    },
    "tags": []
   },
   "outputs": [],
   "source": [
    "gender={\"male\":0, \"female\":1}\n",
    "\n",
    "data=[train_df,test_df]\n",
    "\n",
    "for dataset in data:\n",
    "    dataset[\"Sex\"]=dataset[\"Sex\"].map(gender)"
   ]
  },
  {
   "cell_type": "code",
   "execution_count": 26,
   "id": "69ef044a",
   "metadata": {
    "execution": {
     "iopub.execute_input": "2022-06-01T19:01:00.110083Z",
     "iopub.status.busy": "2022-06-01T19:01:00.109464Z",
     "iopub.status.idle": "2022-06-01T19:01:00.115501Z",
     "shell.execute_reply": "2022-06-01T19:01:00.114844Z"
    },
    "papermill": {
     "duration": 0.020842,
     "end_time": "2022-06-01T19:01:00.117339",
     "exception": false,
     "start_time": "2022-06-01T19:01:00.096497",
     "status": "completed"
    },
    "tags": []
   },
   "outputs": [],
   "source": [
    "train_df=train_df.drop(['Ticket'],axis=1)\n",
    "test_df=test_df.drop(['Ticket'],axis=1)"
   ]
  },
  {
   "cell_type": "code",
   "execution_count": 27,
   "id": "2e08e3e1",
   "metadata": {
    "execution": {
     "iopub.execute_input": "2022-06-01T19:01:00.141101Z",
     "iopub.status.busy": "2022-06-01T19:01:00.140710Z",
     "iopub.status.idle": "2022-06-01T19:01:00.147374Z",
     "shell.execute_reply": "2022-06-01T19:01:00.146405Z"
    },
    "papermill": {
     "duration": 0.021085,
     "end_time": "2022-06-01T19:01:00.149536",
     "exception": false,
     "start_time": "2022-06-01T19:01:00.128451",
     "status": "completed"
    },
    "tags": []
   },
   "outputs": [],
   "source": [
    "ports={\"S\":0,\"C\":1,\"Q\":2}\n",
    "data=[train_df,test_df]\n",
    "\n",
    "for dataset in data:\n",
    "    dataset[\"Embarked\"]=dataset[\"Embarked\"].map(ports)"
   ]
  },
  {
   "cell_type": "code",
   "execution_count": 28,
   "id": "914bacfa",
   "metadata": {
    "execution": {
     "iopub.execute_input": "2022-06-01T19:01:00.173823Z",
     "iopub.status.busy": "2022-06-01T19:01:00.173182Z",
     "iopub.status.idle": "2022-06-01T19:01:00.191010Z",
     "shell.execute_reply": "2022-06-01T19:01:00.189897Z"
    },
    "papermill": {
     "duration": 0.032549,
     "end_time": "2022-06-01T19:01:00.193295",
     "exception": false,
     "start_time": "2022-06-01T19:01:00.160746",
     "status": "completed"
    },
    "tags": []
   },
   "outputs": [],
   "source": [
    "data=[train_df,test_df]\n",
    "\n",
    "for dataset in data:\n",
    "    dataset['Age']=dataset['Age'].astype(int)\n",
    "    dataset.loc[dataset['Age']<=11,'Age']=0\n",
    "    dataset.loc[(dataset['Age'] > 11) & (dataset['Age'] <= 18), 'Age'] = 1\n",
    "    dataset.loc[(dataset['Age'] > 18) & (dataset['Age'] <= 22), 'Age'] = 2\n",
    "    dataset.loc[(dataset['Age'] > 22) & (dataset['Age'] <= 27), 'Age'] = 3\n",
    "    dataset.loc[(dataset['Age'] > 27) & (dataset['Age'] <= 33), 'Age'] = 4\n",
    "    dataset.loc[(dataset['Age'] > 33) & (dataset['Age'] <= 40), 'Age'] = 5\n",
    "    dataset.loc[(dataset['Age'] > 40) & (dataset['Age'] <= 66), 'Age'] = 6\n",
    "    dataset.loc[ dataset['Age'] > 66, 'Age'] = 6\n",
    "    \n"
   ]
  },
  {
   "cell_type": "code",
   "execution_count": 29,
   "id": "0ea94844",
   "metadata": {
    "execution": {
     "iopub.execute_input": "2022-06-01T19:01:00.218153Z",
     "iopub.status.busy": "2022-06-01T19:01:00.217719Z",
     "iopub.status.idle": "2022-06-01T19:01:00.233640Z",
     "shell.execute_reply": "2022-06-01T19:01:00.232915Z"
    },
    "papermill": {
     "duration": 0.030814,
     "end_time": "2022-06-01T19:01:00.235684",
     "exception": false,
     "start_time": "2022-06-01T19:01:00.204870",
     "status": "completed"
    },
    "tags": []
   },
   "outputs": [],
   "source": [
    "data = [train_df, test_df]\n",
    "\n",
    "for dataset in data:\n",
    "    dataset.loc[ dataset['Fare'] <= 7.91, 'Fare'] = 0\n",
    "    dataset.loc[(dataset['Fare'] > 7.91) & (dataset['Fare'] <= 14.454), 'Fare'] = 1\n",
    "    dataset.loc[(dataset['Fare'] > 14.454) & (dataset['Fare'] <= 31), 'Fare']   = 2\n",
    "    dataset.loc[(dataset['Fare'] > 31) & (dataset['Fare'] <= 99), 'Fare']   = 3\n",
    "    dataset.loc[(dataset['Fare'] > 99) & (dataset['Fare'] <= 250), 'Fare']   = 4\n",
    "    dataset.loc[ dataset['Fare'] > 250, 'Fare'] = 5\n",
    "    dataset['Fare'] = dataset['Fare'].astype(int)"
   ]
  },
  {
   "cell_type": "code",
   "execution_count": 30,
   "id": "e868636c",
   "metadata": {
    "execution": {
     "iopub.execute_input": "2022-06-01T19:01:00.259799Z",
     "iopub.status.busy": "2022-06-01T19:01:00.258849Z",
     "iopub.status.idle": "2022-06-01T19:01:00.274770Z",
     "shell.execute_reply": "2022-06-01T19:01:00.273774Z"
    },
    "papermill": {
     "duration": 0.030175,
     "end_time": "2022-06-01T19:01:00.276918",
     "exception": false,
     "start_time": "2022-06-01T19:01:00.246743",
     "status": "completed"
    },
    "tags": []
   },
   "outputs": [
    {
     "data": {
      "text/html": [
       "<div>\n",
       "<style scoped>\n",
       "    .dataframe tbody tr th:only-of-type {\n",
       "        vertical-align: middle;\n",
       "    }\n",
       "\n",
       "    .dataframe tbody tr th {\n",
       "        vertical-align: top;\n",
       "    }\n",
       "\n",
       "    .dataframe thead th {\n",
       "        text-align: right;\n",
       "    }\n",
       "</style>\n",
       "<table border=\"1\" class=\"dataframe\">\n",
       "  <thead>\n",
       "    <tr style=\"text-align: right;\">\n",
       "      <th></th>\n",
       "      <th>PassengerId</th>\n",
       "      <th>Survived</th>\n",
       "      <th>Pclass</th>\n",
       "      <th>Name</th>\n",
       "      <th>Sex</th>\n",
       "      <th>Age</th>\n",
       "      <th>SibSp</th>\n",
       "      <th>Parch</th>\n",
       "      <th>Ticket</th>\n",
       "      <th>Fare</th>\n",
       "      <th>Cabin</th>\n",
       "      <th>Embarked</th>\n",
       "      <th>no_of_cabins</th>\n",
       "    </tr>\n",
       "  </thead>\n",
       "  <tbody>\n",
       "    <tr>\n",
       "      <th>0</th>\n",
       "      <td>1</td>\n",
       "      <td>0</td>\n",
       "      <td>3</td>\n",
       "      <td>Braund, Mr. Owen Harris</td>\n",
       "      <td>male</td>\n",
       "      <td>22.0</td>\n",
       "      <td>1</td>\n",
       "      <td>0</td>\n",
       "      <td>A/5 21171</td>\n",
       "      <td>7.2500</td>\n",
       "      <td>NaN</td>\n",
       "      <td>S</td>\n",
       "      <td>0</td>\n",
       "    </tr>\n",
       "    <tr>\n",
       "      <th>1</th>\n",
       "      <td>2</td>\n",
       "      <td>1</td>\n",
       "      <td>1</td>\n",
       "      <td>Cumings, Mrs. John Bradley (Florence Briggs Th...</td>\n",
       "      <td>female</td>\n",
       "      <td>38.0</td>\n",
       "      <td>1</td>\n",
       "      <td>0</td>\n",
       "      <td>PC 17599</td>\n",
       "      <td>71.2833</td>\n",
       "      <td>C85</td>\n",
       "      <td>C</td>\n",
       "      <td>1</td>\n",
       "    </tr>\n",
       "    <tr>\n",
       "      <th>2</th>\n",
       "      <td>3</td>\n",
       "      <td>1</td>\n",
       "      <td>3</td>\n",
       "      <td>Heikkinen, Miss. Laina</td>\n",
       "      <td>female</td>\n",
       "      <td>26.0</td>\n",
       "      <td>0</td>\n",
       "      <td>0</td>\n",
       "      <td>STON/O2. 3101282</td>\n",
       "      <td>7.9250</td>\n",
       "      <td>NaN</td>\n",
       "      <td>S</td>\n",
       "      <td>0</td>\n",
       "    </tr>\n",
       "    <tr>\n",
       "      <th>3</th>\n",
       "      <td>4</td>\n",
       "      <td>1</td>\n",
       "      <td>1</td>\n",
       "      <td>Futrelle, Mrs. Jacques Heath (Lily May Peel)</td>\n",
       "      <td>female</td>\n",
       "      <td>35.0</td>\n",
       "      <td>1</td>\n",
       "      <td>0</td>\n",
       "      <td>113803</td>\n",
       "      <td>53.1000</td>\n",
       "      <td>C123</td>\n",
       "      <td>S</td>\n",
       "      <td>1</td>\n",
       "    </tr>\n",
       "    <tr>\n",
       "      <th>4</th>\n",
       "      <td>5</td>\n",
       "      <td>0</td>\n",
       "      <td>3</td>\n",
       "      <td>Allen, Mr. William Henry</td>\n",
       "      <td>male</td>\n",
       "      <td>35.0</td>\n",
       "      <td>0</td>\n",
       "      <td>0</td>\n",
       "      <td>373450</td>\n",
       "      <td>8.0500</td>\n",
       "      <td>NaN</td>\n",
       "      <td>S</td>\n",
       "      <td>0</td>\n",
       "    </tr>\n",
       "  </tbody>\n",
       "</table>\n",
       "</div>"
      ],
      "text/plain": [
       "   PassengerId  Survived  Pclass  \\\n",
       "0            1         0       3   \n",
       "1            2         1       1   \n",
       "2            3         1       3   \n",
       "3            4         1       1   \n",
       "4            5         0       3   \n",
       "\n",
       "                                                Name     Sex   Age  SibSp  \\\n",
       "0                            Braund, Mr. Owen Harris    male  22.0      1   \n",
       "1  Cumings, Mrs. John Bradley (Florence Briggs Th...  female  38.0      1   \n",
       "2                             Heikkinen, Miss. Laina  female  26.0      0   \n",
       "3       Futrelle, Mrs. Jacques Heath (Lily May Peel)  female  35.0      1   \n",
       "4                           Allen, Mr. William Henry    male  35.0      0   \n",
       "\n",
       "   Parch            Ticket     Fare Cabin Embarked  no_of_cabins  \n",
       "0      0         A/5 21171   7.2500   NaN        S             0  \n",
       "1      0          PC 17599  71.2833   C85        C             1  \n",
       "2      0  STON/O2. 3101282   7.9250   NaN        S             0  \n",
       "3      0            113803  53.1000  C123        S             1  \n",
       "4      0            373450   8.0500   NaN        S             0  "
      ]
     },
     "execution_count": 30,
     "metadata": {},
     "output_type": "execute_result"
    }
   ],
   "source": [
    "dftrain.head()"
   ]
  },
  {
   "cell_type": "code",
   "execution_count": 31,
   "id": "55109304",
   "metadata": {
    "execution": {
     "iopub.execute_input": "2022-06-01T19:01:00.301501Z",
     "iopub.status.busy": "2022-06-01T19:01:00.301114Z",
     "iopub.status.idle": "2022-06-01T19:01:00.311137Z",
     "shell.execute_reply": "2022-06-01T19:01:00.310234Z"
    },
    "papermill": {
     "duration": 0.024426,
     "end_time": "2022-06-01T19:01:00.313185",
     "exception": false,
     "start_time": "2022-06-01T19:01:00.288759",
     "status": "completed"
    },
    "tags": []
   },
   "outputs": [],
   "source": [
    "data = [train_df, test_df]\n",
    "\n",
    "for dataset in data:\n",
    "    dataset[\"age_type\"]=dataset[\"Age\"]*dataset[\"Pclass\"]\n",
    "    dataset[\"Fair_per_person\"]=dataset[\"Fare\"]/(dataset[\"SibSp\"]+1)\n",
    "    dataset[\"Fair_per_person\"].astype(int)"
   ]
  },
  {
   "cell_type": "code",
   "execution_count": 32,
   "id": "83084ed9",
   "metadata": {
    "execution": {
     "iopub.execute_input": "2022-06-01T19:01:00.337427Z",
     "iopub.status.busy": "2022-06-01T19:01:00.337029Z",
     "iopub.status.idle": "2022-06-01T19:01:00.351703Z",
     "shell.execute_reply": "2022-06-01T19:01:00.350860Z"
    },
    "papermill": {
     "duration": 0.029053,
     "end_time": "2022-06-01T19:01:00.353590",
     "exception": false,
     "start_time": "2022-06-01T19:01:00.324537",
     "status": "completed"
    },
    "tags": []
   },
   "outputs": [
    {
     "data": {
      "text/html": [
       "<div>\n",
       "<style scoped>\n",
       "    .dataframe tbody tr th:only-of-type {\n",
       "        vertical-align: middle;\n",
       "    }\n",
       "\n",
       "    .dataframe tbody tr th {\n",
       "        vertical-align: top;\n",
       "    }\n",
       "\n",
       "    .dataframe thead th {\n",
       "        text-align: right;\n",
       "    }\n",
       "</style>\n",
       "<table border=\"1\" class=\"dataframe\">\n",
       "  <thead>\n",
       "    <tr style=\"text-align: right;\">\n",
       "      <th></th>\n",
       "      <th>Survived</th>\n",
       "      <th>Pclass</th>\n",
       "      <th>Sex</th>\n",
       "      <th>Age</th>\n",
       "      <th>SibSp</th>\n",
       "      <th>Parch</th>\n",
       "      <th>Fare</th>\n",
       "      <th>Embarked</th>\n",
       "      <th>no_of_cabins</th>\n",
       "      <th>Deck</th>\n",
       "      <th>Title</th>\n",
       "      <th>age_type</th>\n",
       "      <th>Fair_per_person</th>\n",
       "    </tr>\n",
       "  </thead>\n",
       "  <tbody>\n",
       "    <tr>\n",
       "      <th>0</th>\n",
       "      <td>0</td>\n",
       "      <td>3</td>\n",
       "      <td>0</td>\n",
       "      <td>2</td>\n",
       "      <td>1</td>\n",
       "      <td>0</td>\n",
       "      <td>0</td>\n",
       "      <td>0</td>\n",
       "      <td>0</td>\n",
       "      <td>8</td>\n",
       "      <td>1</td>\n",
       "      <td>6</td>\n",
       "      <td>0.0</td>\n",
       "    </tr>\n",
       "    <tr>\n",
       "      <th>1</th>\n",
       "      <td>1</td>\n",
       "      <td>1</td>\n",
       "      <td>1</td>\n",
       "      <td>5</td>\n",
       "      <td>1</td>\n",
       "      <td>0</td>\n",
       "      <td>3</td>\n",
       "      <td>1</td>\n",
       "      <td>1</td>\n",
       "      <td>3</td>\n",
       "      <td>3</td>\n",
       "      <td>5</td>\n",
       "      <td>1.5</td>\n",
       "    </tr>\n",
       "    <tr>\n",
       "      <th>2</th>\n",
       "      <td>1</td>\n",
       "      <td>3</td>\n",
       "      <td>1</td>\n",
       "      <td>3</td>\n",
       "      <td>0</td>\n",
       "      <td>0</td>\n",
       "      <td>0</td>\n",
       "      <td>0</td>\n",
       "      <td>0</td>\n",
       "      <td>8</td>\n",
       "      <td>2</td>\n",
       "      <td>9</td>\n",
       "      <td>0.0</td>\n",
       "    </tr>\n",
       "    <tr>\n",
       "      <th>3</th>\n",
       "      <td>1</td>\n",
       "      <td>1</td>\n",
       "      <td>1</td>\n",
       "      <td>5</td>\n",
       "      <td>1</td>\n",
       "      <td>0</td>\n",
       "      <td>3</td>\n",
       "      <td>0</td>\n",
       "      <td>1</td>\n",
       "      <td>3</td>\n",
       "      <td>3</td>\n",
       "      <td>5</td>\n",
       "      <td>1.5</td>\n",
       "    </tr>\n",
       "    <tr>\n",
       "      <th>4</th>\n",
       "      <td>0</td>\n",
       "      <td>3</td>\n",
       "      <td>0</td>\n",
       "      <td>5</td>\n",
       "      <td>0</td>\n",
       "      <td>0</td>\n",
       "      <td>1</td>\n",
       "      <td>0</td>\n",
       "      <td>0</td>\n",
       "      <td>8</td>\n",
       "      <td>1</td>\n",
       "      <td>15</td>\n",
       "      <td>1.0</td>\n",
       "    </tr>\n",
       "    <tr>\n",
       "      <th>5</th>\n",
       "      <td>0</td>\n",
       "      <td>3</td>\n",
       "      <td>0</td>\n",
       "      <td>6</td>\n",
       "      <td>0</td>\n",
       "      <td>0</td>\n",
       "      <td>1</td>\n",
       "      <td>2</td>\n",
       "      <td>0</td>\n",
       "      <td>8</td>\n",
       "      <td>1</td>\n",
       "      <td>18</td>\n",
       "      <td>1.0</td>\n",
       "    </tr>\n",
       "    <tr>\n",
       "      <th>6</th>\n",
       "      <td>0</td>\n",
       "      <td>1</td>\n",
       "      <td>0</td>\n",
       "      <td>6</td>\n",
       "      <td>0</td>\n",
       "      <td>0</td>\n",
       "      <td>3</td>\n",
       "      <td>0</td>\n",
       "      <td>1</td>\n",
       "      <td>5</td>\n",
       "      <td>1</td>\n",
       "      <td>6</td>\n",
       "      <td>3.0</td>\n",
       "    </tr>\n",
       "    <tr>\n",
       "      <th>7</th>\n",
       "      <td>0</td>\n",
       "      <td>3</td>\n",
       "      <td>0</td>\n",
       "      <td>0</td>\n",
       "      <td>3</td>\n",
       "      <td>1</td>\n",
       "      <td>2</td>\n",
       "      <td>0</td>\n",
       "      <td>0</td>\n",
       "      <td>8</td>\n",
       "      <td>4</td>\n",
       "      <td>0</td>\n",
       "      <td>0.5</td>\n",
       "    </tr>\n",
       "    <tr>\n",
       "      <th>8</th>\n",
       "      <td>1</td>\n",
       "      <td>3</td>\n",
       "      <td>1</td>\n",
       "      <td>3</td>\n",
       "      <td>0</td>\n",
       "      <td>2</td>\n",
       "      <td>1</td>\n",
       "      <td>0</td>\n",
       "      <td>0</td>\n",
       "      <td>8</td>\n",
       "      <td>3</td>\n",
       "      <td>9</td>\n",
       "      <td>1.0</td>\n",
       "    </tr>\n",
       "    <tr>\n",
       "      <th>9</th>\n",
       "      <td>1</td>\n",
       "      <td>2</td>\n",
       "      <td>1</td>\n",
       "      <td>1</td>\n",
       "      <td>1</td>\n",
       "      <td>0</td>\n",
       "      <td>2</td>\n",
       "      <td>1</td>\n",
       "      <td>0</td>\n",
       "      <td>8</td>\n",
       "      <td>3</td>\n",
       "      <td>2</td>\n",
       "      <td>1.0</td>\n",
       "    </tr>\n",
       "  </tbody>\n",
       "</table>\n",
       "</div>"
      ],
      "text/plain": [
       "   Survived  Pclass  Sex  Age  SibSp  Parch  Fare  Embarked  no_of_cabins  \\\n",
       "0         0       3    0    2      1      0     0         0             0   \n",
       "1         1       1    1    5      1      0     3         1             1   \n",
       "2         1       3    1    3      0      0     0         0             0   \n",
       "3         1       1    1    5      1      0     3         0             1   \n",
       "4         0       3    0    5      0      0     1         0             0   \n",
       "5         0       3    0    6      0      0     1         2             0   \n",
       "6         0       1    0    6      0      0     3         0             1   \n",
       "7         0       3    0    0      3      1     2         0             0   \n",
       "8         1       3    1    3      0      2     1         0             0   \n",
       "9         1       2    1    1      1      0     2         1             0   \n",
       "\n",
       "   Deck  Title  age_type  Fair_per_person  \n",
       "0     8      1         6              0.0  \n",
       "1     3      3         5              1.5  \n",
       "2     8      2         9              0.0  \n",
       "3     3      3         5              1.5  \n",
       "4     8      1        15              1.0  \n",
       "5     8      1        18              1.0  \n",
       "6     5      1         6              3.0  \n",
       "7     8      4         0              0.5  \n",
       "8     8      3         9              1.0  \n",
       "9     8      3         2              1.0  "
      ]
     },
     "execution_count": 32,
     "metadata": {},
     "output_type": "execute_result"
    }
   ],
   "source": [
    "train_df.head(10)"
   ]
  },
  {
   "cell_type": "code",
   "execution_count": 33,
   "id": "fa379abd",
   "metadata": {
    "execution": {
     "iopub.execute_input": "2022-06-01T19:01:00.378604Z",
     "iopub.status.busy": "2022-06-01T19:01:00.378070Z",
     "iopub.status.idle": "2022-06-01T19:01:00.389012Z",
     "shell.execute_reply": "2022-06-01T19:01:00.388401Z"
    },
    "papermill": {
     "duration": 0.025485,
     "end_time": "2022-06-01T19:01:00.390819",
     "exception": false,
     "start_time": "2022-06-01T19:01:00.365334",
     "status": "completed"
    },
    "tags": []
   },
   "outputs": [
    {
     "data": {
      "text/html": [
       "<div>\n",
       "<style scoped>\n",
       "    .dataframe tbody tr th:only-of-type {\n",
       "        vertical-align: middle;\n",
       "    }\n",
       "\n",
       "    .dataframe tbody tr th {\n",
       "        vertical-align: top;\n",
       "    }\n",
       "\n",
       "    .dataframe thead th {\n",
       "        text-align: right;\n",
       "    }\n",
       "</style>\n",
       "<table border=\"1\" class=\"dataframe\">\n",
       "  <thead>\n",
       "    <tr style=\"text-align: right;\">\n",
       "      <th></th>\n",
       "      <th>PassengerId</th>\n",
       "      <th>Pclass</th>\n",
       "      <th>Sex</th>\n",
       "      <th>Age</th>\n",
       "      <th>SibSp</th>\n",
       "      <th>Parch</th>\n",
       "      <th>Fare</th>\n",
       "      <th>Embarked</th>\n",
       "      <th>no_of_cabins</th>\n",
       "      <th>Title</th>\n",
       "      <th>age_type</th>\n",
       "      <th>Fair_per_person</th>\n",
       "    </tr>\n",
       "  </thead>\n",
       "  <tbody>\n",
       "    <tr>\n",
       "      <th>0</th>\n",
       "      <td>892</td>\n",
       "      <td>3</td>\n",
       "      <td>0</td>\n",
       "      <td>2</td>\n",
       "      <td>0</td>\n",
       "      <td>0</td>\n",
       "      <td>0</td>\n",
       "      <td>2</td>\n",
       "      <td>0</td>\n",
       "      <td>1</td>\n",
       "      <td>6</td>\n",
       "      <td>0.0</td>\n",
       "    </tr>\n",
       "    <tr>\n",
       "      <th>1</th>\n",
       "      <td>893</td>\n",
       "      <td>3</td>\n",
       "      <td>1</td>\n",
       "      <td>5</td>\n",
       "      <td>1</td>\n",
       "      <td>0</td>\n",
       "      <td>0</td>\n",
       "      <td>0</td>\n",
       "      <td>1</td>\n",
       "      <td>3</td>\n",
       "      <td>15</td>\n",
       "      <td>0.0</td>\n",
       "    </tr>\n",
       "    <tr>\n",
       "      <th>2</th>\n",
       "      <td>894</td>\n",
       "      <td>2</td>\n",
       "      <td>0</td>\n",
       "      <td>3</td>\n",
       "      <td>0</td>\n",
       "      <td>0</td>\n",
       "      <td>1</td>\n",
       "      <td>2</td>\n",
       "      <td>0</td>\n",
       "      <td>1</td>\n",
       "      <td>6</td>\n",
       "      <td>1.0</td>\n",
       "    </tr>\n",
       "    <tr>\n",
       "      <th>3</th>\n",
       "      <td>895</td>\n",
       "      <td>3</td>\n",
       "      <td>0</td>\n",
       "      <td>5</td>\n",
       "      <td>0</td>\n",
       "      <td>0</td>\n",
       "      <td>1</td>\n",
       "      <td>0</td>\n",
       "      <td>1</td>\n",
       "      <td>1</td>\n",
       "      <td>15</td>\n",
       "      <td>1.0</td>\n",
       "    </tr>\n",
       "    <tr>\n",
       "      <th>4</th>\n",
       "      <td>896</td>\n",
       "      <td>3</td>\n",
       "      <td>1</td>\n",
       "      <td>5</td>\n",
       "      <td>1</td>\n",
       "      <td>1</td>\n",
       "      <td>1</td>\n",
       "      <td>0</td>\n",
       "      <td>0</td>\n",
       "      <td>3</td>\n",
       "      <td>15</td>\n",
       "      <td>0.5</td>\n",
       "    </tr>\n",
       "  </tbody>\n",
       "</table>\n",
       "</div>"
      ],
      "text/plain": [
       "   PassengerId  Pclass  Sex  Age  SibSp  Parch  Fare  Embarked  no_of_cabins  \\\n",
       "0          892       3    0    2      0      0     0         2             0   \n",
       "1          893       3    1    5      1      0     0         0             1   \n",
       "2          894       2    0    3      0      0     1         2             0   \n",
       "3          895       3    0    5      0      0     1         0             1   \n",
       "4          896       3    1    5      1      1     1         0             0   \n",
       "\n",
       "   Title  age_type  Fair_per_person  \n",
       "0      1         6              0.0  \n",
       "1      3        15              0.0  \n",
       "2      1         6              1.0  \n",
       "3      1        15              1.0  \n",
       "4      3        15              0.5  "
      ]
     },
     "execution_count": 33,
     "metadata": {},
     "output_type": "execute_result"
    }
   ],
   "source": [
    "test_df.head()"
   ]
  },
  {
   "cell_type": "code",
   "execution_count": 34,
   "id": "1ef09702",
   "metadata": {
    "execution": {
     "iopub.execute_input": "2022-06-01T19:01:00.416927Z",
     "iopub.status.busy": "2022-06-01T19:01:00.416517Z",
     "iopub.status.idle": "2022-06-01T19:01:00.424568Z",
     "shell.execute_reply": "2022-06-01T19:01:00.423787Z"
    },
    "papermill": {
     "duration": 0.023479,
     "end_time": "2022-06-01T19:01:00.426576",
     "exception": false,
     "start_time": "2022-06-01T19:01:00.403097",
     "status": "completed"
    },
    "tags": []
   },
   "outputs": [],
   "source": [
    "x_train1=train_df.drop(\"Survived\",axis=1)\n",
    "x_train=x_train1.drop(\"Deck\",axis=1)\n",
    "y_train=train_df[\"Survived\"]\n",
    "x_test=test_df.drop(\"PassengerId\", axis=1)"
   ]
  },
  {
   "cell_type": "code",
   "execution_count": 35,
   "id": "894c78b9",
   "metadata": {
    "execution": {
     "iopub.execute_input": "2022-06-01T19:01:00.452117Z",
     "iopub.status.busy": "2022-06-01T19:01:00.451721Z",
     "iopub.status.idle": "2022-06-01T19:01:00.462961Z",
     "shell.execute_reply": "2022-06-01T19:01:00.462268Z"
    },
    "papermill": {
     "duration": 0.026101,
     "end_time": "2022-06-01T19:01:00.464513",
     "exception": false,
     "start_time": "2022-06-01T19:01:00.438412",
     "status": "completed"
    },
    "tags": []
   },
   "outputs": [
    {
     "data": {
      "text/html": [
       "<div>\n",
       "<style scoped>\n",
       "    .dataframe tbody tr th:only-of-type {\n",
       "        vertical-align: middle;\n",
       "    }\n",
       "\n",
       "    .dataframe tbody tr th {\n",
       "        vertical-align: top;\n",
       "    }\n",
       "\n",
       "    .dataframe thead th {\n",
       "        text-align: right;\n",
       "    }\n",
       "</style>\n",
       "<table border=\"1\" class=\"dataframe\">\n",
       "  <thead>\n",
       "    <tr style=\"text-align: right;\">\n",
       "      <th></th>\n",
       "      <th>Pclass</th>\n",
       "      <th>Sex</th>\n",
       "      <th>Age</th>\n",
       "      <th>SibSp</th>\n",
       "      <th>Parch</th>\n",
       "      <th>Fare</th>\n",
       "      <th>Embarked</th>\n",
       "      <th>no_of_cabins</th>\n",
       "      <th>Title</th>\n",
       "      <th>age_type</th>\n",
       "      <th>Fair_per_person</th>\n",
       "    </tr>\n",
       "  </thead>\n",
       "  <tbody>\n",
       "    <tr>\n",
       "      <th>0</th>\n",
       "      <td>3</td>\n",
       "      <td>0</td>\n",
       "      <td>2</td>\n",
       "      <td>1</td>\n",
       "      <td>0</td>\n",
       "      <td>0</td>\n",
       "      <td>0</td>\n",
       "      <td>0</td>\n",
       "      <td>1</td>\n",
       "      <td>6</td>\n",
       "      <td>0.0</td>\n",
       "    </tr>\n",
       "    <tr>\n",
       "      <th>1</th>\n",
       "      <td>1</td>\n",
       "      <td>1</td>\n",
       "      <td>5</td>\n",
       "      <td>1</td>\n",
       "      <td>0</td>\n",
       "      <td>3</td>\n",
       "      <td>1</td>\n",
       "      <td>1</td>\n",
       "      <td>3</td>\n",
       "      <td>5</td>\n",
       "      <td>1.5</td>\n",
       "    </tr>\n",
       "    <tr>\n",
       "      <th>2</th>\n",
       "      <td>3</td>\n",
       "      <td>1</td>\n",
       "      <td>3</td>\n",
       "      <td>0</td>\n",
       "      <td>0</td>\n",
       "      <td>0</td>\n",
       "      <td>0</td>\n",
       "      <td>0</td>\n",
       "      <td>2</td>\n",
       "      <td>9</td>\n",
       "      <td>0.0</td>\n",
       "    </tr>\n",
       "    <tr>\n",
       "      <th>3</th>\n",
       "      <td>1</td>\n",
       "      <td>1</td>\n",
       "      <td>5</td>\n",
       "      <td>1</td>\n",
       "      <td>0</td>\n",
       "      <td>3</td>\n",
       "      <td>0</td>\n",
       "      <td>1</td>\n",
       "      <td>3</td>\n",
       "      <td>5</td>\n",
       "      <td>1.5</td>\n",
       "    </tr>\n",
       "    <tr>\n",
       "      <th>4</th>\n",
       "      <td>3</td>\n",
       "      <td>0</td>\n",
       "      <td>5</td>\n",
       "      <td>0</td>\n",
       "      <td>0</td>\n",
       "      <td>1</td>\n",
       "      <td>0</td>\n",
       "      <td>0</td>\n",
       "      <td>1</td>\n",
       "      <td>15</td>\n",
       "      <td>1.0</td>\n",
       "    </tr>\n",
       "  </tbody>\n",
       "</table>\n",
       "</div>"
      ],
      "text/plain": [
       "   Pclass  Sex  Age  SibSp  Parch  Fare  Embarked  no_of_cabins  Title  \\\n",
       "0       3    0    2      1      0     0         0             0      1   \n",
       "1       1    1    5      1      0     3         1             1      3   \n",
       "2       3    1    3      0      0     0         0             0      2   \n",
       "3       1    1    5      1      0     3         0             1      3   \n",
       "4       3    0    5      0      0     1         0             0      1   \n",
       "\n",
       "   age_type  Fair_per_person  \n",
       "0         6              0.0  \n",
       "1         5              1.5  \n",
       "2         9              0.0  \n",
       "3         5              1.5  \n",
       "4        15              1.0  "
      ]
     },
     "execution_count": 35,
     "metadata": {},
     "output_type": "execute_result"
    }
   ],
   "source": [
    "x_train.head()"
   ]
  },
  {
   "cell_type": "code",
   "execution_count": 36,
   "id": "5201500f",
   "metadata": {
    "execution": {
     "iopub.execute_input": "2022-06-01T19:01:00.490308Z",
     "iopub.status.busy": "2022-06-01T19:01:00.489649Z",
     "iopub.status.idle": "2022-06-01T19:01:00.906173Z",
     "shell.execute_reply": "2022-06-01T19:01:00.905024Z"
    },
    "papermill": {
     "duration": 0.432022,
     "end_time": "2022-06-01T19:01:00.908471",
     "exception": false,
     "start_time": "2022-06-01T19:01:00.476449",
     "status": "completed"
    },
    "tags": []
   },
   "outputs": [],
   "source": [
    "from matplotlib import pyplot as plt\n",
    "from matplotlib import style\n",
    "\n",
    "# Algorithms\n",
    "from sklearn import linear_model\n",
    "from sklearn.linear_model import LogisticRegression\n",
    "from sklearn.ensemble import RandomForestClassifier\n",
    "from sklearn.linear_model import Perceptron\n",
    "from sklearn.linear_model import SGDClassifier\n",
    "from sklearn.tree import DecisionTreeClassifier\n",
    "from sklearn.neighbors import KNeighborsClassifier\n",
    "from sklearn.svm import SVC, LinearSVC\n",
    "from sklearn.naive_bayes import GaussianNB"
   ]
  },
  {
   "cell_type": "code",
   "execution_count": 37,
   "id": "971b1971",
   "metadata": {
    "execution": {
     "iopub.execute_input": "2022-06-01T19:01:00.935217Z",
     "iopub.status.busy": "2022-06-01T19:01:00.934345Z",
     "iopub.status.idle": "2022-06-01T19:01:00.947078Z",
     "shell.execute_reply": "2022-06-01T19:01:00.946163Z"
    },
    "papermill": {
     "duration": 0.028101,
     "end_time": "2022-06-01T19:01:00.948972",
     "exception": false,
     "start_time": "2022-06-01T19:01:00.920871",
     "status": "completed"
    },
    "tags": []
   },
   "outputs": [
    {
     "data": {
      "text/html": [
       "<div>\n",
       "<style scoped>\n",
       "    .dataframe tbody tr th:only-of-type {\n",
       "        vertical-align: middle;\n",
       "    }\n",
       "\n",
       "    .dataframe tbody tr th {\n",
       "        vertical-align: top;\n",
       "    }\n",
       "\n",
       "    .dataframe thead th {\n",
       "        text-align: right;\n",
       "    }\n",
       "</style>\n",
       "<table border=\"1\" class=\"dataframe\">\n",
       "  <thead>\n",
       "    <tr style=\"text-align: right;\">\n",
       "      <th></th>\n",
       "      <th>Pclass</th>\n",
       "      <th>Sex</th>\n",
       "      <th>Age</th>\n",
       "      <th>SibSp</th>\n",
       "      <th>Parch</th>\n",
       "      <th>Fare</th>\n",
       "      <th>Embarked</th>\n",
       "      <th>no_of_cabins</th>\n",
       "      <th>Title</th>\n",
       "      <th>age_type</th>\n",
       "      <th>Fair_per_person</th>\n",
       "    </tr>\n",
       "  </thead>\n",
       "  <tbody>\n",
       "    <tr>\n",
       "      <th>0</th>\n",
       "      <td>3</td>\n",
       "      <td>0</td>\n",
       "      <td>2</td>\n",
       "      <td>1</td>\n",
       "      <td>0</td>\n",
       "      <td>0</td>\n",
       "      <td>0</td>\n",
       "      <td>0</td>\n",
       "      <td>1</td>\n",
       "      <td>6</td>\n",
       "      <td>0.0</td>\n",
       "    </tr>\n",
       "    <tr>\n",
       "      <th>1</th>\n",
       "      <td>1</td>\n",
       "      <td>1</td>\n",
       "      <td>5</td>\n",
       "      <td>1</td>\n",
       "      <td>0</td>\n",
       "      <td>3</td>\n",
       "      <td>1</td>\n",
       "      <td>1</td>\n",
       "      <td>3</td>\n",
       "      <td>5</td>\n",
       "      <td>1.5</td>\n",
       "    </tr>\n",
       "    <tr>\n",
       "      <th>2</th>\n",
       "      <td>3</td>\n",
       "      <td>1</td>\n",
       "      <td>3</td>\n",
       "      <td>0</td>\n",
       "      <td>0</td>\n",
       "      <td>0</td>\n",
       "      <td>0</td>\n",
       "      <td>0</td>\n",
       "      <td>2</td>\n",
       "      <td>9</td>\n",
       "      <td>0.0</td>\n",
       "    </tr>\n",
       "    <tr>\n",
       "      <th>3</th>\n",
       "      <td>1</td>\n",
       "      <td>1</td>\n",
       "      <td>5</td>\n",
       "      <td>1</td>\n",
       "      <td>0</td>\n",
       "      <td>3</td>\n",
       "      <td>0</td>\n",
       "      <td>1</td>\n",
       "      <td>3</td>\n",
       "      <td>5</td>\n",
       "      <td>1.5</td>\n",
       "    </tr>\n",
       "    <tr>\n",
       "      <th>4</th>\n",
       "      <td>3</td>\n",
       "      <td>0</td>\n",
       "      <td>5</td>\n",
       "      <td>0</td>\n",
       "      <td>0</td>\n",
       "      <td>1</td>\n",
       "      <td>0</td>\n",
       "      <td>0</td>\n",
       "      <td>1</td>\n",
       "      <td>15</td>\n",
       "      <td>1.0</td>\n",
       "    </tr>\n",
       "  </tbody>\n",
       "</table>\n",
       "</div>"
      ],
      "text/plain": [
       "   Pclass  Sex  Age  SibSp  Parch  Fare  Embarked  no_of_cabins  Title  \\\n",
       "0       3    0    2      1      0     0         0             0      1   \n",
       "1       1    1    5      1      0     3         1             1      3   \n",
       "2       3    1    3      0      0     0         0             0      2   \n",
       "3       1    1    5      1      0     3         0             1      3   \n",
       "4       3    0    5      0      0     1         0             0      1   \n",
       "\n",
       "   age_type  Fair_per_person  \n",
       "0         6              0.0  \n",
       "1         5              1.5  \n",
       "2         9              0.0  \n",
       "3         5              1.5  \n",
       "4        15              1.0  "
      ]
     },
     "execution_count": 37,
     "metadata": {},
     "output_type": "execute_result"
    }
   ],
   "source": [
    "x_train.head()"
   ]
  },
  {
   "cell_type": "code",
   "execution_count": 38,
   "id": "48b011aa",
   "metadata": {
    "execution": {
     "iopub.execute_input": "2022-06-01T19:01:00.975919Z",
     "iopub.status.busy": "2022-06-01T19:01:00.974880Z",
     "iopub.status.idle": "2022-06-01T19:01:00.994567Z",
     "shell.execute_reply": "2022-06-01T19:01:00.993410Z"
    },
    "papermill": {
     "duration": 0.036556,
     "end_time": "2022-06-01T19:01:00.998110",
     "exception": false,
     "start_time": "2022-06-01T19:01:00.961554",
     "status": "completed"
    },
    "tags": []
   },
   "outputs": [
    {
     "data": {
      "text/plain": [
       "77.89"
      ]
     },
     "execution_count": 38,
     "metadata": {},
     "output_type": "execute_result"
    }
   ],
   "source": [
    "sgd=linear_model.SGDClassifier(max_iter=5,tol=None)\n",
    "sgd.fit(x_train,y_train)\n",
    "y_pred=sgd.predict(x_test)\n",
    "\n",
    "round(sgd.score(x_train,y_train)*100,2)"
   ]
  },
  {
   "cell_type": "code",
   "execution_count": 39,
   "id": "86c3478c",
   "metadata": {
    "execution": {
     "iopub.execute_input": "2022-06-01T19:01:01.062211Z",
     "iopub.status.busy": "2022-06-01T19:01:01.061532Z",
     "iopub.status.idle": "2022-06-01T19:01:01.309929Z",
     "shell.execute_reply": "2022-06-01T19:01:01.308934Z"
    },
    "papermill": {
     "duration": 0.288714,
     "end_time": "2022-06-01T19:01:01.312051",
     "exception": false,
     "start_time": "2022-06-01T19:01:01.023337",
     "status": "completed"
    },
    "tags": []
   },
   "outputs": [
    {
     "data": {
      "text/plain": [
       "92.03"
      ]
     },
     "execution_count": 39,
     "metadata": {},
     "output_type": "execute_result"
    }
   ],
   "source": [
    "random_forest=RandomForestClassifier(n_estimators=100)\n",
    "random_forest.fit(x_train,y_train)\n",
    "\n",
    "y_predict=random_forest.predict(x_test)\n",
    "\n",
    "round(random_forest.score(x_train,y_train)*100,2)\n",
    "\n"
   ]
  },
  {
   "cell_type": "code",
   "execution_count": null,
   "id": "3ba81065",
   "metadata": {
    "papermill": {
     "duration": 0.012359,
     "end_time": "2022-06-01T19:01:01.336821",
     "exception": false,
     "start_time": "2022-06-01T19:01:01.324462",
     "status": "completed"
    },
    "tags": []
   },
   "outputs": [],
   "source": []
  }
 ],
 "metadata": {
  "kernelspec": {
   "display_name": "Python 3",
   "language": "python",
   "name": "python3"
  },
  "language_info": {
   "codemirror_mode": {
    "name": "ipython",
    "version": 3
   },
   "file_extension": ".py",
   "mimetype": "text/x-python",
   "name": "python",
   "nbconvert_exporter": "python",
   "pygments_lexer": "ipython3",
   "version": "3.7.12"
  },
  "papermill": {
   "default_parameters": {},
   "duration": 14.719266,
   "end_time": "2022-06-01T19:01:02.070216",
   "environment_variables": {},
   "exception": null,
   "input_path": "__notebook__.ipynb",
   "output_path": "__notebook__.ipynb",
   "parameters": {},
   "start_time": "2022-06-01T19:00:47.350950",
   "version": "2.3.4"
  }
 },
 "nbformat": 4,
 "nbformat_minor": 5
}
