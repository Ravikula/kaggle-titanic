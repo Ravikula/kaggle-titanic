{
 "cells": [
  {
   "cell_type": "code",
   "execution_count": 1,
   "id": "a093bdc5",
   "metadata": {
    "_cell_guid": "b1076dfc-b9ad-4769-8c92-a6c4dae69d19",
    "_uuid": "8f2839f25d086af736a60e9eeb907d3b93b6e0e5",
    "execution": {
     "iopub.execute_input": "2022-05-30T20:19:18.369909Z",
     "iopub.status.busy": "2022-05-30T20:19:18.369051Z",
     "iopub.status.idle": "2022-05-30T20:19:19.447372Z",
     "shell.execute_reply": "2022-05-30T20:19:19.446350Z"
    },
    "papermill": {
     "duration": 1.091793,
     "end_time": "2022-05-30T20:19:19.449986",
     "exception": false,
     "start_time": "2022-05-30T20:19:18.358193",
     "status": "completed"
    },
    "tags": []
   },
   "outputs": [
    {
     "name": "stdout",
     "output_type": "stream",
     "text": [
      "/kaggle/input/titanic/train.csv\n",
      "/kaggle/input/titanic/test.csv\n",
      "/kaggle/input/titanic/gender_submission.csv\n"
     ]
    }
   ],
   "source": [
    "from __future__ import absolute_import, division, print_function, unicode_literals\n",
    "\n",
    "import numpy as np \n",
    "import pandas as pd \n",
    "import matplotlib.pyplot as plt\n",
    "import seaborn as sns\n",
    "\n",
    "%matplotlib inline\n",
    "import os\n",
    "for dirname, _, filenames in os.walk('/kaggle/input'):\n",
    "    for filename in filenames:\n",
    "        print(os.path.join(dirname, filename))"
   ]
  },
  {
   "cell_type": "code",
   "execution_count": 2,
   "id": "d1941c40",
   "metadata": {
    "execution": {
     "iopub.execute_input": "2022-05-30T20:19:19.464549Z",
     "iopub.status.busy": "2022-05-30T20:19:19.463440Z",
     "iopub.status.idle": "2022-05-30T20:19:19.467857Z",
     "shell.execute_reply": "2022-05-30T20:19:19.467137Z"
    },
    "papermill": {
     "duration": 0.013645,
     "end_time": "2022-05-30T20:19:19.469770",
     "exception": false,
     "start_time": "2022-05-30T20:19:19.456125",
     "status": "completed"
    },
    "tags": []
   },
   "outputs": [],
   "source": [
    "#VISUALISING AND UNDERSTANDING THE DATASET"
   ]
  },
  {
   "cell_type": "code",
   "execution_count": 3,
   "id": "9fbd2f99",
   "metadata": {
    "execution": {
     "iopub.execute_input": "2022-05-30T20:19:19.483033Z",
     "iopub.status.busy": "2022-05-30T20:19:19.482520Z",
     "iopub.status.idle": "2022-05-30T20:19:19.526750Z",
     "shell.execute_reply": "2022-05-30T20:19:19.525793Z"
    },
    "papermill": {
     "duration": 0.053564,
     "end_time": "2022-05-30T20:19:19.529183",
     "exception": false,
     "start_time": "2022-05-30T20:19:19.475619",
     "status": "completed"
    },
    "tags": []
   },
   "outputs": [
    {
     "data": {
      "text/html": [
       "<div>\n",
       "<style scoped>\n",
       "    .dataframe tbody tr th:only-of-type {\n",
       "        vertical-align: middle;\n",
       "    }\n",
       "\n",
       "    .dataframe tbody tr th {\n",
       "        vertical-align: top;\n",
       "    }\n",
       "\n",
       "    .dataframe thead th {\n",
       "        text-align: right;\n",
       "    }\n",
       "</style>\n",
       "<table border=\"1\" class=\"dataframe\">\n",
       "  <thead>\n",
       "    <tr style=\"text-align: right;\">\n",
       "      <th></th>\n",
       "      <th>PassengerId</th>\n",
       "      <th>Survived</th>\n",
       "      <th>Pclass</th>\n",
       "      <th>Name</th>\n",
       "      <th>Sex</th>\n",
       "      <th>Age</th>\n",
       "      <th>SibSp</th>\n",
       "      <th>Parch</th>\n",
       "      <th>Ticket</th>\n",
       "      <th>Fare</th>\n",
       "      <th>Cabin</th>\n",
       "      <th>Embarked</th>\n",
       "    </tr>\n",
       "  </thead>\n",
       "  <tbody>\n",
       "    <tr>\n",
       "      <th>0</th>\n",
       "      <td>1</td>\n",
       "      <td>0</td>\n",
       "      <td>3</td>\n",
       "      <td>Braund, Mr. Owen Harris</td>\n",
       "      <td>male</td>\n",
       "      <td>22.0</td>\n",
       "      <td>1</td>\n",
       "      <td>0</td>\n",
       "      <td>A/5 21171</td>\n",
       "      <td>7.2500</td>\n",
       "      <td>NaN</td>\n",
       "      <td>S</td>\n",
       "    </tr>\n",
       "    <tr>\n",
       "      <th>1</th>\n",
       "      <td>2</td>\n",
       "      <td>1</td>\n",
       "      <td>1</td>\n",
       "      <td>Cumings, Mrs. John Bradley (Florence Briggs Th...</td>\n",
       "      <td>female</td>\n",
       "      <td>38.0</td>\n",
       "      <td>1</td>\n",
       "      <td>0</td>\n",
       "      <td>PC 17599</td>\n",
       "      <td>71.2833</td>\n",
       "      <td>C85</td>\n",
       "      <td>C</td>\n",
       "    </tr>\n",
       "    <tr>\n",
       "      <th>2</th>\n",
       "      <td>3</td>\n",
       "      <td>1</td>\n",
       "      <td>3</td>\n",
       "      <td>Heikkinen, Miss. Laina</td>\n",
       "      <td>female</td>\n",
       "      <td>26.0</td>\n",
       "      <td>0</td>\n",
       "      <td>0</td>\n",
       "      <td>STON/O2. 3101282</td>\n",
       "      <td>7.9250</td>\n",
       "      <td>NaN</td>\n",
       "      <td>S</td>\n",
       "    </tr>\n",
       "    <tr>\n",
       "      <th>3</th>\n",
       "      <td>4</td>\n",
       "      <td>1</td>\n",
       "      <td>1</td>\n",
       "      <td>Futrelle, Mrs. Jacques Heath (Lily May Peel)</td>\n",
       "      <td>female</td>\n",
       "      <td>35.0</td>\n",
       "      <td>1</td>\n",
       "      <td>0</td>\n",
       "      <td>113803</td>\n",
       "      <td>53.1000</td>\n",
       "      <td>C123</td>\n",
       "      <td>S</td>\n",
       "    </tr>\n",
       "    <tr>\n",
       "      <th>4</th>\n",
       "      <td>5</td>\n",
       "      <td>0</td>\n",
       "      <td>3</td>\n",
       "      <td>Allen, Mr. William Henry</td>\n",
       "      <td>male</td>\n",
       "      <td>35.0</td>\n",
       "      <td>0</td>\n",
       "      <td>0</td>\n",
       "      <td>373450</td>\n",
       "      <td>8.0500</td>\n",
       "      <td>NaN</td>\n",
       "      <td>S</td>\n",
       "    </tr>\n",
       "  </tbody>\n",
       "</table>\n",
       "</div>"
      ],
      "text/plain": [
       "   PassengerId  Survived  Pclass  \\\n",
       "0            1         0       3   \n",
       "1            2         1       1   \n",
       "2            3         1       3   \n",
       "3            4         1       1   \n",
       "4            5         0       3   \n",
       "\n",
       "                                                Name     Sex   Age  SibSp  \\\n",
       "0                            Braund, Mr. Owen Harris    male  22.0      1   \n",
       "1  Cumings, Mrs. John Bradley (Florence Briggs Th...  female  38.0      1   \n",
       "2                             Heikkinen, Miss. Laina  female  26.0      0   \n",
       "3       Futrelle, Mrs. Jacques Heath (Lily May Peel)  female  35.0      1   \n",
       "4                           Allen, Mr. William Henry    male  35.0      0   \n",
       "\n",
       "   Parch            Ticket     Fare Cabin Embarked  \n",
       "0      0         A/5 21171   7.2500   NaN        S  \n",
       "1      0          PC 17599  71.2833   C85        C  \n",
       "2      0  STON/O2. 3101282   7.9250   NaN        S  \n",
       "3      0            113803  53.1000  C123        S  \n",
       "4      0            373450   8.0500   NaN        S  "
      ]
     },
     "execution_count": 3,
     "metadata": {},
     "output_type": "execute_result"
    }
   ],
   "source": [
    "dftrain=pd.read_csv('/kaggle/input/titanic/train.csv')\n",
    "dfeval=pd.read_csv('/kaggle/input/titanic/test.csv')\n",
    "\n",
    "dftrain.head()"
   ]
  },
  {
   "cell_type": "code",
   "execution_count": 4,
   "id": "2d0a0032",
   "metadata": {
    "execution": {
     "iopub.execute_input": "2022-05-30T20:19:19.543439Z",
     "iopub.status.busy": "2022-05-30T20:19:19.542541Z",
     "iopub.status.idle": "2022-05-30T20:19:19.582635Z",
     "shell.execute_reply": "2022-05-30T20:19:19.581742Z"
    },
    "papermill": {
     "duration": 0.04945,
     "end_time": "2022-05-30T20:19:19.584813",
     "exception": false,
     "start_time": "2022-05-30T20:19:19.535363",
     "status": "completed"
    },
    "tags": []
   },
   "outputs": [
    {
     "data": {
      "text/html": [
       "<div>\n",
       "<style scoped>\n",
       "    .dataframe tbody tr th:only-of-type {\n",
       "        vertical-align: middle;\n",
       "    }\n",
       "\n",
       "    .dataframe tbody tr th {\n",
       "        vertical-align: top;\n",
       "    }\n",
       "\n",
       "    .dataframe thead th {\n",
       "        text-align: right;\n",
       "    }\n",
       "</style>\n",
       "<table border=\"1\" class=\"dataframe\">\n",
       "  <thead>\n",
       "    <tr style=\"text-align: right;\">\n",
       "      <th></th>\n",
       "      <th>PassengerId</th>\n",
       "      <th>Survived</th>\n",
       "      <th>Pclass</th>\n",
       "      <th>Age</th>\n",
       "      <th>SibSp</th>\n",
       "      <th>Parch</th>\n",
       "      <th>Fare</th>\n",
       "    </tr>\n",
       "  </thead>\n",
       "  <tbody>\n",
       "    <tr>\n",
       "      <th>count</th>\n",
       "      <td>891.000000</td>\n",
       "      <td>891.000000</td>\n",
       "      <td>891.000000</td>\n",
       "      <td>714.000000</td>\n",
       "      <td>891.000000</td>\n",
       "      <td>891.000000</td>\n",
       "      <td>891.000000</td>\n",
       "    </tr>\n",
       "    <tr>\n",
       "      <th>mean</th>\n",
       "      <td>446.000000</td>\n",
       "      <td>0.383838</td>\n",
       "      <td>2.308642</td>\n",
       "      <td>29.699118</td>\n",
       "      <td>0.523008</td>\n",
       "      <td>0.381594</td>\n",
       "      <td>32.204208</td>\n",
       "    </tr>\n",
       "    <tr>\n",
       "      <th>std</th>\n",
       "      <td>257.353842</td>\n",
       "      <td>0.486592</td>\n",
       "      <td>0.836071</td>\n",
       "      <td>14.526497</td>\n",
       "      <td>1.102743</td>\n",
       "      <td>0.806057</td>\n",
       "      <td>49.693429</td>\n",
       "    </tr>\n",
       "    <tr>\n",
       "      <th>min</th>\n",
       "      <td>1.000000</td>\n",
       "      <td>0.000000</td>\n",
       "      <td>1.000000</td>\n",
       "      <td>0.420000</td>\n",
       "      <td>0.000000</td>\n",
       "      <td>0.000000</td>\n",
       "      <td>0.000000</td>\n",
       "    </tr>\n",
       "    <tr>\n",
       "      <th>25%</th>\n",
       "      <td>223.500000</td>\n",
       "      <td>0.000000</td>\n",
       "      <td>2.000000</td>\n",
       "      <td>20.125000</td>\n",
       "      <td>0.000000</td>\n",
       "      <td>0.000000</td>\n",
       "      <td>7.910400</td>\n",
       "    </tr>\n",
       "    <tr>\n",
       "      <th>50%</th>\n",
       "      <td>446.000000</td>\n",
       "      <td>0.000000</td>\n",
       "      <td>3.000000</td>\n",
       "      <td>28.000000</td>\n",
       "      <td>0.000000</td>\n",
       "      <td>0.000000</td>\n",
       "      <td>14.454200</td>\n",
       "    </tr>\n",
       "    <tr>\n",
       "      <th>75%</th>\n",
       "      <td>668.500000</td>\n",
       "      <td>1.000000</td>\n",
       "      <td>3.000000</td>\n",
       "      <td>38.000000</td>\n",
       "      <td>1.000000</td>\n",
       "      <td>0.000000</td>\n",
       "      <td>31.000000</td>\n",
       "    </tr>\n",
       "    <tr>\n",
       "      <th>max</th>\n",
       "      <td>891.000000</td>\n",
       "      <td>1.000000</td>\n",
       "      <td>3.000000</td>\n",
       "      <td>80.000000</td>\n",
       "      <td>8.000000</td>\n",
       "      <td>6.000000</td>\n",
       "      <td>512.329200</td>\n",
       "    </tr>\n",
       "  </tbody>\n",
       "</table>\n",
       "</div>"
      ],
      "text/plain": [
       "       PassengerId    Survived      Pclass         Age       SibSp  \\\n",
       "count   891.000000  891.000000  891.000000  714.000000  891.000000   \n",
       "mean    446.000000    0.383838    2.308642   29.699118    0.523008   \n",
       "std     257.353842    0.486592    0.836071   14.526497    1.102743   \n",
       "min       1.000000    0.000000    1.000000    0.420000    0.000000   \n",
       "25%     223.500000    0.000000    2.000000   20.125000    0.000000   \n",
       "50%     446.000000    0.000000    3.000000   28.000000    0.000000   \n",
       "75%     668.500000    1.000000    3.000000   38.000000    1.000000   \n",
       "max     891.000000    1.000000    3.000000   80.000000    8.000000   \n",
       "\n",
       "            Parch        Fare  \n",
       "count  891.000000  891.000000  \n",
       "mean     0.381594   32.204208  \n",
       "std      0.806057   49.693429  \n",
       "min      0.000000    0.000000  \n",
       "25%      0.000000    7.910400  \n",
       "50%      0.000000   14.454200  \n",
       "75%      0.000000   31.000000  \n",
       "max      6.000000  512.329200  "
      ]
     },
     "execution_count": 4,
     "metadata": {},
     "output_type": "execute_result"
    }
   ],
   "source": [
    "#observing the data set\n",
    "dftrain.describe()"
   ]
  },
  {
   "cell_type": "code",
   "execution_count": 5,
   "id": "be3e5b0f",
   "metadata": {
    "execution": {
     "iopub.execute_input": "2022-05-30T20:19:19.599341Z",
     "iopub.status.busy": "2022-05-30T20:19:19.598460Z",
     "iopub.status.idle": "2022-05-30T20:19:19.834425Z",
     "shell.execute_reply": "2022-05-30T20:19:19.833642Z"
    },
    "papermill": {
     "duration": 0.245529,
     "end_time": "2022-05-30T20:19:19.836670",
     "exception": false,
     "start_time": "2022-05-30T20:19:19.591141",
     "status": "completed"
    },
    "tags": []
   },
   "outputs": [
    {
     "data": {
      "text/plain": [
       "<AxesSubplot:xlabel='Sex', ylabel='Survived'>"
      ]
     },
     "execution_count": 5,
     "metadata": {},
     "output_type": "execute_result"
    },
    {
     "data": {
      "image/png": "[encoded data removed]",
      "text/plain": [
       "<Figure size 432x288 with 1 Axes>"
      ]
     },
     "metadata": {
      "needs_background": "light"
     },
     "output_type": "display_data"
    }
   ],
   "source": [
    "#survival distribution baed on sex\n",
    "sns.barplot(x='Sex',y='Survived', data=dftrain)"
   ]
  },
  {
   "cell_type": "code",
   "execution_count": 6,
   "id": "67a1294e",
   "metadata": {
    "execution": {
     "iopub.execute_input": "2022-05-30T20:19:19.852085Z",
     "iopub.status.busy": "2022-05-30T20:19:19.851659Z",
     "iopub.status.idle": "2022-05-30T20:19:20.239679Z",
     "shell.execute_reply": "2022-05-30T20:19:20.238836Z"
    },
    "papermill": {
     "duration": 0.398812,
     "end_time": "2022-05-30T20:19:20.242342",
     "exception": false,
     "start_time": "2022-05-30T20:19:19.843530",
     "status": "completed"
    },
    "tags": []
   },
   "outputs": [
    {
     "data": {
      "text/plain": [
       "<AxesSubplot:xlabel='Pclass', ylabel='Survived'>"
      ]
     },
     "execution_count": 6,
     "metadata": {},
     "output_type": "execute_result"
    },
    {
     "data": {
      "image/png": "[encoded data removed]",
      "text/plain": [
       "<Figure size 432x288 with 1 Axes>"
      ]
     },
     "metadata": {
      "needs_background": "light"
     },
     "output_type": "display_data"
    }
   ],
   "source": [
    "#survival distribution based on passenger class\n",
    "sns.barplot(x='Pclass',y='Survived',hue='Sex', data=dftrain)"
   ]
  },
  {
   "cell_type": "code",
   "execution_count": 7,
   "id": "2f00d323",
   "metadata": {
    "execution": {
     "iopub.execute_input": "2022-05-30T20:19:20.258169Z",
     "iopub.status.busy": "2022-05-30T20:19:20.257819Z",
     "iopub.status.idle": "2022-05-30T20:19:20.999955Z",
     "shell.execute_reply": "2022-05-30T20:19:20.998977Z"
    },
    "papermill": {
     "duration": 0.752437,
     "end_time": "2022-05-30T20:19:21.002003",
     "exception": false,
     "start_time": "2022-05-30T20:19:20.249566",
     "status": "completed"
    },
    "tags": []
   },
   "outputs": [
    {
     "data": {
      "image/png": "[encoded data removed]",
      "text/plain": [
       "<Figure size 720x432 with 1 Axes>"
      ]
     },
     "metadata": {
      "needs_background": "light"
     },
     "output_type": "display_data"
    }
   ],
   "source": [
    "#survival distribution based ages ranges\n",
    "def get_age_catagory(age):\n",
    "    catagory=''\n",
    "    if age<=-1: \n",
    "        catagory='none'\n",
    "    elif age<=5:\n",
    "        catagory='baby'\n",
    "    elif age<=10:\n",
    "        catagory='child'\n",
    "    elif age<=18:\n",
    "        catagory='teen'\n",
    "    elif age<=25:\n",
    "        catagory='student'\n",
    "    elif age<=35:\n",
    "        catagory='young adult'\n",
    "    elif age<=60:\n",
    "        catagory='adult'\n",
    "    else:\n",
    "        catagory='elder'\n",
    "    return catagory\n",
    "\n",
    "plt.figure(figsize=(10,6))\n",
    "groups=['none','baby','child','teen','student','young adult','adult','elder']\n",
    "dftrain['age catagory']=dftrain['Age'].apply(lambda x:get_age_catagory(x))\n",
    "sns.barplot(x='age catagory', y='Survived', hue='Sex', data=dftrain, order=groups)\n",
    "dftrain.drop('age catagory', axis=1, inplace=True)"
   ]
  },
  {
   "cell_type": "code",
   "execution_count": 8,
   "id": "44239895",
   "metadata": {
    "execution": {
     "iopub.execute_input": "2022-05-30T20:19:21.018876Z",
     "iopub.status.busy": "2022-05-30T20:19:21.018497Z",
     "iopub.status.idle": "2022-05-30T20:19:21.028384Z",
     "shell.execute_reply": "2022-05-30T20:19:21.027721Z"
    },
    "papermill": {
     "duration": 0.020685,
     "end_time": "2022-05-30T20:19:21.030134",
     "exception": false,
     "start_time": "2022-05-30T20:19:21.009449",
     "status": "completed"
    },
    "tags": []
   },
   "outputs": [],
   "source": [
    "dftrain['train_test']=1\n",
    "dfeval['train_test']=0\n",
    "dfeval['Survived']=np.NaN\n",
    "all_data=pd.concat([dftrain,dfeval])"
   ]
  },
  {
   "cell_type": "code",
   "execution_count": 9,
   "id": "764259e9",
   "metadata": {
    "execution": {
     "iopub.execute_input": "2022-05-30T20:19:21.046516Z",
     "iopub.status.busy": "2022-05-30T20:19:21.045830Z",
     "iopub.status.idle": "2022-05-30T20:19:21.824472Z",
     "shell.execute_reply": "2022-05-30T20:19:21.823541Z"
    },
    "papermill": {
     "duration": 0.789178,
     "end_time": "2022-05-30T20:19:21.826719",
     "exception": false,
     "start_time": "2022-05-30T20:19:21.037541",
     "status": "completed"
    },
    "tags": []
   },
   "outputs": [
    {
     "data": {
      "image/png": "[encoded data removed]",
      "text/plain": [
       "<Figure size 432x288 with 1 Axes>"
      ]
     },
     "metadata": {
      "needs_background": "light"
     },
     "output_type": "display_data"
    },
    {
     "data": {
      "image/png": "[encoded data removed]",
      "text/plain": [
       "<Figure size 432x288 with 1 Axes>"
      ]
     },
     "metadata": {
      "needs_background": "light"
     },
     "output_type": "display_data"
    },
    {
     "data": {
      "image/png": "[encoded data removed]",
      "text/plain": [
       "<Figure size 432x288 with 1 Axes>"
      ]
     },
     "metadata": {
      "needs_background": "light"
     },
     "output_type": "display_data"
    },
    {
     "data": {
      "image/png": "[encoded data removed]",
      "text/plain": [
       "<Figure size 432x288 with 1 Axes>"
      ]
     },
     "metadata": {
      "needs_background": "light"
     },
     "output_type": "display_data"
    }
   ],
   "source": [
    "#passenger distribution among different catagories\n",
    "df_num=dftrain[['Age','SibSp','Parch','Fare']]\n",
    "df_cat = dftrain[['Survived','Pclass','Sex','Ticket','Cabin','Embarked']]\n",
    "\n",
    "for i in df_num.columns:\n",
    "    plt.hist(dftrain[i])\n",
    "    plt.title(i)\n",
    "    plt.show()"
   ]
  },
  {
   "cell_type": "code",
   "execution_count": 10,
   "id": "da977f5a",
   "metadata": {
    "execution": {
     "iopub.execute_input": "2022-05-30T20:19:21.845024Z",
     "iopub.status.busy": "2022-05-30T20:19:21.844297Z",
     "iopub.status.idle": "2022-05-30T20:19:22.076588Z",
     "shell.execute_reply": "2022-05-30T20:19:22.075781Z"
    },
    "papermill": {
     "duration": 0.244012,
     "end_time": "2022-05-30T20:19:22.079048",
     "exception": false,
     "start_time": "2022-05-30T20:19:21.835036",
     "status": "completed"
    },
    "tags": []
   },
   "outputs": [
    {
     "data": {
      "text/plain": [
       "<AxesSubplot:>"
      ]
     },
     "execution_count": 10,
     "metadata": {},
     "output_type": "execute_result"
    },
    {
     "data": {
      "image/png": "[encoded data removed]",
      "text/plain": [
       "<Figure size 432x288 with 2 Axes>"
      ]
     },
     "metadata": {
      "needs_background": "light"
     },
     "output_type": "display_data"
    }
   ],
   "source": [
    "#co-relation betweem different features.\n",
    "sns.heatmap(df_num.corr())"
   ]
  },
  {
   "cell_type": "code",
   "execution_count": 11,
   "id": "86f8b50c",
   "metadata": {
    "execution": {
     "iopub.execute_input": "2022-05-30T20:19:22.098235Z",
     "iopub.status.busy": "2022-05-30T20:19:22.097447Z",
     "iopub.status.idle": "2022-05-30T20:19:22.121012Z",
     "shell.execute_reply": "2022-05-30T20:19:22.120122Z"
    },
    "papermill": {
     "duration": 0.035244,
     "end_time": "2022-05-30T20:19:22.122948",
     "exception": false,
     "start_time": "2022-05-30T20:19:22.087704",
     "status": "completed"
    },
    "tags": []
   },
   "outputs": [
    {
     "data": {
      "text/html": [
       "<div>\n",
       "<style scoped>\n",
       "    .dataframe tbody tr th:only-of-type {\n",
       "        vertical-align: middle;\n",
       "    }\n",
       "\n",
       "    .dataframe tbody tr th {\n",
       "        vertical-align: top;\n",
       "    }\n",
       "\n",
       "    .dataframe thead th {\n",
       "        text-align: right;\n",
       "    }\n",
       "</style>\n",
       "<table border=\"1\" class=\"dataframe\">\n",
       "  <thead>\n",
       "    <tr style=\"text-align: right;\">\n",
       "      <th></th>\n",
       "      <th>Age</th>\n",
       "      <th>Fare</th>\n",
       "      <th>Parch</th>\n",
       "      <th>SibSp</th>\n",
       "    </tr>\n",
       "    <tr>\n",
       "      <th>Survived</th>\n",
       "      <th></th>\n",
       "      <th></th>\n",
       "      <th></th>\n",
       "      <th></th>\n",
       "    </tr>\n",
       "  </thead>\n",
       "  <tbody>\n",
       "    <tr>\n",
       "      <th>0</th>\n",
       "      <td>30.626179</td>\n",
       "      <td>22.117887</td>\n",
       "      <td>0.329690</td>\n",
       "      <td>0.553734</td>\n",
       "    </tr>\n",
       "    <tr>\n",
       "      <th>1</th>\n",
       "      <td>28.343690</td>\n",
       "      <td>48.395408</td>\n",
       "      <td>0.464912</td>\n",
       "      <td>0.473684</td>\n",
       "    </tr>\n",
       "  </tbody>\n",
       "</table>\n",
       "</div>"
      ],
      "text/plain": [
       "                Age       Fare     Parch     SibSp\n",
       "Survived                                          \n",
       "0         30.626179  22.117887  0.329690  0.553734\n",
       "1         28.343690  48.395408  0.464912  0.473684"
      ]
     },
     "execution_count": 11,
     "metadata": {},
     "output_type": "execute_result"
    }
   ],
   "source": [
    "#co-relation between survival rate and Age, No of Siblings, Parch and Fare\n",
    "pd.pivot_table(dftrain,index='Survived', values=['Age','SibSp','Parch','Fare'])"
   ]
  },
  {
   "cell_type": "code",
   "execution_count": 12,
   "id": "bc35cf93",
   "metadata": {
    "execution": {
     "iopub.execute_input": "2022-05-30T20:19:22.143130Z",
     "iopub.status.busy": "2022-05-30T20:19:22.142489Z",
     "iopub.status.idle": "2022-05-30T20:19:22.161734Z",
     "shell.execute_reply": "2022-05-30T20:19:22.160629Z"
    },
    "papermill": {
     "duration": 0.032174,
     "end_time": "2022-05-30T20:19:22.163882",
     "exception": false,
     "start_time": "2022-05-30T20:19:22.131708",
     "status": "completed"
    },
    "tags": []
   },
   "outputs": [
    {
     "data": {
      "text/html": [
       "<div>\n",
       "<style scoped>\n",
       "    .dataframe tbody tr th:only-of-type {\n",
       "        vertical-align: middle;\n",
       "    }\n",
       "\n",
       "    .dataframe tbody tr th {\n",
       "        vertical-align: top;\n",
       "    }\n",
       "\n",
       "    .dataframe thead th {\n",
       "        text-align: right;\n",
       "    }\n",
       "</style>\n",
       "<table border=\"1\" class=\"dataframe\">\n",
       "  <thead>\n",
       "    <tr style=\"text-align: right;\">\n",
       "      <th>Pclass</th>\n",
       "      <th>1</th>\n",
       "      <th>2</th>\n",
       "      <th>3</th>\n",
       "    </tr>\n",
       "    <tr>\n",
       "      <th>Survived</th>\n",
       "      <th></th>\n",
       "      <th></th>\n",
       "      <th></th>\n",
       "    </tr>\n",
       "  </thead>\n",
       "  <tbody>\n",
       "    <tr>\n",
       "      <th>0</th>\n",
       "      <td>80</td>\n",
       "      <td>97</td>\n",
       "      <td>372</td>\n",
       "    </tr>\n",
       "    <tr>\n",
       "      <th>1</th>\n",
       "      <td>136</td>\n",
       "      <td>87</td>\n",
       "      <td>119</td>\n",
       "    </tr>\n",
       "  </tbody>\n",
       "</table>\n",
       "</div>"
      ],
      "text/plain": [
       "Pclass      1   2    3\n",
       "Survived              \n",
       "0          80  97  372\n",
       "1         136  87  119"
      ]
     },
     "execution_count": 12,
     "metadata": {},
     "output_type": "execute_result"
    }
   ],
   "source": [
    "#co-relation between survival and passenger classes\n",
    "pd.pivot_table(dftrain, index='Survived', columns='Pclass', values='Ticket', aggfunc='count')"
   ]
  },
  {
   "cell_type": "code",
   "execution_count": 13,
   "id": "01e5d74e",
   "metadata": {
    "execution": {
     "iopub.execute_input": "2022-05-30T20:19:22.184226Z",
     "iopub.status.busy": "2022-05-30T20:19:22.183862Z",
     "iopub.status.idle": "2022-05-30T20:19:22.199887Z",
     "shell.execute_reply": "2022-05-30T20:19:22.199310Z"
    },
    "papermill": {
     "duration": 0.02856,
     "end_time": "2022-05-30T20:19:22.201671",
     "exception": false,
     "start_time": "2022-05-30T20:19:22.173111",
     "status": "completed"
    },
    "tags": []
   },
   "outputs": [
    {
     "data": {
      "text/html": [
       "<div>\n",
       "<style scoped>\n",
       "    .dataframe tbody tr th:only-of-type {\n",
       "        vertical-align: middle;\n",
       "    }\n",
       "\n",
       "    .dataframe tbody tr th {\n",
       "        vertical-align: top;\n",
       "    }\n",
       "\n",
       "    .dataframe thead th {\n",
       "        text-align: right;\n",
       "    }\n",
       "</style>\n",
       "<table border=\"1\" class=\"dataframe\">\n",
       "  <thead>\n",
       "    <tr style=\"text-align: right;\">\n",
       "      <th>Sex</th>\n",
       "      <th>female</th>\n",
       "      <th>male</th>\n",
       "    </tr>\n",
       "    <tr>\n",
       "      <th>Survived</th>\n",
       "      <th></th>\n",
       "      <th></th>\n",
       "    </tr>\n",
       "  </thead>\n",
       "  <tbody>\n",
       "    <tr>\n",
       "      <th>0</th>\n",
       "      <td>81</td>\n",
       "      <td>468</td>\n",
       "    </tr>\n",
       "    <tr>\n",
       "      <th>1</th>\n",
       "      <td>233</td>\n",
       "      <td>109</td>\n",
       "    </tr>\n",
       "  </tbody>\n",
       "</table>\n",
       "</div>"
      ],
      "text/plain": [
       "Sex       female  male\n",
       "Survived              \n",
       "0             81   468\n",
       "1            233   109"
      ]
     },
     "execution_count": 13,
     "metadata": {},
     "output_type": "execute_result"
    }
   ],
   "source": [
    "#co-relation between survival and sex\n",
    "pd.pivot_table(dftrain, index='Survived', columns='Sex', values='Ticket', aggfunc='count')"
   ]
  },
  {
   "cell_type": "code",
   "execution_count": 14,
   "id": "14af8c65",
   "metadata": {
    "execution": {
     "iopub.execute_input": "2022-05-30T20:19:22.221973Z",
     "iopub.status.busy": "2022-05-30T20:19:22.221230Z",
     "iopub.status.idle": "2022-05-30T20:19:22.225130Z",
     "shell.execute_reply": "2022-05-30T20:19:22.224496Z"
    },
    "papermill": {
     "duration": 0.016188,
     "end_time": "2022-05-30T20:19:22.227041",
     "exception": false,
     "start_time": "2022-05-30T20:19:22.210853",
     "status": "completed"
    },
    "tags": []
   },
   "outputs": [],
   "source": [
    "#FEATURE ENGINEERING"
   ]
  },
  {
   "cell_type": "code",
   "execution_count": 15,
   "id": "732ec8c5",
   "metadata": {
    "execution": {
     "iopub.execute_input": "2022-05-30T20:19:22.246878Z",
     "iopub.status.busy": "2022-05-30T20:19:22.246077Z",
     "iopub.status.idle": "2022-05-30T20:19:22.256039Z",
     "shell.execute_reply": "2022-05-30T20:19:22.255432Z"
    },
    "papermill": {
     "duration": 0.021877,
     "end_time": "2022-05-30T20:19:22.257788",
     "exception": false,
     "start_time": "2022-05-30T20:19:22.235911",
     "status": "completed"
    },
    "tags": []
   },
   "outputs": [
    {
     "data": {
      "text/plain": [
       "0    687\n",
       "1    180\n",
       "2     16\n",
       "3      6\n",
       "4      2\n",
       "Name: no_of_cabins, dtype: int64"
      ]
     },
     "execution_count": 15,
     "metadata": {},
     "output_type": "execute_result"
    }
   ],
   "source": [
    "#checking whethe people had multiple cabins\n",
    "df_cat.Cabin\n",
    "dftrain['no_of_cabins']=dftrain.Cabin.apply(lambda x: 0 if pd.isna(x) else len(x.split(' ')))\n",
    "dftrain['no_of_cabins'].value_counts()"
   ]
  },
  {
   "cell_type": "code",
   "execution_count": 16,
   "id": "8ae0175f",
   "metadata": {
    "execution": {
     "iopub.execute_input": "2022-05-30T20:19:22.278040Z",
     "iopub.status.busy": "2022-05-30T20:19:22.277498Z",
     "iopub.status.idle": "2022-05-30T20:19:22.296704Z",
     "shell.execute_reply": "2022-05-30T20:19:22.295798Z"
    },
    "papermill": {
     "duration": 0.031643,
     "end_time": "2022-05-30T20:19:22.298594",
     "exception": false,
     "start_time": "2022-05-30T20:19:22.266951",
     "status": "completed"
    },
    "tags": []
   },
   "outputs": [
    {
     "data": {
      "text/html": [
       "<div>\n",
       "<style scoped>\n",
       "    .dataframe tbody tr th:only-of-type {\n",
       "        vertical-align: middle;\n",
       "    }\n",
       "\n",
       "    .dataframe tbody tr th {\n",
       "        vertical-align: top;\n",
       "    }\n",
       "\n",
       "    .dataframe thead th {\n",
       "        text-align: right;\n",
       "    }\n",
       "</style>\n",
       "<table border=\"1\" class=\"dataframe\">\n",
       "  <thead>\n",
       "    <tr style=\"text-align: right;\">\n",
       "      <th>no_of_cabins</th>\n",
       "      <th>0</th>\n",
       "      <th>1</th>\n",
       "      <th>2</th>\n",
       "      <th>3</th>\n",
       "      <th>4</th>\n",
       "    </tr>\n",
       "    <tr>\n",
       "      <th>Survived</th>\n",
       "      <th></th>\n",
       "      <th></th>\n",
       "      <th></th>\n",
       "      <th></th>\n",
       "      <th></th>\n",
       "    </tr>\n",
       "  </thead>\n",
       "  <tbody>\n",
       "    <tr>\n",
       "      <th>0</th>\n",
       "      <td>481.0</td>\n",
       "      <td>58.0</td>\n",
       "      <td>7.0</td>\n",
       "      <td>3.0</td>\n",
       "      <td>NaN</td>\n",
       "    </tr>\n",
       "    <tr>\n",
       "      <th>1</th>\n",
       "      <td>206.0</td>\n",
       "      <td>122.0</td>\n",
       "      <td>9.0</td>\n",
       "      <td>3.0</td>\n",
       "      <td>2.0</td>\n",
       "    </tr>\n",
       "  </tbody>\n",
       "</table>\n",
       "</div>"
      ],
      "text/plain": [
       "no_of_cabins      0      1    2    3    4\n",
       "Survived                                 \n",
       "0             481.0   58.0  7.0  3.0  NaN\n",
       "1             206.0  122.0  9.0  3.0  2.0"
      ]
     },
     "execution_count": 16,
     "metadata": {},
     "output_type": "execute_result"
    }
   ],
   "source": [
    "pd.pivot_table(dftrain, index='Survived',columns=['no_of_cabins'],values='Name',aggfunc='count')"
   ]
  },
  {
   "cell_type": "code",
   "execution_count": 17,
   "id": "e0bd3740",
   "metadata": {
    "execution": {
     "iopub.execute_input": "2022-05-30T20:19:22.319320Z",
     "iopub.status.busy": "2022-05-30T20:19:22.318934Z",
     "iopub.status.idle": "2022-05-30T20:19:22.345628Z",
     "shell.execute_reply": "2022-05-30T20:19:22.345003Z"
    },
    "papermill": {
     "duration": 0.040091,
     "end_time": "2022-05-30T20:19:22.348188",
     "exception": false,
     "start_time": "2022-05-30T20:19:22.308097",
     "status": "completed"
    },
    "tags": []
   },
   "outputs": [
    {
     "name": "stdout",
     "output_type": "stream",
     "text": [
      "n    687\n",
      "C     59\n",
      "B     47\n",
      "D     33\n",
      "E     32\n",
      "A     15\n",
      "F     13\n",
      "G      4\n",
      "T      1\n",
      "Name: cabin_type, dtype: int64\n"
     ]
    },
    {
     "data": {
      "text/html": [
       "<div>\n",
       "<style scoped>\n",
       "    .dataframe tbody tr th:only-of-type {\n",
       "        vertical-align: middle;\n",
       "    }\n",
       "\n",
       "    .dataframe tbody tr th {\n",
       "        vertical-align: top;\n",
       "    }\n",
       "\n",
       "    .dataframe thead th {\n",
       "        text-align: right;\n",
       "    }\n",
       "</style>\n",
       "<table border=\"1\" class=\"dataframe\">\n",
       "  <thead>\n",
       "    <tr style=\"text-align: right;\">\n",
       "      <th>cabin_type</th>\n",
       "      <th>A</th>\n",
       "      <th>B</th>\n",
       "      <th>C</th>\n",
       "      <th>D</th>\n",
       "      <th>E</th>\n",
       "      <th>F</th>\n",
       "      <th>G</th>\n",
       "      <th>T</th>\n",
       "      <th>n</th>\n",
       "    </tr>\n",
       "    <tr>\n",
       "      <th>Survived</th>\n",
       "      <th></th>\n",
       "      <th></th>\n",
       "      <th></th>\n",
       "      <th></th>\n",
       "      <th></th>\n",
       "      <th></th>\n",
       "      <th></th>\n",
       "      <th></th>\n",
       "      <th></th>\n",
       "    </tr>\n",
       "  </thead>\n",
       "  <tbody>\n",
       "    <tr>\n",
       "      <th>0</th>\n",
       "      <td>8.0</td>\n",
       "      <td>12.0</td>\n",
       "      <td>24.0</td>\n",
       "      <td>8.0</td>\n",
       "      <td>8.0</td>\n",
       "      <td>5.0</td>\n",
       "      <td>2.0</td>\n",
       "      <td>1.0</td>\n",
       "      <td>481.0</td>\n",
       "    </tr>\n",
       "    <tr>\n",
       "      <th>1</th>\n",
       "      <td>7.0</td>\n",
       "      <td>35.0</td>\n",
       "      <td>35.0</td>\n",
       "      <td>25.0</td>\n",
       "      <td>24.0</td>\n",
       "      <td>8.0</td>\n",
       "      <td>2.0</td>\n",
       "      <td>NaN</td>\n",
       "      <td>206.0</td>\n",
       "    </tr>\n",
       "  </tbody>\n",
       "</table>\n",
       "</div>"
      ],
      "text/plain": [
       "cabin_type    A     B     C     D     E    F    G    T      n\n",
       "Survived                                                     \n",
       "0           8.0  12.0  24.0   8.0   8.0  5.0  2.0  1.0  481.0\n",
       "1           7.0  35.0  35.0  25.0  24.0  8.0  2.0  NaN  206.0"
      ]
     },
     "execution_count": 17,
     "metadata": {},
     "output_type": "execute_result"
    }
   ],
   "source": [
    "#identifying patterns in cabin types\n",
    "dftrain['cabin_type']=dftrain.Cabin.apply(lambda x:str(x)[0])\n",
    "print(dftrain.cabin_type.value_counts())\n",
    "pd.pivot_table(dftrain, index='Survived', columns=['cabin_type'],values='Name',aggfunc='count')"
   ]
  },
  {
   "cell_type": "code",
   "execution_count": 18,
   "id": "8a63d10a",
   "metadata": {
    "execution": {
     "iopub.execute_input": "2022-05-30T20:19:22.369269Z",
     "iopub.status.busy": "2022-05-30T20:19:22.368891Z",
     "iopub.status.idle": "2022-05-30T20:19:22.379029Z",
     "shell.execute_reply": "2022-05-30T20:19:22.378150Z"
    },
    "papermill": {
     "duration": 0.023177,
     "end_time": "2022-05-30T20:19:22.380938",
     "exception": false,
     "start_time": "2022-05-30T20:19:22.357761",
     "status": "completed"
    },
    "tags": []
   },
   "outputs": [],
   "source": [
    "dftrain['numeric_ticket']=dftrain.Ticket.apply(lambda x: 1 if x.isnumeric() else 0)\n",
    "dftrain['letter_ticket']=dftrain.Ticket.apply(lambda x: ''.join(x.split(' ')[-1]).replace('.','').replace('/','').lower()\n",
    "                                             if len(x.split(' ')[-1])>0 else 0)"
   ]
  },
  {
   "cell_type": "code",
   "execution_count": 19,
   "id": "a3816044",
   "metadata": {
    "execution": {
     "iopub.execute_input": "2022-05-30T20:19:22.402591Z",
     "iopub.status.busy": "2022-05-30T20:19:22.401886Z",
     "iopub.status.idle": "2022-05-30T20:19:22.413002Z",
     "shell.execute_reply": "2022-05-30T20:19:22.412189Z"
    },
    "papermill": {
     "duration": 0.024217,
     "end_time": "2022-05-30T20:19:22.414927",
     "exception": false,
     "start_time": "2022-05-30T20:19:22.390710",
     "status": "completed"
    },
    "tags": []
   },
   "outputs": [
    {
     "data": {
      "text/plain": [
       "Mr              517\n",
       "Miss            182\n",
       "Mrs             125\n",
       "Master           40\n",
       "Dr                7\n",
       "Rev               6\n",
       "Mlle              2\n",
       "Major             2\n",
       "Col               2\n",
       "the Countess      1\n",
       "Capt              1\n",
       "Ms                1\n",
       "Sir               1\n",
       "Lady              1\n",
       "Mme               1\n",
       "Don               1\n",
       "Jonkheer          1\n",
       "Name: title, dtype: int64"
      ]
     },
     "execution_count": 19,
     "metadata": {},
     "output_type": "execute_result"
    }
   ],
   "source": [
    "#analyse title of passengers\n",
    "dftrain.Name.head(50)\n",
    "dftrain['title']=dftrain.Name.apply(lambda x: x.split(',')[1].split('.')[0].strip())\n",
    "dftrain['title'].value_counts()"
   ]
  }
 ],
 "metadata": {
  "kernelspec": {
   "display_name": "Python 3",
   "language": "python",
   "name": "python3"
  },
  "language_info": {
   "codemirror_mode": {
    "name": "ipython",
    "version": 3
   },
   "file_extension": ".py",
   "mimetype": "text/x-python",
   "name": "python",
   "nbconvert_exporter": "python",
   "pygments_lexer": "ipython3",
   "version": "3.7.12"
  },
  "papermill": {
   "default_parameters": {},
   "duration": 14.192346,
   "end_time": "2022-05-30T20:19:23.145177",
   "environment_variables": {},
   "exception": null,
   "input_path": "__notebook__.ipynb",
   "output_path": "__notebook__.ipynb",
   "parameters": {},
   "start_time": "2022-05-30T20:19:08.952831",
   "version": "2.3.4"
  }
 },
 "nbformat": 4,
 "nbformat_minor": 5
}
