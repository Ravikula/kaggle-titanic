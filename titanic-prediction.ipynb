{
 "cells": [
  {
   "cell_type": "code",
   "execution_count": 1,
   "id": "5553b84b",
   "metadata": {
    "execution": {
     "iopub.execute_input": "2022-06-12T18:35:39.516301Z",
     "iopub.status.busy": "2022-06-12T18:35:39.515848Z",
     "iopub.status.idle": "2022-06-12T18:35:41.017289Z",
     "shell.execute_reply": "2022-06-12T18:35:41.016299Z"
    },
    "papermill": {
     "duration": 1.514275,
     "end_time": "2022-06-12T18:35:41.019963",
     "exception": false,
     "start_time": "2022-06-12T18:35:39.505688",
     "status": "completed"
    },
    "tags": []
   },
   "outputs": [
    {
     "name": "stdout",
     "output_type": "stream",
     "text": [
      "/kaggle/input/titanic/train.csv\n",
      "/kaggle/input/titanic/test.csv\n",
      "/kaggle/input/titanic/gender_submission.csv\n"
     ]
    }
   ],
   "source": [
    "from __future__ import absolute_import, division, print_function, unicode_literals\n",
    "\n",
    "import numpy as np\n",
    "import pandas as pd\n",
    "import seaborn as sns\n",
    "\n",
    "from matplotlib import pyplot as plt\n",
    "from matplotlib import style\n",
    "\n",
    "from sklearn.model_selection import train_test_split\n",
    "\n",
    "from sklearn import linear_model\n",
    "from sklearn.linear_model import LogisticRegression\n",
    "from sklearn.ensemble import RandomForestClassifier\n",
    "from sklearn.linear_model import Perceptron\n",
    "from sklearn.linear_model import SGDClassifier\n",
    "from sklearn.tree import DecisionTreeClassifier\n",
    "from sklearn.neighbors import KNeighborsClassifier\n",
    "from sklearn.svm import SVC, LinearSVC\n",
    "from sklearn.naive_bayes import GaussianNB\n",
    "\n",
    "%matplotlib inline\n",
    "import os\n",
    "for dirname, _, filenames in os.walk('/kaggle/input'):\n",
    "    for filename in filenames:\n",
    "        print(os.path.join(dirname, filename))"
   ]
  },
  {
   "cell_type": "code",
   "execution_count": 2,
   "id": "30cfc6a4",
   "metadata": {
    "execution": {
     "iopub.execute_input": "2022-06-12T18:35:41.032511Z",
     "iopub.status.busy": "2022-06-12T18:35:41.032046Z",
     "iopub.status.idle": "2022-06-12T18:35:41.059354Z",
     "shell.execute_reply": "2022-06-12T18:35:41.058263Z"
    },
    "papermill": {
     "duration": 0.035884,
     "end_time": "2022-06-12T18:35:41.061857",
     "exception": false,
     "start_time": "2022-06-12T18:35:41.025973",
     "status": "completed"
    },
    "tags": []
   },
   "outputs": [],
   "source": [
    "dftrain=pd.read_csv('/kaggle/input/titanic/train.csv')\n",
    "dftest=pd.read_csv('/kaggle/input/titanic/test.csv')"
   ]
  },
  {
   "cell_type": "code",
   "execution_count": 3,
   "id": "953643a2",
   "metadata": {
    "execution": {
     "iopub.execute_input": "2022-06-12T18:35:41.073388Z",
     "iopub.status.busy": "2022-06-12T18:35:41.072987Z",
     "iopub.status.idle": "2022-06-12T18:35:41.096242Z",
     "shell.execute_reply": "2022-06-12T18:35:41.095150Z"
    },
    "papermill": {
     "duration": 0.032338,
     "end_time": "2022-06-12T18:35:41.099371",
     "exception": false,
     "start_time": "2022-06-12T18:35:41.067033",
     "status": "completed"
    },
    "tags": []
   },
   "outputs": [
    {
     "data": {
      "text/html": [
       "<div>\n",
       "<style scoped>\n",
       "    .dataframe tbody tr th:only-of-type {\n",
       "        vertical-align: middle;\n",
       "    }\n",
       "\n",
       "    .dataframe tbody tr th {\n",
       "        vertical-align: top;\n",
       "    }\n",
       "\n",
       "    .dataframe thead th {\n",
       "        text-align: right;\n",
       "    }\n",
       "</style>\n",
       "<table border=\"1\" class=\"dataframe\">\n",
       "  <thead>\n",
       "    <tr style=\"text-align: right;\">\n",
       "      <th></th>\n",
       "      <th>PassengerId</th>\n",
       "      <th>Survived</th>\n",
       "      <th>Pclass</th>\n",
       "      <th>Name</th>\n",
       "      <th>Sex</th>\n",
       "      <th>Age</th>\n",
       "      <th>SibSp</th>\n",
       "      <th>Parch</th>\n",
       "      <th>Ticket</th>\n",
       "      <th>Fare</th>\n",
       "      <th>Cabin</th>\n",
       "      <th>Embarked</th>\n",
       "    </tr>\n",
       "  </thead>\n",
       "  <tbody>\n",
       "    <tr>\n",
       "      <th>0</th>\n",
       "      <td>1</td>\n",
       "      <td>0</td>\n",
       "      <td>3</td>\n",
       "      <td>Braund, Mr. Owen Harris</td>\n",
       "      <td>male</td>\n",
       "      <td>22.0</td>\n",
       "      <td>1</td>\n",
       "      <td>0</td>\n",
       "      <td>A/5 21171</td>\n",
       "      <td>7.2500</td>\n",
       "      <td>NaN</td>\n",
       "      <td>S</td>\n",
       "    </tr>\n",
       "    <tr>\n",
       "      <th>1</th>\n",
       "      <td>2</td>\n",
       "      <td>1</td>\n",
       "      <td>1</td>\n",
       "      <td>Cumings, Mrs. John Bradley (Florence Briggs Th...</td>\n",
       "      <td>female</td>\n",
       "      <td>38.0</td>\n",
       "      <td>1</td>\n",
       "      <td>0</td>\n",
       "      <td>PC 17599</td>\n",
       "      <td>71.2833</td>\n",
       "      <td>C85</td>\n",
       "      <td>C</td>\n",
       "    </tr>\n",
       "    <tr>\n",
       "      <th>2</th>\n",
       "      <td>3</td>\n",
       "      <td>1</td>\n",
       "      <td>3</td>\n",
       "      <td>Heikkinen, Miss. Laina</td>\n",
       "      <td>female</td>\n",
       "      <td>26.0</td>\n",
       "      <td>0</td>\n",
       "      <td>0</td>\n",
       "      <td>STON/O2. 3101282</td>\n",
       "      <td>7.9250</td>\n",
       "      <td>NaN</td>\n",
       "      <td>S</td>\n",
       "    </tr>\n",
       "    <tr>\n",
       "      <th>3</th>\n",
       "      <td>4</td>\n",
       "      <td>1</td>\n",
       "      <td>1</td>\n",
       "      <td>Futrelle, Mrs. Jacques Heath (Lily May Peel)</td>\n",
       "      <td>female</td>\n",
       "      <td>35.0</td>\n",
       "      <td>1</td>\n",
       "      <td>0</td>\n",
       "      <td>113803</td>\n",
       "      <td>53.1000</td>\n",
       "      <td>C123</td>\n",
       "      <td>S</td>\n",
       "    </tr>\n",
       "    <tr>\n",
       "      <th>4</th>\n",
       "      <td>5</td>\n",
       "      <td>0</td>\n",
       "      <td>3</td>\n",
       "      <td>Allen, Mr. William Henry</td>\n",
       "      <td>male</td>\n",
       "      <td>35.0</td>\n",
       "      <td>0</td>\n",
       "      <td>0</td>\n",
       "      <td>373450</td>\n",
       "      <td>8.0500</td>\n",
       "      <td>NaN</td>\n",
       "      <td>S</td>\n",
       "    </tr>\n",
       "  </tbody>\n",
       "</table>\n",
       "</div>"
      ],
      "text/plain": [
       "   PassengerId  Survived  Pclass  \\\n",
       "0            1         0       3   \n",
       "1            2         1       1   \n",
       "2            3         1       3   \n",
       "3            4         1       1   \n",
       "4            5         0       3   \n",
       "\n",
       "                                                Name     Sex   Age  SibSp  \\\n",
       "0                            Braund, Mr. Owen Harris    male  22.0      1   \n",
       "1  Cumings, Mrs. John Bradley (Florence Briggs Th...  female  38.0      1   \n",
       "2                             Heikkinen, Miss. Laina  female  26.0      0   \n",
       "3       Futrelle, Mrs. Jacques Heath (Lily May Peel)  female  35.0      1   \n",
       "4                           Allen, Mr. William Henry    male  35.0      0   \n",
       "\n",
       "   Parch            Ticket     Fare Cabin Embarked  \n",
       "0      0         A/5 21171   7.2500   NaN        S  \n",
       "1      0          PC 17599  71.2833   C85        C  \n",
       "2      0  STON/O2. 3101282   7.9250   NaN        S  \n",
       "3      0            113803  53.1000  C123        S  \n",
       "4      0            373450   8.0500   NaN        S  "
      ]
     },
     "execution_count": 3,
     "metadata": {},
     "output_type": "execute_result"
    }
   ],
   "source": [
    "dftrain.head()"
   ]
  },
  {
   "cell_type": "code",
   "execution_count": 4,
   "id": "fec3e34e",
   "metadata": {
    "execution": {
     "iopub.execute_input": "2022-06-12T18:35:41.112570Z",
     "iopub.status.busy": "2022-06-12T18:35:41.111062Z",
     "iopub.status.idle": "2022-06-12T18:35:41.137260Z",
     "shell.execute_reply": "2022-06-12T18:35:41.136298Z"
    },
    "papermill": {
     "duration": 0.035421,
     "end_time": "2022-06-12T18:35:41.139902",
     "exception": false,
     "start_time": "2022-06-12T18:35:41.104481",
     "status": "completed"
    },
    "tags": []
   },
   "outputs": [
    {
     "name": "stdout",
     "output_type": "stream",
     "text": [
      "<class 'pandas.core.frame.DataFrame'>\n",
      "RangeIndex: 891 entries, 0 to 890\n",
      "Data columns (total 12 columns):\n",
      " #   Column       Non-Null Count  Dtype  \n",
      "---  ------       --------------  -----  \n",
      " 0   PassengerId  891 non-null    int64  \n",
      " 1   Survived     891 non-null    int64  \n",
      " 2   Pclass       891 non-null    int64  \n",
      " 3   Name         891 non-null    object \n",
      " 4   Sex          891 non-null    object \n",
      " 5   Age          714 non-null    float64\n",
      " 6   SibSp        891 non-null    int64  \n",
      " 7   Parch        891 non-null    int64  \n",
      " 8   Ticket       891 non-null    object \n",
      " 9   Fare         891 non-null    float64\n",
      " 10  Cabin        204 non-null    object \n",
      " 11  Embarked     889 non-null    object \n",
      "dtypes: float64(2), int64(5), object(5)\n",
      "memory usage: 83.7+ KB\n"
     ]
    }
   ],
   "source": [
    "dftrain.info()"
   ]
  },
  {
   "cell_type": "code",
   "execution_count": 5,
   "id": "798f86d4",
   "metadata": {
    "execution": {
     "iopub.execute_input": "2022-06-12T18:35:41.153952Z",
     "iopub.status.busy": "2022-06-12T18:35:41.152958Z",
     "iopub.status.idle": "2022-06-12T18:35:41.169660Z",
     "shell.execute_reply": "2022-06-12T18:35:41.168473Z"
    },
    "papermill": {
     "duration": 0.025442,
     "end_time": "2022-06-12T18:35:41.171936",
     "exception": false,
     "start_time": "2022-06-12T18:35:41.146494",
     "status": "completed"
    },
    "tags": []
   },
   "outputs": [
    {
     "name": "stdout",
     "output_type": "stream",
     "text": [
      "Null values\n",
      "             Total  Percentage\n",
      "PassengerId      0         0.0\n",
      "Survived         0         0.0\n",
      "Pclass           0         0.0\n",
      "Name             0         0.0\n",
      "Sex              0         0.0\n",
      "Age            177        19.9\n",
      "SibSp            0         0.0\n",
      "Parch            0         0.0\n",
      "Ticket           0         0.0\n",
      "Fare             0         0.0\n",
      "Cabin          687        77.1\n",
      "Embarked         2         0.2\n"
     ]
    }
   ],
   "source": [
    "null_values=dftrain.isnull().sum()   #get notal number of null values is each column\n",
    "percentage=dftrain.isnull().sum()/dftrain.isnull().count()*100 # get percentage of null values wrt total number of data points. dftrain.isnull().count() gives total number of data points in each column\n",
    "percentage=round(percentage,1) #round off\n",
    "\n",
    "missing_data=pd.concat([null_values,percentage],axis=1,keys=['Total','Percentage']) #combine into one dataframe\n",
    "\n",
    "print(\"Null values\")\n",
    "print(missing_data)"
   ]
  },
  {
   "cell_type": "code",
   "execution_count": 6,
   "id": "2ba80169",
   "metadata": {
    "execution": {
     "iopub.execute_input": "2022-06-12T18:35:41.183871Z",
     "iopub.status.busy": "2022-06-12T18:35:41.183339Z",
     "iopub.status.idle": "2022-06-12T18:35:41.191474Z",
     "shell.execute_reply": "2022-06-12T18:35:41.190550Z"
    },
    "papermill": {
     "duration": 0.01648,
     "end_time": "2022-06-12T18:35:41.193710",
     "exception": false,
     "start_time": "2022-06-12T18:35:41.177230",
     "status": "completed"
    },
    "tags": []
   },
   "outputs": [
    {
     "data": {
      "text/plain": [
       "S    644\n",
       "C    168\n",
       "Q     77\n",
       "Name: Embarked, dtype: int64"
      ]
     },
     "execution_count": 6,
     "metadata": {},
     "output_type": "execute_result"
    }
   ],
   "source": [
    "dftrain['Embarked'].value_counts()"
   ]
  },
  {
   "cell_type": "code",
   "execution_count": 7,
   "id": "4087b3f1",
   "metadata": {
    "execution": {
     "iopub.execute_input": "2022-06-12T18:35:41.206176Z",
     "iopub.status.busy": "2022-06-12T18:35:41.205795Z",
     "iopub.status.idle": "2022-06-12T18:35:41.222968Z",
     "shell.execute_reply": "2022-06-12T18:35:41.222016Z"
    },
    "papermill": {
     "duration": 0.026053,
     "end_time": "2022-06-12T18:35:41.225215",
     "exception": false,
     "start_time": "2022-06-12T18:35:41.199162",
     "status": "completed"
    },
    "tags": []
   },
   "outputs": [],
   "source": [
    "#handling null values\n",
    "\n",
    "data=[dftrain,dftest]\n",
    "\n",
    "for dataset in data:\n",
    "    #filling missing values in Age\n",
    "    mean=dataset['Age'].mean()\n",
    "    std=dataset['Age'].std()\n",
    "    null_val=dataset['Age'].isnull().sum()  #get number of null values\n",
    "\n",
    "    age_fil=np.random.randint(mean-std,mean+std,size=null_val)  #create a list to store random values. Length of list--> no of null values\n",
    "\n",
    "    age_col=dataset['Age'].copy()\n",
    "    age_col[np.isnan(age_col)]=age_fil #assign random age value if the age value is NaN\n",
    "\n",
    "    dataset['Age']=age_col\n",
    "    \n",
    "    #filling null values in Embarked\n",
    "    dataset['Embarked']=dataset['Embarked'].fillna('S')  #S is the most occured embarked town. Since there are only 2 missing values,we can fill it with most occured value\n",
    "    \n",
    "    #filling null values in cabin type\n",
    "    dataset['Cabin']=dataset['Cabin'].fillna('N') #fill missing cabin values with N\n",
    "    dataset['Cabin_type']=dataset['Cabin'].apply(lambda x: x[0]) #create new feature to identify the first letter of the cabin, which actually repressent the cabin number"
   ]
  },
  {
   "cell_type": "code",
   "execution_count": 8,
   "id": "be413e8e",
   "metadata": {
    "execution": {
     "iopub.execute_input": "2022-06-12T18:35:41.237129Z",
     "iopub.status.busy": "2022-06-12T18:35:41.236745Z",
     "iopub.status.idle": "2022-06-12T18:35:41.244352Z",
     "shell.execute_reply": "2022-06-12T18:35:41.243184Z"
    },
    "papermill": {
     "duration": 0.01605,
     "end_time": "2022-06-12T18:35:41.246400",
     "exception": false,
     "start_time": "2022-06-12T18:35:41.230350",
     "status": "completed"
    },
    "tags": []
   },
   "outputs": [],
   "source": [
    "#extract designation form the name\n",
    "\n",
    "data=[dftrain, dftest]\n",
    "\n",
    "for dataset in data:\n",
    "    dataset['Name']=dataset[\"Name\"].apply(lambda x: x.split(',')[1].split('.')[0])"
   ]
  },
  {
   "cell_type": "code",
   "execution_count": 9,
   "id": "d85f847b",
   "metadata": {
    "execution": {
     "iopub.execute_input": "2022-06-12T18:35:41.258374Z",
     "iopub.status.busy": "2022-06-12T18:35:41.257737Z",
     "iopub.status.idle": "2022-06-12T18:35:41.273787Z",
     "shell.execute_reply": "2022-06-12T18:35:41.272854Z"
    },
    "papermill": {
     "duration": 0.024175,
     "end_time": "2022-06-12T18:35:41.275675",
     "exception": false,
     "start_time": "2022-06-12T18:35:41.251500",
     "status": "completed"
    },
    "tags": []
   },
   "outputs": [
    {
     "data": {
      "text/html": [
       "<div>\n",
       "<style scoped>\n",
       "    .dataframe tbody tr th:only-of-type {\n",
       "        vertical-align: middle;\n",
       "    }\n",
       "\n",
       "    .dataframe tbody tr th {\n",
       "        vertical-align: top;\n",
       "    }\n",
       "\n",
       "    .dataframe thead th {\n",
       "        text-align: right;\n",
       "    }\n",
       "</style>\n",
       "<table border=\"1\" class=\"dataframe\">\n",
       "  <thead>\n",
       "    <tr style=\"text-align: right;\">\n",
       "      <th></th>\n",
       "      <th>PassengerId</th>\n",
       "      <th>Survived</th>\n",
       "      <th>Pclass</th>\n",
       "      <th>Name</th>\n",
       "      <th>Sex</th>\n",
       "      <th>Age</th>\n",
       "      <th>SibSp</th>\n",
       "      <th>Parch</th>\n",
       "      <th>Ticket</th>\n",
       "      <th>Fare</th>\n",
       "      <th>Cabin</th>\n",
       "      <th>Embarked</th>\n",
       "      <th>Cabin_type</th>\n",
       "    </tr>\n",
       "  </thead>\n",
       "  <tbody>\n",
       "    <tr>\n",
       "      <th>0</th>\n",
       "      <td>1</td>\n",
       "      <td>0</td>\n",
       "      <td>3</td>\n",
       "      <td>Mr</td>\n",
       "      <td>male</td>\n",
       "      <td>22.0</td>\n",
       "      <td>1</td>\n",
       "      <td>0</td>\n",
       "      <td>A/5 21171</td>\n",
       "      <td>7.2500</td>\n",
       "      <td>N</td>\n",
       "      <td>S</td>\n",
       "      <td>N</td>\n",
       "    </tr>\n",
       "    <tr>\n",
       "      <th>1</th>\n",
       "      <td>2</td>\n",
       "      <td>1</td>\n",
       "      <td>1</td>\n",
       "      <td>Mrs</td>\n",
       "      <td>female</td>\n",
       "      <td>38.0</td>\n",
       "      <td>1</td>\n",
       "      <td>0</td>\n",
       "      <td>PC 17599</td>\n",
       "      <td>71.2833</td>\n",
       "      <td>C85</td>\n",
       "      <td>C</td>\n",
       "      <td>C</td>\n",
       "    </tr>\n",
       "    <tr>\n",
       "      <th>2</th>\n",
       "      <td>3</td>\n",
       "      <td>1</td>\n",
       "      <td>3</td>\n",
       "      <td>Miss</td>\n",
       "      <td>female</td>\n",
       "      <td>26.0</td>\n",
       "      <td>0</td>\n",
       "      <td>0</td>\n",
       "      <td>STON/O2. 3101282</td>\n",
       "      <td>7.9250</td>\n",
       "      <td>N</td>\n",
       "      <td>S</td>\n",
       "      <td>N</td>\n",
       "    </tr>\n",
       "    <tr>\n",
       "      <th>3</th>\n",
       "      <td>4</td>\n",
       "      <td>1</td>\n",
       "      <td>1</td>\n",
       "      <td>Mrs</td>\n",
       "      <td>female</td>\n",
       "      <td>35.0</td>\n",
       "      <td>1</td>\n",
       "      <td>0</td>\n",
       "      <td>113803</td>\n",
       "      <td>53.1000</td>\n",
       "      <td>C123</td>\n",
       "      <td>S</td>\n",
       "      <td>C</td>\n",
       "    </tr>\n",
       "    <tr>\n",
       "      <th>4</th>\n",
       "      <td>5</td>\n",
       "      <td>0</td>\n",
       "      <td>3</td>\n",
       "      <td>Mr</td>\n",
       "      <td>male</td>\n",
       "      <td>35.0</td>\n",
       "      <td>0</td>\n",
       "      <td>0</td>\n",
       "      <td>373450</td>\n",
       "      <td>8.0500</td>\n",
       "      <td>N</td>\n",
       "      <td>S</td>\n",
       "      <td>N</td>\n",
       "    </tr>\n",
       "  </tbody>\n",
       "</table>\n",
       "</div>"
      ],
      "text/plain": [
       "   PassengerId  Survived  Pclass   Name     Sex   Age  SibSp  Parch  \\\n",
       "0            1         0       3     Mr    male  22.0      1      0   \n",
       "1            2         1       1    Mrs  female  38.0      1      0   \n",
       "2            3         1       3   Miss  female  26.0      0      0   \n",
       "3            4         1       1    Mrs  female  35.0      1      0   \n",
       "4            5         0       3     Mr    male  35.0      0      0   \n",
       "\n",
       "             Ticket     Fare Cabin Embarked Cabin_type  \n",
       "0         A/5 21171   7.2500     N        S          N  \n",
       "1          PC 17599  71.2833   C85        C          C  \n",
       "2  STON/O2. 3101282   7.9250     N        S          N  \n",
       "3            113803  53.1000  C123        S          C  \n",
       "4            373450   8.0500     N        S          N  "
      ]
     },
     "execution_count": 9,
     "metadata": {},
     "output_type": "execute_result"
    }
   ],
   "source": [
    "dftrain.head()"
   ]
  },
  {
   "cell_type": "code",
   "execution_count": 10,
   "id": "dc23c51d",
   "metadata": {
    "execution": {
     "iopub.execute_input": "2022-06-12T18:35:41.288511Z",
     "iopub.status.busy": "2022-06-12T18:35:41.288115Z",
     "iopub.status.idle": "2022-06-12T18:35:41.296778Z",
     "shell.execute_reply": "2022-06-12T18:35:41.296093Z"
    },
    "papermill": {
     "duration": 0.017007,
     "end_time": "2022-06-12T18:35:41.298431",
     "exception": false,
     "start_time": "2022-06-12T18:35:41.281424",
     "status": "completed"
    },
    "tags": []
   },
   "outputs": [],
   "source": [
    "#drop unwatend columns\n",
    "\n",
    "dftrain_new =dftrain.drop(columns=['PassengerId','Survived','Ticket','Fare','Cabin'], axis=1)\n",
    "dftest_new =dftest.drop(columns=['PassengerId','Ticket','Fare','Cabin'], axis=1)\n",
    "\n",
    "#train results\n",
    "predictions=dftrain['Survived']"
   ]
  },
  {
   "cell_type": "code",
   "execution_count": 11,
   "id": "aac47b26",
   "metadata": {
    "execution": {
     "iopub.execute_input": "2022-06-12T18:35:41.310740Z",
     "iopub.status.busy": "2022-06-12T18:35:41.310354Z",
     "iopub.status.idle": "2022-06-12T18:35:41.323013Z",
     "shell.execute_reply": "2022-06-12T18:35:41.321942Z"
    },
    "papermill": {
     "duration": 0.022311,
     "end_time": "2022-06-12T18:35:41.326063",
     "exception": false,
     "start_time": "2022-06-12T18:35:41.303752",
     "status": "completed"
    },
    "tags": []
   },
   "outputs": [],
   "source": [
    "#encoding catagorical columns using one hot encoding\n",
    "training=pd.get_dummies(dftrain_new,drop_first=False)\n",
    "#test=pd.get_dummies(dftest_new,drop_first=False)"
   ]
  },
  {
   "cell_type": "code",
   "execution_count": 12,
   "id": "b4f1e2eb",
   "metadata": {
    "execution": {
     "iopub.execute_input": "2022-06-12T18:35:41.341415Z",
     "iopub.status.busy": "2022-06-12T18:35:41.341011Z",
     "iopub.status.idle": "2022-06-12T18:35:41.349180Z",
     "shell.execute_reply": "2022-06-12T18:35:41.347913Z"
    },
    "papermill": {
     "duration": 0.017237,
     "end_time": "2022-06-12T18:35:41.351160",
     "exception": false,
     "start_time": "2022-06-12T18:35:41.333923",
     "status": "completed"
    },
    "tags": []
   },
   "outputs": [],
   "source": [
    "x_train,x_test=train_test_split(training,test_size=0.2)\n",
    "y_train,y_test=train_test_split(predictions,test_size=0.2)"
   ]
  },
  {
   "cell_type": "code",
   "execution_count": 13,
   "id": "6fb1893e",
   "metadata": {
    "execution": {
     "iopub.execute_input": "2022-06-12T18:35:41.367483Z",
     "iopub.status.busy": "2022-06-12T18:35:41.366987Z",
     "iopub.status.idle": "2022-06-12T18:35:41.469173Z",
     "shell.execute_reply": "2022-06-12T18:35:41.468188Z"
    },
    "papermill": {
     "duration": 0.116143,
     "end_time": "2022-06-12T18:35:41.473380",
     "exception": false,
     "start_time": "2022-06-12T18:35:41.357237",
     "status": "completed"
    },
    "tags": []
   },
   "outputs": [
    {
     "name": "stdout",
     "output_type": "stream",
     "text": [
      "Train Accuracy: 62.64\n",
      "Test Accuracy: 60.34\n"
     ]
    },
    {
     "name": "stderr",
     "output_type": "stream",
     "text": [
      "/opt/conda/lib/python3.7/site-packages/sklearn/linear_model/_logistic.py:818: ConvergenceWarning: lbfgs failed to converge (status=1):\n",
      "STOP: TOTAL NO. of ITERATIONS REACHED LIMIT.\n",
      "\n",
      "Increase the number of iterations (max_iter) or scale the data as shown in:\n",
      "    https://scikit-learn.org/stable/modules/preprocessing.html\n",
      "Please also refer to the documentation for alternative solver options:\n",
      "    https://scikit-learn.org/stable/modules/linear_model.html#logistic-regression\n",
      "  extra_warning_msg=_LOGISTIC_SOLVER_CONVERGENCE_MSG,\n"
     ]
    }
   ],
   "source": [
    "#LOGISTIC REGRESSION\n",
    "log_reg=LogisticRegression()\n",
    "log_reg.fit(x_train,y_train)\n",
    "train_accuracy=round(log_reg.score(x_train,y_train)*100,2)\n",
    "test_accuracy=round(log_reg.score(x_test,y_test)*100,2)\n",
    "\n",
    "print(\"Train Accuracy: \"+str(train_accuracy))\n",
    "print(\"Test Accuracy: \"+str(test_accuracy))"
   ]
  },
  {
   "cell_type": "code",
   "execution_count": 14,
   "id": "a43b9692",
   "metadata": {
    "execution": {
     "iopub.execute_input": "2022-06-12T18:35:41.496712Z",
     "iopub.status.busy": "2022-06-12T18:35:41.496146Z",
     "iopub.status.idle": "2022-06-12T18:35:41.769648Z",
     "shell.execute_reply": "2022-06-12T18:35:41.768461Z"
    },
    "papermill": {
     "duration": 0.288173,
     "end_time": "2022-06-12T18:35:41.772273",
     "exception": false,
     "start_time": "2022-06-12T18:35:41.484100",
     "status": "completed"
    },
    "tags": []
   },
   "outputs": [
    {
     "name": "stdout",
     "output_type": "stream",
     "text": [
      "Train Accuracy: 91.57\n",
      "Test Accuracy: 55.87\n"
     ]
    }
   ],
   "source": [
    "#RANDOM FOREST\n",
    "rand_forest=RandomForestClassifier(n_estimators=100)\n",
    "rand_forest.fit(x_train,y_train)\n",
    "train_accuracy=round(rand_forest.score(x_train,y_train)*100,2)\n",
    "test_accuracy=round(rand_forest.score(x_test,y_test)*100,2)\n",
    "\n",
    "print(\"Train Accuracy: \"+str(train_accuracy))\n",
    "print(\"Test Accuracy: \"+str(test_accuracy))"
   ]
  },
  {
   "cell_type": "code",
   "execution_count": 15,
   "id": "08a97330",
   "metadata": {
    "execution": {
     "iopub.execute_input": "2022-06-12T18:35:41.785111Z",
     "iopub.status.busy": "2022-06-12T18:35:41.784712Z",
     "iopub.status.idle": "2022-06-12T18:35:41.803292Z",
     "shell.execute_reply": "2022-06-12T18:35:41.801616Z"
    },
    "papermill": {
     "duration": 0.030028,
     "end_time": "2022-06-12T18:35:41.807842",
     "exception": false,
     "start_time": "2022-06-12T18:35:41.777814",
     "status": "completed"
    },
    "tags": []
   },
   "outputs": [
    {
     "name": "stdout",
     "output_type": "stream",
     "text": [
      "Train Accuracy: 61.94\n",
      "Test Accuracy: 60.34\n"
     ]
    }
   ],
   "source": [
    "#STOCHASTIC GRADIENT DESCENT\n",
    "sgd=SGDClassifier(max_iter=5,tol=None)\n",
    "sgd.fit(x_train,y_train)\n",
    "train_accuracy=round(sgd.score(x_train,y_train)*100,2)\n",
    "test_accuracy=round(sgd.score(x_test,y_test)*100,2)\n",
    "\n",
    "print(\"Train Accuracy: \"+str(train_accuracy))\n",
    "print(\"Test Accuracy: \"+str(test_accuracy))"
   ]
  },
  {
   "cell_type": "code",
   "execution_count": 16,
   "id": "b17670f4",
   "metadata": {
    "execution": {
     "iopub.execute_input": "2022-06-12T18:35:41.831971Z",
     "iopub.status.busy": "2022-06-12T18:35:41.831272Z",
     "iopub.status.idle": "2022-06-12T18:35:41.925671Z",
     "shell.execute_reply": "2022-06-12T18:35:41.923309Z"
    },
    "papermill": {
     "duration": 0.111469,
     "end_time": "2022-06-12T18:35:41.930161",
     "exception": false,
     "start_time": "2022-06-12T18:35:41.818692",
     "status": "completed"
    },
    "tags": []
   },
   "outputs": [
    {
     "name": "stdout",
     "output_type": "stream",
     "text": [
      "Train Accuracy: 74.3\n",
      "Test Accuracy: 57.54\n"
     ]
    }
   ],
   "source": [
    "#K NEAREST NEIHBOR\n",
    "knn=KNeighborsClassifier(n_neighbors=3)\n",
    "knn.fit(x_train,y_train)\n",
    "train_accuracy=round(knn.score(x_train,y_train)*100,2)\n",
    "test_accuracy=round(knn.score(x_test,y_test)*100,2)\n",
    "\n",
    "print(\"Train Accuracy: \"+str(train_accuracy))\n",
    "print(\"Test Accuracy: \"+str(test_accuracy))"
   ]
  },
  {
   "cell_type": "code",
   "execution_count": 17,
   "id": "2be9d316",
   "metadata": {
    "execution": {
     "iopub.execute_input": "2022-06-12T18:35:41.955449Z",
     "iopub.status.busy": "2022-06-12T18:35:41.954878Z",
     "iopub.status.idle": "2022-06-12T18:35:41.976153Z",
     "shell.execute_reply": "2022-06-12T18:35:41.975264Z"
    },
    "papermill": {
     "duration": 0.036599,
     "end_time": "2022-06-12T18:35:41.979075",
     "exception": false,
     "start_time": "2022-06-12T18:35:41.942476",
     "status": "completed"
    },
    "tags": []
   },
   "outputs": [
    {
     "name": "stdout",
     "output_type": "stream",
     "text": [
      "Train Accuracy: 61.66\n",
      "Test Accuracy: 56.42\n"
     ]
    }
   ],
   "source": [
    "#NAIVE BAYES\n",
    "nb=GaussianNB()\n",
    "nb.fit(x_train,y_train)\n",
    "train_accuracy=round(nb.score(x_train,y_train)*100,2)\n",
    "test_accuracy=round(nb.score(x_test,y_test)*100,2)\n",
    "\n",
    "print(\"Train Accuracy: \"+str(train_accuracy))\n",
    "print(\"Test Accuracy: \"+str(test_accuracy))"
   ]
  },
  {
   "cell_type": "code",
   "execution_count": 18,
   "id": "8bce634c",
   "metadata": {
    "execution": {
     "iopub.execute_input": "2022-06-12T18:35:42.002961Z",
     "iopub.status.busy": "2022-06-12T18:35:42.002419Z",
     "iopub.status.idle": "2022-06-12T18:35:42.038481Z",
     "shell.execute_reply": "2022-06-12T18:35:42.037214Z"
    },
    "papermill": {
     "duration": 0.052336,
     "end_time": "2022-06-12T18:35:42.042289",
     "exception": false,
     "start_time": "2022-06-12T18:35:41.989953",
     "status": "completed"
    },
    "tags": []
   },
   "outputs": [
    {
     "name": "stdout",
     "output_type": "stream",
     "text": [
      "Train Accuracy: 61.8\n",
      "Test Accuracy: 59.22\n"
     ]
    },
    {
     "name": "stderr",
     "output_type": "stream",
     "text": [
      "/opt/conda/lib/python3.7/site-packages/sklearn/linear_model/_stochastic_gradient.py:700: ConvergenceWarning: Maximum number of iteration reached before convergence. Consider increasing max_iter to improve the fit.\n",
      "  ConvergenceWarning,\n"
     ]
    }
   ],
   "source": [
    "#PERCEPTRON\n",
    "perceptron=Perceptron(max_iter=5)\n",
    "perceptron.fit(x_train,y_train)\n",
    "train_accuracy=round(perceptron.score(x_train,y_train)*100,2)\n",
    "test_accuracy=round(perceptron.score(x_test,y_test)*100,2)\n",
    "\n",
    "print(\"Train Accuracy: \"+str(train_accuracy))\n",
    "print(\"Test Accuracy: \"+str(test_accuracy))"
   ]
  },
  {
   "cell_type": "code",
   "execution_count": 19,
   "id": "2807289d",
   "metadata": {
    "execution": {
     "iopub.execute_input": "2022-06-12T18:35:42.068014Z",
     "iopub.status.busy": "2022-06-12T18:35:42.067444Z",
     "iopub.status.idle": "2022-06-12T18:35:42.164096Z",
     "shell.execute_reply": "2022-06-12T18:35:42.162898Z"
    },
    "papermill": {
     "duration": 0.113059,
     "end_time": "2022-06-12T18:35:42.167673",
     "exception": false,
     "start_time": "2022-06-12T18:35:42.054614",
     "status": "completed"
    },
    "tags": []
   },
   "outputs": [
    {
     "name": "stdout",
     "output_type": "stream",
     "text": [
      "Train Accuracy: 44.1\n",
      "Test Accuracy: 44.13\n"
     ]
    },
    {
     "name": "stderr",
     "output_type": "stream",
     "text": [
      "/opt/conda/lib/python3.7/site-packages/sklearn/svm/_base.py:1208: ConvergenceWarning: Liblinear failed to converge, increase the number of iterations.\n",
      "  ConvergenceWarning,\n"
     ]
    }
   ],
   "source": [
    "#LINEAR SVM\n",
    "linear_svc=LinearSVC()\n",
    "linear_svc.fit(x_train,y_train)\n",
    "train_accuracy=round(linear_svc.score(x_train,y_train)*100,2)\n",
    "test_accuracy=round(linear_svc.score(x_test,y_test)*100,2)\n",
    "\n",
    "print(\"Train Accuracy: \"+str(train_accuracy))\n",
    "print(\"Test Accuracy: \"+str(test_accuracy))"
   ]
  },
  {
   "cell_type": "code",
   "execution_count": 20,
   "id": "027f44f1",
   "metadata": {
    "execution": {
     "iopub.execute_input": "2022-06-12T18:35:42.194355Z",
     "iopub.status.busy": "2022-06-12T18:35:42.193750Z",
     "iopub.status.idle": "2022-06-12T18:35:42.225476Z",
     "shell.execute_reply": "2022-06-12T18:35:42.223477Z"
    },
    "papermill": {
     "duration": 0.049227,
     "end_time": "2022-06-12T18:35:42.229624",
     "exception": false,
     "start_time": "2022-06-12T18:35:42.180397",
     "status": "completed"
    },
    "tags": []
   },
   "outputs": [
    {
     "name": "stdout",
     "output_type": "stream",
     "text": [
      "Train Accuracy: 91.57\n",
      "Test Accuracy: 51.4\n"
     ]
    }
   ],
   "source": [
    "#DECISION TREE\n",
    "decision_tree=DecisionTreeClassifier()\n",
    "decision_tree.fit(x_train,y_train)\n",
    "train_accuracy=round(decision_tree.score(x_train,y_train)*100,2)\n",
    "test_accuracy=round(decision_tree.score(x_test,y_test)*100,2)\n",
    "\n",
    "print(\"Train Accuracy: \"+str(train_accuracy))\n",
    "print(\"Test Accuracy: \"+str(test_accuracy))"
   ]
  },
  {
   "cell_type": "code",
   "execution_count": null,
   "id": "900fe317",
   "metadata": {
    "papermill": {
     "duration": 0.011983,
     "end_time": "2022-06-12T18:35:42.253855",
     "exception": false,
     "start_time": "2022-06-12T18:35:42.241872",
     "status": "completed"
    },
    "tags": []
   },
   "outputs": [],
   "source": []
  }
 ],
 "metadata": {
  "kernelspec": {
   "display_name": "Python 3",
   "language": "python",
   "name": "python3"
  },
  "language_info": {
   "codemirror_mode": {
    "name": "ipython",
    "version": 3
   },
   "file_extension": ".py",
   "mimetype": "text/x-python",
   "name": "python",
   "nbconvert_exporter": "python",
   "pygments_lexer": "ipython3",
   "version": "3.7.12"
  },
  "papermill": {
   "default_parameters": {},
   "duration": 11.894669,
   "end_time": "2022-06-12T18:35:42.987342",
   "environment_variables": {},
   "exception": null,
   "input_path": "__notebook__.ipynb",
   "output_path": "__notebook__.ipynb",
   "parameters": {},
   "start_time": "2022-06-12T18:35:31.092673",
   "version": "2.3.4"
  }
 },
 "nbformat": 4,
 "nbformat_minor": 5
}
