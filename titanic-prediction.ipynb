{
 "cells": [
  {
   "cell_type": "code",
   "execution_count": 1,
   "id": "3d883267",
   "metadata": {
    "collapsed": true,
    "execution": {
     "iopub.execute_input": "2022-06-12T19:23:32.486015Z",
     "iopub.status.busy": "2022-06-12T19:23:32.485332Z",
     "iopub.status.idle": "2022-06-12T19:23:34.138692Z",
     "shell.execute_reply": "2022-06-12T19:23:34.137907Z"
    },
    "jupyter": {
     "outputs_hidden": true
    },
    "papermill": {
     "duration": 1.665948,
     "end_time": "2022-06-12T19:23:34.140630",
     "exception": false,
     "start_time": "2022-06-12T19:23:32.474682",
     "status": "completed"
    },
    "tags": []
   },
   "outputs": [
    {
     "name": "stdout",
     "output_type": "stream",
     "text": [
      "/kaggle/input/titanic/train.csv\n",
      "/kaggle/input/titanic/test.csv\n",
      "/kaggle/input/titanic/gender_submission.csv\n"
     ]
    }
   ],
   "source": [
    "from __future__ import absolute_import, division, print_function, unicode_literals\n",
    "\n",
    "import numpy as np\n",
    "import pandas as pd\n",
    "import seaborn as sns\n",
    "\n",
    "from matplotlib import pyplot as plt\n",
    "from matplotlib import style\n",
    "\n",
    "from sklearn.model_selection import train_test_split\n",
    "\n",
    "from sklearn import linear_model\n",
    "from sklearn.linear_model import LogisticRegression\n",
    "from sklearn.ensemble import RandomForestClassifier\n",
    "from sklearn.linear_model import Perceptron\n",
    "from sklearn.linear_model import SGDClassifier\n",
    "from sklearn.tree import DecisionTreeClassifier\n",
    "from sklearn.neighbors import KNeighborsClassifier\n",
    "from sklearn.svm import SVC, LinearSVC\n",
    "from sklearn.naive_bayes import GaussianNB\n",
    "\n",
    "%matplotlib inline\n",
    "import os\n",
    "for dirname, _, filenames in os.walk('/kaggle/input'):\n",
    "    for filename in filenames:\n",
    "        print(os.path.join(dirname, filename))"
   ]
  },
  {
   "cell_type": "code",
   "execution_count": 2,
   "id": "a94d7f74",
   "metadata": {
    "execution": {
     "iopub.execute_input": "2022-06-12T19:23:34.153096Z",
     "iopub.status.busy": "2022-06-12T19:23:34.152515Z",
     "iopub.status.idle": "2022-06-12T19:23:34.185427Z",
     "shell.execute_reply": "2022-06-12T19:23:34.184338Z"
    },
    "papermill": {
     "duration": 0.041751,
     "end_time": "2022-06-12T19:23:34.187758",
     "exception": false,
     "start_time": "2022-06-12T19:23:34.146007",
     "status": "completed"
    },
    "tags": []
   },
   "outputs": [],
   "source": [
    "dftrain=pd.read_csv('/kaggle/input/titanic/train.csv')\n",
    "dftest=pd.read_csv('/kaggle/input/titanic/test.csv')"
   ]
  },
  {
   "cell_type": "code",
   "execution_count": 3,
   "id": "28d09630",
   "metadata": {
    "execution": {
     "iopub.execute_input": "2022-06-12T19:23:34.200532Z",
     "iopub.status.busy": "2022-06-12T19:23:34.199680Z",
     "iopub.status.idle": "2022-06-12T19:23:34.223858Z",
     "shell.execute_reply": "2022-06-12T19:23:34.223109Z"
    },
    "papermill": {
     "duration": 0.03273,
     "end_time": "2022-06-12T19:23:34.225847",
     "exception": false,
     "start_time": "2022-06-12T19:23:34.193117",
     "status": "completed"
    },
    "tags": []
   },
   "outputs": [
    {
     "data": {
      "text/html": [
       "<div>\n",
       "<style scoped>\n",
       "    .dataframe tbody tr th:only-of-type {\n",
       "        vertical-align: middle;\n",
       "    }\n",
       "\n",
       "    .dataframe tbody tr th {\n",
       "        vertical-align: top;\n",
       "    }\n",
       "\n",
       "    .dataframe thead th {\n",
       "        text-align: right;\n",
       "    }\n",
       "</style>\n",
       "<table border=\"1\" class=\"dataframe\">\n",
       "  <thead>\n",
       "    <tr style=\"text-align: right;\">\n",
       "      <th></th>\n",
       "      <th>PassengerId</th>\n",
       "      <th>Survived</th>\n",
       "      <th>Pclass</th>\n",
       "      <th>Name</th>\n",
       "      <th>Sex</th>\n",
       "      <th>Age</th>\n",
       "      <th>SibSp</th>\n",
       "      <th>Parch</th>\n",
       "      <th>Ticket</th>\n",
       "      <th>Fare</th>\n",
       "      <th>Cabin</th>\n",
       "      <th>Embarked</th>\n",
       "    </tr>\n",
       "  </thead>\n",
       "  <tbody>\n",
       "    <tr>\n",
       "      <th>0</th>\n",
       "      <td>1</td>\n",
       "      <td>0</td>\n",
       "      <td>3</td>\n",
       "      <td>Braund, Mr. Owen Harris</td>\n",
       "      <td>male</td>\n",
       "      <td>22.0</td>\n",
       "      <td>1</td>\n",
       "      <td>0</td>\n",
       "      <td>A/5 21171</td>\n",
       "      <td>7.2500</td>\n",
       "      <td>NaN</td>\n",
       "      <td>S</td>\n",
       "    </tr>\n",
       "    <tr>\n",
       "      <th>1</th>\n",
       "      <td>2</td>\n",
       "      <td>1</td>\n",
       "      <td>1</td>\n",
       "      <td>Cumings, Mrs. John Bradley (Florence Briggs Th...</td>\n",
       "      <td>female</td>\n",
       "      <td>38.0</td>\n",
       "      <td>1</td>\n",
       "      <td>0</td>\n",
       "      <td>PC 17599</td>\n",
       "      <td>71.2833</td>\n",
       "      <td>C85</td>\n",
       "      <td>C</td>\n",
       "    </tr>\n",
       "    <tr>\n",
       "      <th>2</th>\n",
       "      <td>3</td>\n",
       "      <td>1</td>\n",
       "      <td>3</td>\n",
       "      <td>Heikkinen, Miss. Laina</td>\n",
       "      <td>female</td>\n",
       "      <td>26.0</td>\n",
       "      <td>0</td>\n",
       "      <td>0</td>\n",
       "      <td>STON/O2. 3101282</td>\n",
       "      <td>7.9250</td>\n",
       "      <td>NaN</td>\n",
       "      <td>S</td>\n",
       "    </tr>\n",
       "    <tr>\n",
       "      <th>3</th>\n",
       "      <td>4</td>\n",
       "      <td>1</td>\n",
       "      <td>1</td>\n",
       "      <td>Futrelle, Mrs. Jacques Heath (Lily May Peel)</td>\n",
       "      <td>female</td>\n",
       "      <td>35.0</td>\n",
       "      <td>1</td>\n",
       "      <td>0</td>\n",
       "      <td>113803</td>\n",
       "      <td>53.1000</td>\n",
       "      <td>C123</td>\n",
       "      <td>S</td>\n",
       "    </tr>\n",
       "    <tr>\n",
       "      <th>4</th>\n",
       "      <td>5</td>\n",
       "      <td>0</td>\n",
       "      <td>3</td>\n",
       "      <td>Allen, Mr. William Henry</td>\n",
       "      <td>male</td>\n",
       "      <td>35.0</td>\n",
       "      <td>0</td>\n",
       "      <td>0</td>\n",
       "      <td>373450</td>\n",
       "      <td>8.0500</td>\n",
       "      <td>NaN</td>\n",
       "      <td>S</td>\n",
       "    </tr>\n",
       "  </tbody>\n",
       "</table>\n",
       "</div>"
      ],
      "text/plain": [
       "   PassengerId  Survived  Pclass  \\\n",
       "0            1         0       3   \n",
       "1            2         1       1   \n",
       "2            3         1       3   \n",
       "3            4         1       1   \n",
       "4            5         0       3   \n",
       "\n",
       "                                                Name     Sex   Age  SibSp  \\\n",
       "0                            Braund, Mr. Owen Harris    male  22.0      1   \n",
       "1  Cumings, Mrs. John Bradley (Florence Briggs Th...  female  38.0      1   \n",
       "2                             Heikkinen, Miss. Laina  female  26.0      0   \n",
       "3       Futrelle, Mrs. Jacques Heath (Lily May Peel)  female  35.0      1   \n",
       "4                           Allen, Mr. William Henry    male  35.0      0   \n",
       "\n",
       "   Parch            Ticket     Fare Cabin Embarked  \n",
       "0      0         A/5 21171   7.2500   NaN        S  \n",
       "1      0          PC 17599  71.2833   C85        C  \n",
       "2      0  STON/O2. 3101282   7.9250   NaN        S  \n",
       "3      0            113803  53.1000  C123        S  \n",
       "4      0            373450   8.0500   NaN        S  "
      ]
     },
     "execution_count": 3,
     "metadata": {},
     "output_type": "execute_result"
    }
   ],
   "source": [
    "dftrain.head()"
   ]
  },
  {
   "cell_type": "code",
   "execution_count": 4,
   "id": "a077aa19",
   "metadata": {
    "execution": {
     "iopub.execute_input": "2022-06-12T19:23:34.239368Z",
     "iopub.status.busy": "2022-06-12T19:23:34.238405Z",
     "iopub.status.idle": "2022-06-12T19:23:34.263636Z",
     "shell.execute_reply": "2022-06-12T19:23:34.262175Z"
    },
    "papermill": {
     "duration": 0.034183,
     "end_time": "2022-06-12T19:23:34.265799",
     "exception": false,
     "start_time": "2022-06-12T19:23:34.231616",
     "status": "completed"
    },
    "tags": []
   },
   "outputs": [
    {
     "name": "stdout",
     "output_type": "stream",
     "text": [
      "<class 'pandas.core.frame.DataFrame'>\n",
      "RangeIndex: 891 entries, 0 to 890\n",
      "Data columns (total 12 columns):\n",
      " #   Column       Non-Null Count  Dtype  \n",
      "---  ------       --------------  -----  \n",
      " 0   PassengerId  891 non-null    int64  \n",
      " 1   Survived     891 non-null    int64  \n",
      " 2   Pclass       891 non-null    int64  \n",
      " 3   Name         891 non-null    object \n",
      " 4   Sex          891 non-null    object \n",
      " 5   Age          714 non-null    float64\n",
      " 6   SibSp        891 non-null    int64  \n",
      " 7   Parch        891 non-null    int64  \n",
      " 8   Ticket       891 non-null    object \n",
      " 9   Fare         891 non-null    float64\n",
      " 10  Cabin        204 non-null    object \n",
      " 11  Embarked     889 non-null    object \n",
      "dtypes: float64(2), int64(5), object(5)\n",
      "memory usage: 83.7+ KB\n"
     ]
    }
   ],
   "source": [
    "dftrain.info()"
   ]
  },
  {
   "cell_type": "code",
   "execution_count": 5,
   "id": "53fe1f0d",
   "metadata": {
    "execution": {
     "iopub.execute_input": "2022-06-12T19:23:34.278915Z",
     "iopub.status.busy": "2022-06-12T19:23:34.278253Z",
     "iopub.status.idle": "2022-06-12T19:23:34.292468Z",
     "shell.execute_reply": "2022-06-12T19:23:34.291319Z"
    },
    "papermill": {
     "duration": 0.023002,
     "end_time": "2022-06-12T19:23:34.294497",
     "exception": false,
     "start_time": "2022-06-12T19:23:34.271495",
     "status": "completed"
    },
    "tags": []
   },
   "outputs": [
    {
     "name": "stdout",
     "output_type": "stream",
     "text": [
      "Null values\n",
      "             Total  Percentage\n",
      "PassengerId      0         0.0\n",
      "Survived         0         0.0\n",
      "Pclass           0         0.0\n",
      "Name             0         0.0\n",
      "Sex              0         0.0\n",
      "Age            177        19.9\n",
      "SibSp            0         0.0\n",
      "Parch            0         0.0\n",
      "Ticket           0         0.0\n",
      "Fare             0         0.0\n",
      "Cabin          687        77.1\n",
      "Embarked         2         0.2\n"
     ]
    }
   ],
   "source": [
    "null_values=dftrain.isnull().sum()   #get notal number of null values is each column\n",
    "percentage=dftrain.isnull().sum()/dftrain.isnull().count()*100 # get percentage of null values wrt total number of data points. dftrain.isnull().count() gives total number of data points in each column\n",
    "percentage=round(percentage,1) #round off\n",
    "\n",
    "missing_data=pd.concat([null_values,percentage],axis=1,keys=['Total','Percentage']) #combine into one dataframe\n",
    "\n",
    "print(\"Null values\")\n",
    "print(missing_data)"
   ]
  },
  {
   "cell_type": "code",
   "execution_count": 6,
   "id": "db120317",
   "metadata": {
    "execution": {
     "iopub.execute_input": "2022-06-12T19:23:34.307468Z",
     "iopub.status.busy": "2022-06-12T19:23:34.306835Z",
     "iopub.status.idle": "2022-06-12T19:23:34.314611Z",
     "shell.execute_reply": "2022-06-12T19:23:34.313632Z"
    },
    "papermill": {
     "duration": 0.01684,
     "end_time": "2022-06-12T19:23:34.316872",
     "exception": false,
     "start_time": "2022-06-12T19:23:34.300032",
     "status": "completed"
    },
    "tags": []
   },
   "outputs": [
    {
     "data": {
      "text/plain": [
       "S    644\n",
       "C    168\n",
       "Q     77\n",
       "Name: Embarked, dtype: int64"
      ]
     },
     "execution_count": 6,
     "metadata": {},
     "output_type": "execute_result"
    }
   ],
   "source": [
    "dftrain['Embarked'].value_counts()"
   ]
  },
  {
   "cell_type": "code",
   "execution_count": 7,
   "id": "53774678",
   "metadata": {
    "execution": {
     "iopub.execute_input": "2022-06-12T19:23:34.330415Z",
     "iopub.status.busy": "2022-06-12T19:23:34.330008Z",
     "iopub.status.idle": "2022-06-12T19:23:34.346542Z",
     "shell.execute_reply": "2022-06-12T19:23:34.345552Z"
    },
    "papermill": {
     "duration": 0.026182,
     "end_time": "2022-06-12T19:23:34.348816",
     "exception": false,
     "start_time": "2022-06-12T19:23:34.322634",
     "status": "completed"
    },
    "tags": []
   },
   "outputs": [],
   "source": [
    "#handling null values\n",
    "\n",
    "data=[dftrain,dftest]\n",
    "\n",
    "for dataset in data:\n",
    "    #filling missing values in Age\n",
    "    mean=dataset['Age'].mean()\n",
    "    std=dataset['Age'].std()\n",
    "    null_val=dataset['Age'].isnull().sum()  #get number of null values\n",
    "\n",
    "    age_fil=np.random.randint(mean-std,mean+std,size=null_val)  #create a list to store random values. Length of list--> no of null values\n",
    "\n",
    "    age_col=dataset['Age'].copy()\n",
    "    age_col[np.isnan(age_col)]=age_fil #assign random age value if the age value is NaN\n",
    "\n",
    "    dataset['Age']=age_col\n",
    "    \n",
    "    #filling null values in Embarked\n",
    "    dataset['Embarked']=dataset['Embarked'].fillna('S')  #S is the most occured embarked town. Since there are only 2 missing values,we can fill it with most occured value\n",
    "    \n",
    "    #filling null values in cabin type\n",
    "    dataset['Cabin']=dataset['Cabin'].fillna('N') #fill missing cabin values with N\n",
    "    dataset['Cabin_type']=dataset['Cabin'].apply(lambda x: x[0]) #create new feature to identify the first letter of the cabin, which actually repressent the cabin number"
   ]
  },
  {
   "cell_type": "code",
   "execution_count": 8,
   "id": "22e0bbbc",
   "metadata": {
    "execution": {
     "iopub.execute_input": "2022-06-12T19:23:34.361858Z",
     "iopub.status.busy": "2022-06-12T19:23:34.361466Z",
     "iopub.status.idle": "2022-06-12T19:23:34.368993Z",
     "shell.execute_reply": "2022-06-12T19:23:34.368020Z"
    },
    "papermill": {
     "duration": 0.016469,
     "end_time": "2022-06-12T19:23:34.370949",
     "exception": false,
     "start_time": "2022-06-12T19:23:34.354480",
     "status": "completed"
    },
    "tags": []
   },
   "outputs": [],
   "source": [
    "#extract designation form the name\n",
    "\n",
    "data=[dftrain, dftest]\n",
    "\n",
    "for dataset in data:\n",
    "    dataset['Name']=dataset[\"Name\"].apply(lambda x: x.split(',')[1].split('.')[0])"
   ]
  },
  {
   "cell_type": "code",
   "execution_count": 9,
   "id": "6b00ad7f",
   "metadata": {
    "execution": {
     "iopub.execute_input": "2022-06-12T19:23:34.384162Z",
     "iopub.status.busy": "2022-06-12T19:23:34.383116Z",
     "iopub.status.idle": "2022-06-12T19:23:34.391560Z",
     "shell.execute_reply": "2022-06-12T19:23:34.390587Z"
    },
    "papermill": {
     "duration": 0.016947,
     "end_time": "2022-06-12T19:23:34.393431",
     "exception": false,
     "start_time": "2022-06-12T19:23:34.376484",
     "status": "completed"
    },
    "tags": []
   },
   "outputs": [
    {
     "data": {
      "text/plain": [
       " Mr              517\n",
       " Miss            182\n",
       " Mrs             125\n",
       " Master           40\n",
       " Dr                7\n",
       " Rev               6\n",
       " Mlle              2\n",
       " Major             2\n",
       " Col               2\n",
       " the Countess      1\n",
       " Capt              1\n",
       " Ms                1\n",
       " Sir               1\n",
       " Lady              1\n",
       " Mme               1\n",
       " Don               1\n",
       " Jonkheer          1\n",
       "Name: Name, dtype: int64"
      ]
     },
     "execution_count": 9,
     "metadata": {},
     "output_type": "execute_result"
    }
   ],
   "source": [
    "dftrain['Name'].value_counts()"
   ]
  },
  {
   "cell_type": "code",
   "execution_count": 10,
   "id": "c7c7a1c7",
   "metadata": {
    "execution": {
     "iopub.execute_input": "2022-06-12T19:23:34.406726Z",
     "iopub.status.busy": "2022-06-12T19:23:34.405784Z",
     "iopub.status.idle": "2022-06-12T19:23:34.854423Z",
     "shell.execute_reply": "2022-06-12T19:23:34.853353Z"
    },
    "papermill": {
     "duration": 0.4575,
     "end_time": "2022-06-12T19:23:34.856578",
     "exception": false,
     "start_time": "2022-06-12T19:23:34.399078",
     "status": "completed"
    },
    "tags": []
   },
   "outputs": [
    {
     "data": {
      "text/plain": [
       "<AxesSubplot:xlabel='Name', ylabel='Survived'>"
      ]
     },
     "execution_count": 10,
     "metadata": {},
     "output_type": "execute_result"
    },
    {
     "data": {
      "image/png": "[encoded data removed]",
      "text/plain": [
       "<Figure size 432x288 with 1 Axes>"
      ]
     },
     "metadata": {
      "needs_background": "light"
     },
     "output_type": "display_data"
    }
   ],
   "source": [
    "sns.barplot(x='Name',y='Survived',data=dftrain)"
   ]
  },
  {
   "cell_type": "code",
   "execution_count": 11,
   "id": "ce1fd222",
   "metadata": {
    "execution": {
     "iopub.execute_input": "2022-06-12T19:23:34.870714Z",
     "iopub.status.busy": "2022-06-12T19:23:34.870329Z",
     "iopub.status.idle": "2022-06-12T19:23:34.878386Z",
     "shell.execute_reply": "2022-06-12T19:23:34.877460Z"
    },
    "papermill": {
     "duration": 0.017425,
     "end_time": "2022-06-12T19:23:34.880305",
     "exception": false,
     "start_time": "2022-06-12T19:23:34.862880",
     "status": "completed"
    },
    "tags": []
   },
   "outputs": [
    {
     "data": {
      "text/plain": [
       " Mr        240\n",
       " Miss       78\n",
       " Mrs        72\n",
       " Master     21\n",
       " Col         2\n",
       " Rev         2\n",
       " Ms          1\n",
       " Dr          1\n",
       " Dona        1\n",
       "Name: Name, dtype: int64"
      ]
     },
     "execution_count": 11,
     "metadata": {},
     "output_type": "execute_result"
    }
   ],
   "source": [
    "dftest['Name'].value_counts()"
   ]
  },
  {
   "cell_type": "code",
   "execution_count": 12,
   "id": "60e07add",
   "metadata": {
    "execution": {
     "iopub.execute_input": "2022-06-12T19:23:34.895121Z",
     "iopub.status.busy": "2022-06-12T19:23:34.893985Z",
     "iopub.status.idle": "2022-06-12T19:23:34.909887Z",
     "shell.execute_reply": "2022-06-12T19:23:34.909058Z"
    },
    "papermill": {
     "duration": 0.025213,
     "end_time": "2022-06-12T19:23:34.911787",
     "exception": false,
     "start_time": "2022-06-12T19:23:34.886574",
     "status": "completed"
    },
    "tags": []
   },
   "outputs": [
    {
     "data": {
      "text/html": [
       "<div>\n",
       "<style scoped>\n",
       "    .dataframe tbody tr th:only-of-type {\n",
       "        vertical-align: middle;\n",
       "    }\n",
       "\n",
       "    .dataframe tbody tr th {\n",
       "        vertical-align: top;\n",
       "    }\n",
       "\n",
       "    .dataframe thead th {\n",
       "        text-align: right;\n",
       "    }\n",
       "</style>\n",
       "<table border=\"1\" class=\"dataframe\">\n",
       "  <thead>\n",
       "    <tr style=\"text-align: right;\">\n",
       "      <th></th>\n",
       "      <th>PassengerId</th>\n",
       "      <th>Survived</th>\n",
       "      <th>Pclass</th>\n",
       "      <th>Name</th>\n",
       "      <th>Sex</th>\n",
       "      <th>Age</th>\n",
       "      <th>SibSp</th>\n",
       "      <th>Parch</th>\n",
       "      <th>Ticket</th>\n",
       "      <th>Fare</th>\n",
       "      <th>Cabin</th>\n",
       "      <th>Embarked</th>\n",
       "      <th>Cabin_type</th>\n",
       "    </tr>\n",
       "  </thead>\n",
       "  <tbody>\n",
       "    <tr>\n",
       "      <th>0</th>\n",
       "      <td>1</td>\n",
       "      <td>0</td>\n",
       "      <td>3</td>\n",
       "      <td>Mr</td>\n",
       "      <td>male</td>\n",
       "      <td>22.0</td>\n",
       "      <td>1</td>\n",
       "      <td>0</td>\n",
       "      <td>A/5 21171</td>\n",
       "      <td>7.2500</td>\n",
       "      <td>N</td>\n",
       "      <td>S</td>\n",
       "      <td>N</td>\n",
       "    </tr>\n",
       "    <tr>\n",
       "      <th>1</th>\n",
       "      <td>2</td>\n",
       "      <td>1</td>\n",
       "      <td>1</td>\n",
       "      <td>Mrs</td>\n",
       "      <td>female</td>\n",
       "      <td>38.0</td>\n",
       "      <td>1</td>\n",
       "      <td>0</td>\n",
       "      <td>PC 17599</td>\n",
       "      <td>71.2833</td>\n",
       "      <td>C85</td>\n",
       "      <td>C</td>\n",
       "      <td>C</td>\n",
       "    </tr>\n",
       "    <tr>\n",
       "      <th>2</th>\n",
       "      <td>3</td>\n",
       "      <td>1</td>\n",
       "      <td>3</td>\n",
       "      <td>Miss</td>\n",
       "      <td>female</td>\n",
       "      <td>26.0</td>\n",
       "      <td>0</td>\n",
       "      <td>0</td>\n",
       "      <td>STON/O2. 3101282</td>\n",
       "      <td>7.9250</td>\n",
       "      <td>N</td>\n",
       "      <td>S</td>\n",
       "      <td>N</td>\n",
       "    </tr>\n",
       "    <tr>\n",
       "      <th>3</th>\n",
       "      <td>4</td>\n",
       "      <td>1</td>\n",
       "      <td>1</td>\n",
       "      <td>Mrs</td>\n",
       "      <td>female</td>\n",
       "      <td>35.0</td>\n",
       "      <td>1</td>\n",
       "      <td>0</td>\n",
       "      <td>113803</td>\n",
       "      <td>53.1000</td>\n",
       "      <td>C123</td>\n",
       "      <td>S</td>\n",
       "      <td>C</td>\n",
       "    </tr>\n",
       "    <tr>\n",
       "      <th>4</th>\n",
       "      <td>5</td>\n",
       "      <td>0</td>\n",
       "      <td>3</td>\n",
       "      <td>Mr</td>\n",
       "      <td>male</td>\n",
       "      <td>35.0</td>\n",
       "      <td>0</td>\n",
       "      <td>0</td>\n",
       "      <td>373450</td>\n",
       "      <td>8.0500</td>\n",
       "      <td>N</td>\n",
       "      <td>S</td>\n",
       "      <td>N</td>\n",
       "    </tr>\n",
       "  </tbody>\n",
       "</table>\n",
       "</div>"
      ],
      "text/plain": [
       "   PassengerId  Survived  Pclass   Name     Sex   Age  SibSp  Parch  \\\n",
       "0            1         0       3     Mr    male  22.0      1      0   \n",
       "1            2         1       1    Mrs  female  38.0      1      0   \n",
       "2            3         1       3   Miss  female  26.0      0      0   \n",
       "3            4         1       1    Mrs  female  35.0      1      0   \n",
       "4            5         0       3     Mr    male  35.0      0      0   \n",
       "\n",
       "             Ticket     Fare Cabin Embarked Cabin_type  \n",
       "0         A/5 21171   7.2500     N        S          N  \n",
       "1          PC 17599  71.2833   C85        C          C  \n",
       "2  STON/O2. 3101282   7.9250     N        S          N  \n",
       "3            113803  53.1000  C123        S          C  \n",
       "4            373450   8.0500     N        S          N  "
      ]
     },
     "execution_count": 12,
     "metadata": {},
     "output_type": "execute_result"
    }
   ],
   "source": [
    "dftrain.head()"
   ]
  },
  {
   "cell_type": "code",
   "execution_count": 13,
   "id": "dd429001",
   "metadata": {
    "execution": {
     "iopub.execute_input": "2022-06-12T19:23:34.926877Z",
     "iopub.status.busy": "2022-06-12T19:23:34.926261Z",
     "iopub.status.idle": "2022-06-12T19:23:34.936298Z",
     "shell.execute_reply": "2022-06-12T19:23:34.935308Z"
    },
    "papermill": {
     "duration": 0.020613,
     "end_time": "2022-06-12T19:23:34.938625",
     "exception": false,
     "start_time": "2022-06-12T19:23:34.918012",
     "status": "completed"
    },
    "tags": []
   },
   "outputs": [],
   "source": [
    "#drop unwatend columns\n",
    "\n",
    "dftrain_new =dftrain.drop(columns=['PassengerId','Survived','Ticket','Fare','Cabin'], axis=1)\n",
    "dftest_new =dftest.drop(columns=['PassengerId','Ticket','Fare','Cabin'], axis=1)\n",
    "\n",
    "#train results\n",
    "predictions=dftrain['Survived']"
   ]
  },
  {
   "cell_type": "code",
   "execution_count": 14,
   "id": "8dbeefae",
   "metadata": {
    "execution": {
     "iopub.execute_input": "2022-06-12T19:23:34.954892Z",
     "iopub.status.busy": "2022-06-12T19:23:34.954535Z",
     "iopub.status.idle": "2022-06-12T19:23:34.967056Z",
     "shell.execute_reply": "2022-06-12T19:23:34.966080Z"
    },
    "papermill": {
     "duration": 0.024376,
     "end_time": "2022-06-12T19:23:34.969381",
     "exception": false,
     "start_time": "2022-06-12T19:23:34.945005",
     "status": "completed"
    },
    "tags": []
   },
   "outputs": [],
   "source": [
    "#encoding catagorical columns using one hot encoding\n",
    "training=pd.get_dummies(dftrain_new,drop_first=False)\n",
    "#test=pd.get_dummies(dftest_new,drop_first=False)"
   ]
  },
  {
   "cell_type": "code",
   "execution_count": 15,
   "id": "71e4b686",
   "metadata": {
    "execution": {
     "iopub.execute_input": "2022-06-12T19:23:34.984300Z",
     "iopub.status.busy": "2022-06-12T19:23:34.983607Z",
     "iopub.status.idle": "2022-06-12T19:23:34.990676Z",
     "shell.execute_reply": "2022-06-12T19:23:34.989923Z"
    },
    "papermill": {
     "duration": 0.016885,
     "end_time": "2022-06-12T19:23:34.992849",
     "exception": false,
     "start_time": "2022-06-12T19:23:34.975964",
     "status": "completed"
    },
    "tags": []
   },
   "outputs": [],
   "source": [
    "x_train,x_test=train_test_split(training,test_size=0.2)\n",
    "y_train,y_test=train_test_split(predictions,test_size=0.2)"
   ]
  },
  {
   "cell_type": "code",
   "execution_count": 16,
   "id": "38d9c7d9",
   "metadata": {
    "execution": {
     "iopub.execute_input": "2022-06-12T19:23:35.007332Z",
     "iopub.status.busy": "2022-06-12T19:23:35.006903Z",
     "iopub.status.idle": "2022-06-12T19:23:35.089803Z",
     "shell.execute_reply": "2022-06-12T19:23:35.088933Z"
    },
    "papermill": {
     "duration": 0.095809,
     "end_time": "2022-06-12T19:23:35.095107",
     "exception": false,
     "start_time": "2022-06-12T19:23:34.999298",
     "status": "completed"
    },
    "tags": []
   },
   "outputs": [
    {
     "name": "stdout",
     "output_type": "stream",
     "text": [
      "Train Accuracy: 61.66\n",
      "Test Accuracy: 63.13\n"
     ]
    },
    {
     "name": "stderr",
     "output_type": "stream",
     "text": [
      "/opt/conda/lib/python3.7/site-packages/sklearn/linear_model/_logistic.py:818: ConvergenceWarning: lbfgs failed to converge (status=1):\n",
      "STOP: TOTAL NO. of ITERATIONS REACHED LIMIT.\n",
      "\n",
      "Increase the number of iterations (max_iter) or scale the data as shown in:\n",
      "    https://scikit-learn.org/stable/modules/preprocessing.html\n",
      "Please also refer to the documentation for alternative solver options:\n",
      "    https://scikit-learn.org/stable/modules/linear_model.html#logistic-regression\n",
      "  extra_warning_msg=_LOGISTIC_SOLVER_CONVERGENCE_MSG,\n"
     ]
    }
   ],
   "source": [
    "#LOGISTIC REGRESSION\n",
    "log_reg=LogisticRegression()\n",
    "log_reg.fit(x_train,y_train)\n",
    "train_accuracy=round(log_reg.score(x_train,y_train)*100,2)\n",
    "test_accuracy=round(log_reg.score(x_test,y_test)*100,2)\n",
    "\n",
    "print(\"Train Accuracy: \"+str(train_accuracy))\n",
    "print(\"Test Accuracy: \"+str(test_accuracy))"
   ]
  },
  {
   "cell_type": "code",
   "execution_count": 17,
   "id": "26e24ea0",
   "metadata": {
    "execution": {
     "iopub.execute_input": "2022-06-12T19:23:35.123564Z",
     "iopub.status.busy": "2022-06-12T19:23:35.123007Z",
     "iopub.status.idle": "2022-06-12T19:23:35.393069Z",
     "shell.execute_reply": "2022-06-12T19:23:35.392154Z"
    },
    "papermill": {
     "duration": 0.28827,
     "end_time": "2022-06-12T19:23:35.396160",
     "exception": false,
     "start_time": "2022-06-12T19:23:35.107890",
     "status": "completed"
    },
    "tags": []
   },
   "outputs": [
    {
     "name": "stdout",
     "output_type": "stream",
     "text": [
      "Train Accuracy: 89.61\n",
      "Test Accuracy: 59.22\n"
     ]
    }
   ],
   "source": [
    "#RANDOM FOREST\n",
    "rand_forest=RandomForestClassifier(n_estimators=100)\n",
    "rand_forest.fit(x_train,y_train)\n",
    "train_accuracy=round(rand_forest.score(x_train,y_train)*100,2)\n",
    "test_accuracy=round(rand_forest.score(x_test,y_test)*100,2)\n",
    "\n",
    "print(\"Train Accuracy: \"+str(train_accuracy))\n",
    "print(\"Test Accuracy: \"+str(test_accuracy))"
   ]
  },
  {
   "cell_type": "code",
   "execution_count": 18,
   "id": "ffc062d1",
   "metadata": {
    "execution": {
     "iopub.execute_input": "2022-06-12T19:23:35.412144Z",
     "iopub.status.busy": "2022-06-12T19:23:35.411374Z",
     "iopub.status.idle": "2022-06-12T19:23:35.429522Z",
     "shell.execute_reply": "2022-06-12T19:23:35.428235Z"
    },
    "papermill": {
     "duration": 0.031312,
     "end_time": "2022-06-12T19:23:35.435019",
     "exception": false,
     "start_time": "2022-06-12T19:23:35.403707",
     "status": "completed"
    },
    "tags": []
   },
   "outputs": [
    {
     "name": "stdout",
     "output_type": "stream",
     "text": [
      "Train Accuracy: 61.1\n",
      "Test Accuracy: 65.36\n"
     ]
    }
   ],
   "source": [
    "#STOCHASTIC GRADIENT DESCENT\n",
    "sgd=SGDClassifier(max_iter=5,tol=None)\n",
    "sgd.fit(x_train,y_train)\n",
    "train_accuracy=round(sgd.score(x_train,y_train)*100,2)\n",
    "test_accuracy=round(sgd.score(x_test,y_test)*100,2)\n",
    "\n",
    "print(\"Train Accuracy: \"+str(train_accuracy))\n",
    "print(\"Test Accuracy: \"+str(test_accuracy))"
   ]
  },
  {
   "cell_type": "code",
   "execution_count": 19,
   "id": "cbda78fb",
   "metadata": {
    "execution": {
     "iopub.execute_input": "2022-06-12T19:23:35.465132Z",
     "iopub.status.busy": "2022-06-12T19:23:35.463584Z",
     "iopub.status.idle": "2022-06-12T19:23:35.550215Z",
     "shell.execute_reply": "2022-06-12T19:23:35.549322Z"
    },
    "papermill": {
     "duration": 0.104542,
     "end_time": "2022-06-12T19:23:35.553561",
     "exception": false,
     "start_time": "2022-06-12T19:23:35.449019",
     "status": "completed"
    },
    "tags": []
   },
   "outputs": [
    {
     "name": "stdout",
     "output_type": "stream",
     "text": [
      "Train Accuracy: 71.63\n",
      "Test Accuracy: 52.51\n"
     ]
    }
   ],
   "source": [
    "#K NEAREST NEIHBOR\n",
    "knn=KNeighborsClassifier(n_neighbors=3)\n",
    "knn.fit(x_train,y_train)\n",
    "train_accuracy=round(knn.score(x_train,y_train)*100,2)\n",
    "test_accuracy=round(knn.score(x_test,y_test)*100,2)\n",
    "\n",
    "print(\"Train Accuracy: \"+str(train_accuracy))\n",
    "print(\"Test Accuracy: \"+str(test_accuracy))"
   ]
  },
  {
   "cell_type": "code",
   "execution_count": 20,
   "id": "b8005cf9",
   "metadata": {
    "execution": {
     "iopub.execute_input": "2022-06-12T19:23:35.582662Z",
     "iopub.status.busy": "2022-06-12T19:23:35.582242Z",
     "iopub.status.idle": "2022-06-12T19:23:35.610165Z",
     "shell.execute_reply": "2022-06-12T19:23:35.608194Z"
    },
    "papermill": {
     "duration": 0.04705,
     "end_time": "2022-06-12T19:23:35.614278",
     "exception": false,
     "start_time": "2022-06-12T19:23:35.567228",
     "status": "completed"
    },
    "tags": []
   },
   "outputs": [
    {
     "name": "stdout",
     "output_type": "stream",
     "text": [
      "Train Accuracy: 40.87\n",
      "Test Accuracy: 34.64\n"
     ]
    }
   ],
   "source": [
    "#NAIVE BAYES\n",
    "nb=GaussianNB()\n",
    "nb.fit(x_train,y_train)\n",
    "train_accuracy=round(nb.score(x_train,y_train)*100,2)\n",
    "test_accuracy=round(nb.score(x_test,y_test)*100,2)\n",
    "\n",
    "print(\"Train Accuracy: \"+str(train_accuracy))\n",
    "print(\"Test Accuracy: \"+str(test_accuracy))"
   ]
  },
  {
   "cell_type": "code",
   "execution_count": 21,
   "id": "5b086962",
   "metadata": {
    "execution": {
     "iopub.execute_input": "2022-06-12T19:23:35.643683Z",
     "iopub.status.busy": "2022-06-12T19:23:35.643101Z",
     "iopub.status.idle": "2022-06-12T19:23:35.677873Z",
     "shell.execute_reply": "2022-06-12T19:23:35.676733Z"
    },
    "papermill": {
     "duration": 0.052921,
     "end_time": "2022-06-12T19:23:35.681233",
     "exception": false,
     "start_time": "2022-06-12T19:23:35.628312",
     "status": "completed"
    },
    "tags": []
   },
   "outputs": [
    {
     "name": "stdout",
     "output_type": "stream",
     "text": [
      "Train Accuracy: 60.67\n",
      "Test Accuracy: 65.36\n"
     ]
    },
    {
     "name": "stderr",
     "output_type": "stream",
     "text": [
      "/opt/conda/lib/python3.7/site-packages/sklearn/linear_model/_stochastic_gradient.py:700: ConvergenceWarning: Maximum number of iteration reached before convergence. Consider increasing max_iter to improve the fit.\n",
      "  ConvergenceWarning,\n"
     ]
    }
   ],
   "source": [
    "#PERCEPTRON\n",
    "perceptron=Perceptron(max_iter=5)\n",
    "perceptron.fit(x_train,y_train)\n",
    "train_accuracy=round(perceptron.score(x_train,y_train)*100,2)\n",
    "test_accuracy=round(perceptron.score(x_test,y_test)*100,2)\n",
    "\n",
    "print(\"Train Accuracy: \"+str(train_accuracy))\n",
    "print(\"Test Accuracy: \"+str(test_accuracy))"
   ]
  },
  {
   "cell_type": "code",
   "execution_count": 22,
   "id": "1e645fe9",
   "metadata": {
    "execution": {
     "iopub.execute_input": "2022-06-12T19:23:35.710586Z",
     "iopub.status.busy": "2022-06-12T19:23:35.710028Z",
     "iopub.status.idle": "2022-06-12T19:23:35.805740Z",
     "shell.execute_reply": "2022-06-12T19:23:35.804588Z"
    },
    "papermill": {
     "duration": 0.113865,
     "end_time": "2022-06-12T19:23:35.809165",
     "exception": false,
     "start_time": "2022-06-12T19:23:35.695300",
     "status": "completed"
    },
    "tags": []
   },
   "outputs": [
    {
     "name": "stdout",
     "output_type": "stream",
     "text": [
      "Train Accuracy: 60.81\n",
      "Test Accuracy: 62.57\n"
     ]
    },
    {
     "name": "stderr",
     "output_type": "stream",
     "text": [
      "/opt/conda/lib/python3.7/site-packages/sklearn/svm/_base.py:1208: ConvergenceWarning: Liblinear failed to converge, increase the number of iterations.\n",
      "  ConvergenceWarning,\n"
     ]
    }
   ],
   "source": [
    "#LINEAR SVM\n",
    "linear_svc=LinearSVC()\n",
    "linear_svc.fit(x_train,y_train)\n",
    "train_accuracy=round(linear_svc.score(x_train,y_train)*100,2)\n",
    "test_accuracy=round(linear_svc.score(x_test,y_test)*100,2)\n",
    "\n",
    "print(\"Train Accuracy: \"+str(train_accuracy))\n",
    "print(\"Test Accuracy: \"+str(test_accuracy))"
   ]
  },
  {
   "cell_type": "code",
   "execution_count": 23,
   "id": "3f942091",
   "metadata": {
    "execution": {
     "iopub.execute_input": "2022-06-12T19:23:35.839601Z",
     "iopub.status.busy": "2022-06-12T19:23:35.839018Z",
     "iopub.status.idle": "2022-06-12T19:23:35.871555Z",
     "shell.execute_reply": "2022-06-12T19:23:35.869631Z"
    },
    "papermill": {
     "duration": 0.051801,
     "end_time": "2022-06-12T19:23:35.875470",
     "exception": false,
     "start_time": "2022-06-12T19:23:35.823669",
     "status": "completed"
    },
    "tags": []
   },
   "outputs": [
    {
     "name": "stdout",
     "output_type": "stream",
     "text": [
      "Train Accuracy: 89.61\n",
      "Test Accuracy: 58.1\n"
     ]
    }
   ],
   "source": [
    "#DECISION TREE\n",
    "decision_tree=DecisionTreeClassifier()\n",
    "decision_tree.fit(x_train,y_train)\n",
    "train_accuracy=round(decision_tree.score(x_train,y_train)*100,2)\n",
    "test_accuracy=round(decision_tree.score(x_test,y_test)*100,2)\n",
    "\n",
    "print(\"Train Accuracy: \"+str(train_accuracy))\n",
    "print(\"Test Accuracy: \"+str(test_accuracy))"
   ]
  },
  {
   "cell_type": "code",
   "execution_count": null,
   "id": "fb6b8c2d",
   "metadata": {
    "papermill": {
     "duration": 0.013049,
     "end_time": "2022-06-12T19:23:35.902903",
     "exception": false,
     "start_time": "2022-06-12T19:23:35.889854",
     "status": "completed"
    },
    "tags": []
   },
   "outputs": [],
   "source": []
  }
 ],
 "metadata": {
  "kernelspec": {
   "display_name": "Python 3",
   "language": "python",
   "name": "python3"
  },
  "language_info": {
   "codemirror_mode": {
    "name": "ipython",
    "version": 3
   },
   "file_extension": ".py",
   "mimetype": "text/x-python",
   "name": "python",
   "nbconvert_exporter": "python",
   "pygments_lexer": "ipython3",
   "version": "3.7.12"
  },
  "papermill": {
   "default_parameters": {},
   "duration": 13.089837,
   "end_time": "2022-06-12T19:23:36.635445",
   "environment_variables": {},
   "exception": null,
   "input_path": "__notebook__.ipynb",
   "output_path": "__notebook__.ipynb",
   "parameters": {},
   "start_time": "2022-06-12T19:23:23.545608",
   "version": "2.3.4"
  }
 },
 "nbformat": 4,
 "nbformat_minor": 5
}
